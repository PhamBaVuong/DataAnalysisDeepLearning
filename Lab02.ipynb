{
  "nbformat": 4,
  "nbformat_minor": 0,
  "metadata": {
    "colab": {
      "name": "Lab02.ipynb",
      "provenance": [],
      "authorship_tag": "ABX9TyPh5lz1412QqDgt00bFqrjU",
      "include_colab_link": true
    },
    "kernelspec": {
      "name": "python3",
      "display_name": "Python 3"
    },
    "language_info": {
      "name": "python"
    }
  },
  "cells": [
    {
      "cell_type": "markdown",
      "metadata": {
        "id": "view-in-github",
        "colab_type": "text"
      },
      "source": [
        "<a href=\"https://colab.research.google.com/github/PhamBaVuong/DataAnalysisDeepLearning/blob/main/Lab02.ipynb\" target=\"_parent\"><img src=\"https://colab.research.google.com/assets/colab-badge.svg\" alt=\"Open In Colab\"/></a>"
      ]
    },
    {
      "cell_type": "markdown",
      "metadata": {
        "id": "HUrPI0rkWFUZ"
      },
      "source": [
        "**Example**"
      ]
    },
    {
      "cell_type": "code",
      "metadata": {
        "id": "rj1HFiozVk8E",
        "colab": {
          "resources": {
            "http://localhost:8080/nbextensions/google.colab/files.js": {
              "data": "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",
              "ok": true,
              "headers": [
                [
                  "content-type",
                  "application/javascript"
                ]
              ],
              "status": 200,
              "status_text": ""
            }
          },
          "base_uri": "https://localhost:8080/",
          "height": 73
        },
        "outputId": "908001f2-5e58-4a82-c64c-1503b9ffdaac"
      },
      "source": [
        "from google.colab import files\n",
        "uploaded1 = files.upload()"
      ],
      "execution_count": null,
      "outputs": [
        {
          "output_type": "display_data",
          "data": {
            "text/html": [
              "\n",
              "     <input type=\"file\" id=\"files-04b02e5a-a5ff-4b93-91b3-57b2b0055a7d\" name=\"files[]\" multiple disabled\n",
              "        style=\"border:none\" />\n",
              "     <output id=\"result-04b02e5a-a5ff-4b93-91b3-57b2b0055a7d\">\n",
              "      Upload widget is only available when the cell has been executed in the\n",
              "      current browser session. Please rerun this cell to enable.\n",
              "      </output>\n",
              "      <script src=\"/nbextensions/google.colab/files.js\"></script> "
            ],
            "text/plain": [
              "<IPython.core.display.HTML object>"
            ]
          },
          "metadata": {}
        },
        {
          "output_type": "stream",
          "name": "stdout",
          "text": [
            "Saving countriessample.csv to countriessample.csv\n"
          ]
        }
      ]
    },
    {
      "cell_type": "code",
      "metadata": {
        "id": "xosa5AHAVkZ3"
      },
      "source": [
        "import pandas as pd\n",
        "import sys\n",
        "import seaborn as sns\n",
        "import matplotlib.pyplot as plt"
      ],
      "execution_count": 135,
      "outputs": []
    },
    {
      "cell_type": "code",
      "metadata": {
        "id": "IGIiFL5rVt-I",
        "colab": {
          "base_uri": "https://localhost:8080/",
          "height": 203
        },
        "outputId": "d360445b-9d67-4acd-acca-b47e67ed27f7"
      },
      "source": [
        "def load_data(filename):\n",
        "  return pd.read_csv('https://raw.githubusercontent.com/huynhhoc/DataAnalystDeepLearning/main/Data/covid19/' + filename)\n",
        "dfcovid19 = load_data('countriessample.csv')\n",
        "dfcovid19.head()"
      ],
      "execution_count": null,
      "outputs": [
        {
          "output_type": "execute_result",
          "data": {
            "text/html": [
              "<div>\n",
              "<style scoped>\n",
              "    .dataframe tbody tr th:only-of-type {\n",
              "        vertical-align: middle;\n",
              "    }\n",
              "\n",
              "    .dataframe tbody tr th {\n",
              "        vertical-align: top;\n",
              "    }\n",
              "\n",
              "    .dataframe thead th {\n",
              "        text-align: right;\n",
              "    }\n",
              "</style>\n",
              "<table border=\"1\" class=\"dataframe\">\n",
              "  <thead>\n",
              "    <tr style=\"text-align: right;\">\n",
              "      <th></th>\n",
              "      <th>Date</th>\n",
              "      <th>CountryRegion</th>\n",
              "      <th>Confirmed</th>\n",
              "      <th>Recovered</th>\n",
              "      <th>Deaths</th>\n",
              "    </tr>\n",
              "  </thead>\n",
              "  <tbody>\n",
              "    <tr>\n",
              "      <th>0</th>\n",
              "      <td>1/22/2020</td>\n",
              "      <td>Ghana;Africa</td>\n",
              "      <td>NaN</td>\n",
              "      <td>NaN</td>\n",
              "      <td>0.0</td>\n",
              "    </tr>\n",
              "    <tr>\n",
              "      <th>1</th>\n",
              "      <td>1/22/2020</td>\n",
              "      <td>Greece;Europe</td>\n",
              "      <td>NaN</td>\n",
              "      <td>NaN</td>\n",
              "      <td>0.0</td>\n",
              "    </tr>\n",
              "    <tr>\n",
              "      <th>2</th>\n",
              "      <td>1/22/2020</td>\n",
              "      <td>Iceland;Europe</td>\n",
              "      <td>0.0</td>\n",
              "      <td>NaN</td>\n",
              "      <td>0.0</td>\n",
              "    </tr>\n",
              "    <tr>\n",
              "      <th>3</th>\n",
              "      <td>1/22/2020</td>\n",
              "      <td>India;Asia</td>\n",
              "      <td>0.0</td>\n",
              "      <td>NaN</td>\n",
              "      <td>0.0</td>\n",
              "    </tr>\n",
              "    <tr>\n",
              "      <th>4</th>\n",
              "      <td>1/22/2020</td>\n",
              "      <td>Indonesia;Asia</td>\n",
              "      <td>0.0</td>\n",
              "      <td>NaN</td>\n",
              "      <td>0.0</td>\n",
              "    </tr>\n",
              "  </tbody>\n",
              "</table>\n",
              "</div>"
            ],
            "text/plain": [
              "        Date   CountryRegion  Confirmed  Recovered  Deaths\n",
              "0  1/22/2020    Ghana;Africa        NaN        NaN     0.0\n",
              "1  1/22/2020   Greece;Europe        NaN        NaN     0.0\n",
              "2  1/22/2020  Iceland;Europe        0.0        NaN     0.0\n",
              "3  1/22/2020      India;Asia        0.0        NaN     0.0\n",
              "4  1/22/2020  Indonesia;Asia        0.0        NaN     0.0"
            ]
          },
          "metadata": {},
          "execution_count": 35
        }
      ]
    },
    {
      "cell_type": "markdown",
      "metadata": {
        "id": "1tHm3cvKWI51"
      },
      "source": [
        "**Example 1:**"
      ]
    },
    {
      "cell_type": "code",
      "metadata": {
        "id": "5B5N_X6mV91R",
        "colab": {
          "base_uri": "https://localhost:8080/",
          "height": 460
        },
        "outputId": "21177ca2-6974-4131-d881-d78ffcba7597"
      },
      "source": [
        "%matplotlib inline\n",
        "%config InlineBackend.figure_format = 'svg'\n",
        "sns.heatmap(dfcovid19.isna(), \n",
        "            yticklabels=False, \n",
        "            cbar=True, \n",
        "            cmap='viridis')"
      ],
      "execution_count": null,
      "outputs": [
        {
          "output_type": "execute_result",
          "data": {
            "text/plain": [
              "<matplotlib.axes._subplots.AxesSubplot at 0x7f2fa2d63d10>"
            ]
          },
          "metadata": {},
          "execution_count": 36
        },
        {
          "output_type": "display_data",
          "data": {
            "text/plain": [
              "<Figure size 432x288 with 2 Axes>"
            ],
            "image/svg+xml": "<?xml version=\"1.0\" encoding=\"utf-8\" standalone=\"no\"?>\n<!DOCTYPE svg PUBLIC \"-//W3C//DTD SVG 1.1//EN\"\n  \"http://www.w3.org/Graphics/SVG/1.1/DTD/svg11.dtd\">\n<!-- Created with matplotlib (https://matplotlib.org/) -->\n<svg height=\"316.600156pt\" version=\"1.1\" viewBox=\"0 0 332.755125 316.600156\" width=\"332.755125pt\" xmlns=\"http://www.w3.org/2000/svg\" xmlns:xlink=\"http://www.w3.org/1999/xlink\">\n <defs>\n  <style type=\"text/css\">\n*{stroke-linecap:butt;stroke-linejoin:round;}\n  </style>\n </defs>\n <g id=\"figure_1\">\n  <g id=\"patch_1\">\n   <path d=\"M 0 316.600156 \nL 332.755125 316.600156 \nL 332.755125 0 \nL 0 0 \nz\n\" style=\"fill:none;\"/>\n  </g>\n  <g id=\"axes_1\">\n   <g id=\"patch_2\">\n    <path d=\"M 7.2 228.439219 \nL 275.04 228.439219 \nL 275.04 10.999219 \nL 7.2 10.999219 \nz\n\" style=\"fill:#ffffff;\"/>\n   </g>\n   <g id=\"QuadMesh_1\">\n    <path clip-path=\"url(#p28d3ec431a)\" d=\"M 7.2 10.999219 \nL 60.768 10.999219 \nL 60.768 23.079219 \nL 7.2 23.079219 \nL 7.2 10.999219 \n\" style=\"fill:#440154;\"/>\n    <path clip-path=\"url(#p28d3ec431a)\" d=\"M 60.768 10.999219 \nL 114.336 10.999219 \nL 114.336 23.079219 \nL 60.768 23.079219 \nL 60.768 10.999219 \n\" style=\"fill:#440154;\"/>\n    <path clip-path=\"url(#p28d3ec431a)\" d=\"M 114.336 10.999219 \nL 167.904 10.999219 \nL 167.904 23.079219 \nL 114.336 23.079219 \nL 114.336 10.999219 \n\" style=\"fill:#fde725;\"/>\n    <path clip-path=\"url(#p28d3ec431a)\" d=\"M 167.904 10.999219 \nL 221.472 10.999219 \nL 221.472 23.079219 \nL 167.904 23.079219 \nL 167.904 10.999219 \n\" style=\"fill:#fde725;\"/>\n    <path clip-path=\"url(#p28d3ec431a)\" d=\"M 221.472 10.999219 \nL 275.04 10.999219 \nL 275.04 23.079219 \nL 221.472 23.079219 \nL 221.472 10.999219 \n\" style=\"fill:#440154;\"/>\n    <path clip-path=\"url(#p28d3ec431a)\" d=\"M 7.2 23.079219 \nL 60.768 23.079219 \nL 60.768 35.159219 \nL 7.2 35.159219 \nL 7.2 23.079219 \n\" style=\"fill:#440154;\"/>\n    <path clip-path=\"url(#p28d3ec431a)\" d=\"M 60.768 23.079219 \nL 114.336 23.079219 \nL 114.336 35.159219 \nL 60.768 35.159219 \nL 60.768 23.079219 \n\" style=\"fill:#440154;\"/>\n    <path clip-path=\"url(#p28d3ec431a)\" d=\"M 114.336 23.079219 \nL 167.904 23.079219 \nL 167.904 35.159219 \nL 114.336 35.159219 \nL 114.336 23.079219 \n\" style=\"fill:#fde725;\"/>\n    <path clip-path=\"url(#p28d3ec431a)\" d=\"M 167.904 23.079219 \nL 221.472 23.079219 \nL 221.472 35.159219 \nL 167.904 35.159219 \nL 167.904 23.079219 \n\" style=\"fill:#fde725;\"/>\n    <path clip-path=\"url(#p28d3ec431a)\" d=\"M 221.472 23.079219 \nL 275.04 23.079219 \nL 275.04 35.159219 \nL 221.472 35.159219 \nL 221.472 23.079219 \n\" style=\"fill:#440154;\"/>\n    <path clip-path=\"url(#p28d3ec431a)\" d=\"M 7.2 35.159219 \nL 60.768 35.159219 \nL 60.768 47.239219 \nL 7.2 47.239219 \nL 7.2 35.159219 \n\" style=\"fill:#440154;\"/>\n    <path clip-path=\"url(#p28d3ec431a)\" d=\"M 60.768 35.159219 \nL 114.336 35.159219 \nL 114.336 47.239219 \nL 60.768 47.239219 \nL 60.768 35.159219 \n\" style=\"fill:#440154;\"/>\n    <path clip-path=\"url(#p28d3ec431a)\" d=\"M 114.336 35.159219 \nL 167.904 35.159219 \nL 167.904 47.239219 \nL 114.336 47.239219 \nL 114.336 35.159219 \n\" style=\"fill:#440154;\"/>\n    <path clip-path=\"url(#p28d3ec431a)\" d=\"M 167.904 35.159219 \nL 221.472 35.159219 \nL 221.472 47.239219 \nL 167.904 47.239219 \nL 167.904 35.159219 \n\" style=\"fill:#fde725;\"/>\n    <path clip-path=\"url(#p28d3ec431a)\" d=\"M 221.472 35.159219 \nL 275.04 35.159219 \nL 275.04 47.239219 \nL 221.472 47.239219 \nL 221.472 35.159219 \n\" style=\"fill:#440154;\"/>\n    <path clip-path=\"url(#p28d3ec431a)\" d=\"M 7.2 47.239219 \nL 60.768 47.239219 \nL 60.768 59.319219 \nL 7.2 59.319219 \nL 7.2 47.239219 \n\" style=\"fill:#440154;\"/>\n    <path clip-path=\"url(#p28d3ec431a)\" d=\"M 60.768 47.239219 \nL 114.336 47.239219 \nL 114.336 59.319219 \nL 60.768 59.319219 \nL 60.768 47.239219 \n\" style=\"fill:#440154;\"/>\n    <path clip-path=\"url(#p28d3ec431a)\" d=\"M 114.336 47.239219 \nL 167.904 47.239219 \nL 167.904 59.319219 \nL 114.336 59.319219 \nL 114.336 47.239219 \n\" style=\"fill:#440154;\"/>\n    <path clip-path=\"url(#p28d3ec431a)\" d=\"M 167.904 47.239219 \nL 221.472 47.239219 \nL 221.472 59.319219 \nL 167.904 59.319219 \nL 167.904 47.239219 \n\" style=\"fill:#fde725;\"/>\n    <path clip-path=\"url(#p28d3ec431a)\" d=\"M 221.472 47.239219 \nL 275.04 47.239219 \nL 275.04 59.319219 \nL 221.472 59.319219 \nL 221.472 47.239219 \n\" style=\"fill:#440154;\"/>\n    <path clip-path=\"url(#p28d3ec431a)\" d=\"M 7.2 59.319219 \nL 60.768 59.319219 \nL 60.768 71.399219 \nL 7.2 71.399219 \nL 7.2 59.319219 \n\" style=\"fill:#440154;\"/>\n    <path clip-path=\"url(#p28d3ec431a)\" d=\"M 60.768 59.319219 \nL 114.336 59.319219 \nL 114.336 71.399219 \nL 60.768 71.399219 \nL 60.768 59.319219 \n\" style=\"fill:#440154;\"/>\n    <path clip-path=\"url(#p28d3ec431a)\" d=\"M 114.336 59.319219 \nL 167.904 59.319219 \nL 167.904 71.399219 \nL 114.336 71.399219 \nL 114.336 59.319219 \n\" style=\"fill:#440154;\"/>\n    <path clip-path=\"url(#p28d3ec431a)\" d=\"M 167.904 59.319219 \nL 221.472 59.319219 \nL 221.472 71.399219 \nL 167.904 71.399219 \nL 167.904 59.319219 \n\" style=\"fill:#fde725;\"/>\n    <path clip-path=\"url(#p28d3ec431a)\" d=\"M 221.472 59.319219 \nL 275.04 59.319219 \nL 275.04 71.399219 \nL 221.472 71.399219 \nL 221.472 59.319219 \n\" style=\"fill:#440154;\"/>\n    <path clip-path=\"url(#p28d3ec431a)\" d=\"M 7.2 71.399219 \nL 60.768 71.399219 \nL 60.768 83.479219 \nL 7.2 83.479219 \nL 7.2 71.399219 \n\" style=\"fill:#440154;\"/>\n    <path clip-path=\"url(#p28d3ec431a)\" d=\"M 60.768 71.399219 \nL 114.336 71.399219 \nL 114.336 83.479219 \nL 60.768 83.479219 \nL 60.768 71.399219 \n\" style=\"fill:#440154;\"/>\n    <path clip-path=\"url(#p28d3ec431a)\" d=\"M 114.336 71.399219 \nL 167.904 71.399219 \nL 167.904 83.479219 \nL 114.336 83.479219 \nL 114.336 71.399219 \n\" style=\"fill:#440154;\"/>\n    <path clip-path=\"url(#p28d3ec431a)\" d=\"M 167.904 71.399219 \nL 221.472 71.399219 \nL 221.472 83.479219 \nL 167.904 83.479219 \nL 167.904 71.399219 \n\" style=\"fill:#fde725;\"/>\n    <path clip-path=\"url(#p28d3ec431a)\" d=\"M 221.472 71.399219 \nL 275.04 71.399219 \nL 275.04 83.479219 \nL 221.472 83.479219 \nL 221.472 71.399219 \n\" style=\"fill:#440154;\"/>\n    <path clip-path=\"url(#p28d3ec431a)\" d=\"M 7.2 83.479219 \nL 60.768 83.479219 \nL 60.768 95.559219 \nL 7.2 95.559219 \nL 7.2 83.479219 \n\" style=\"fill:#440154;\"/>\n    <path clip-path=\"url(#p28d3ec431a)\" d=\"M 60.768 83.479219 \nL 114.336 83.479219 \nL 114.336 95.559219 \nL 60.768 95.559219 \nL 60.768 83.479219 \n\" style=\"fill:#440154;\"/>\n    <path clip-path=\"url(#p28d3ec431a)\" d=\"M 114.336 83.479219 \nL 167.904 83.479219 \nL 167.904 95.559219 \nL 114.336 95.559219 \nL 114.336 83.479219 \n\" style=\"fill:#440154;\"/>\n    <path clip-path=\"url(#p28d3ec431a)\" d=\"M 167.904 83.479219 \nL 221.472 83.479219 \nL 221.472 95.559219 \nL 167.904 95.559219 \nL 167.904 83.479219 \n\" style=\"fill:#fde725;\"/>\n    <path clip-path=\"url(#p28d3ec431a)\" d=\"M 221.472 83.479219 \nL 275.04 83.479219 \nL 275.04 95.559219 \nL 221.472 95.559219 \nL 221.472 83.479219 \n\" style=\"fill:#fde725;\"/>\n    <path clip-path=\"url(#p28d3ec431a)\" d=\"M 7.2 95.559219 \nL 60.768 95.559219 \nL 60.768 107.639219 \nL 7.2 107.639219 \nL 7.2 95.559219 \n\" style=\"fill:#440154;\"/>\n    <path clip-path=\"url(#p28d3ec431a)\" d=\"M 60.768 95.559219 \nL 114.336 95.559219 \nL 114.336 107.639219 \nL 60.768 107.639219 \nL 60.768 95.559219 \n\" style=\"fill:#440154;\"/>\n    <path clip-path=\"url(#p28d3ec431a)\" d=\"M 114.336 95.559219 \nL 167.904 95.559219 \nL 167.904 107.639219 \nL 114.336 107.639219 \nL 114.336 95.559219 \n\" style=\"fill:#440154;\"/>\n    <path clip-path=\"url(#p28d3ec431a)\" d=\"M 167.904 95.559219 \nL 221.472 95.559219 \nL 221.472 107.639219 \nL 167.904 107.639219 \nL 167.904 95.559219 \n\" style=\"fill:#fde725;\"/>\n    <path clip-path=\"url(#p28d3ec431a)\" d=\"M 221.472 95.559219 \nL 275.04 95.559219 \nL 275.04 107.639219 \nL 221.472 107.639219 \nL 221.472 95.559219 \n\" style=\"fill:#fde725;\"/>\n    <path clip-path=\"url(#p28d3ec431a)\" d=\"M 7.2 107.639219 \nL 60.768 107.639219 \nL 60.768 119.719219 \nL 7.2 119.719219 \nL 7.2 107.639219 \n\" style=\"fill:#440154;\"/>\n    <path clip-path=\"url(#p28d3ec431a)\" d=\"M 60.768 107.639219 \nL 114.336 107.639219 \nL 114.336 119.719219 \nL 60.768 119.719219 \nL 60.768 107.639219 \n\" style=\"fill:#440154;\"/>\n    <path clip-path=\"url(#p28d3ec431a)\" d=\"M 114.336 107.639219 \nL 167.904 107.639219 \nL 167.904 119.719219 \nL 114.336 119.719219 \nL 114.336 107.639219 \n\" style=\"fill:#440154;\"/>\n    <path clip-path=\"url(#p28d3ec431a)\" d=\"M 167.904 107.639219 \nL 221.472 107.639219 \nL 221.472 119.719219 \nL 167.904 119.719219 \nL 167.904 107.639219 \n\" style=\"fill:#440154;\"/>\n    <path clip-path=\"url(#p28d3ec431a)\" d=\"M 221.472 107.639219 \nL 275.04 107.639219 \nL 275.04 119.719219 \nL 221.472 119.719219 \nL 221.472 107.639219 \n\" style=\"fill:#440154;\"/>\n    <path clip-path=\"url(#p28d3ec431a)\" d=\"M 7.2 119.719219 \nL 60.768 119.719219 \nL 60.768 131.799219 \nL 7.2 131.799219 \nL 7.2 119.719219 \n\" style=\"fill:#440154;\"/>\n    <path clip-path=\"url(#p28d3ec431a)\" d=\"M 60.768 119.719219 \nL 114.336 119.719219 \nL 114.336 131.799219 \nL 60.768 131.799219 \nL 60.768 119.719219 \n\" style=\"fill:#440154;\"/>\n    <path clip-path=\"url(#p28d3ec431a)\" d=\"M 114.336 119.719219 \nL 167.904 119.719219 \nL 167.904 131.799219 \nL 114.336 131.799219 \nL 114.336 119.719219 \n\" style=\"fill:#440154;\"/>\n    <path clip-path=\"url(#p28d3ec431a)\" d=\"M 167.904 119.719219 \nL 221.472 119.719219 \nL 221.472 131.799219 \nL 167.904 131.799219 \nL 167.904 119.719219 \n\" style=\"fill:#440154;\"/>\n    <path clip-path=\"url(#p28d3ec431a)\" d=\"M 221.472 119.719219 \nL 275.04 119.719219 \nL 275.04 131.799219 \nL 221.472 131.799219 \nL 221.472 119.719219 \n\" style=\"fill:#440154;\"/>\n    <path clip-path=\"url(#p28d3ec431a)\" d=\"M 7.2 131.799219 \nL 60.768 131.799219 \nL 60.768 143.879219 \nL 7.2 143.879219 \nL 7.2 131.799219 \n\" style=\"fill:#440154;\"/>\n    <path clip-path=\"url(#p28d3ec431a)\" d=\"M 60.768 131.799219 \nL 114.336 131.799219 \nL 114.336 143.879219 \nL 60.768 143.879219 \nL 60.768 131.799219 \n\" style=\"fill:#440154;\"/>\n    <path clip-path=\"url(#p28d3ec431a)\" d=\"M 114.336 131.799219 \nL 167.904 131.799219 \nL 167.904 143.879219 \nL 114.336 143.879219 \nL 114.336 131.799219 \n\" style=\"fill:#440154;\"/>\n    <path clip-path=\"url(#p28d3ec431a)\" d=\"M 167.904 131.799219 \nL 221.472 131.799219 \nL 221.472 143.879219 \nL 167.904 143.879219 \nL 167.904 131.799219 \n\" style=\"fill:#440154;\"/>\n    <path clip-path=\"url(#p28d3ec431a)\" d=\"M 221.472 131.799219 \nL 275.04 131.799219 \nL 275.04 143.879219 \nL 221.472 143.879219 \nL 221.472 131.799219 \n\" style=\"fill:#440154;\"/>\n    <path clip-path=\"url(#p28d3ec431a)\" d=\"M 7.2 143.879219 \nL 60.768 143.879219 \nL 60.768 155.959219 \nL 7.2 155.959219 \nL 7.2 143.879219 \n\" style=\"fill:#440154;\"/>\n    <path clip-path=\"url(#p28d3ec431a)\" d=\"M 60.768 143.879219 \nL 114.336 143.879219 \nL 114.336 155.959219 \nL 60.768 155.959219 \nL 60.768 143.879219 \n\" style=\"fill:#440154;\"/>\n    <path clip-path=\"url(#p28d3ec431a)\" d=\"M 114.336 143.879219 \nL 167.904 143.879219 \nL 167.904 155.959219 \nL 114.336 155.959219 \nL 114.336 143.879219 \n\" style=\"fill:#440154;\"/>\n    <path clip-path=\"url(#p28d3ec431a)\" d=\"M 167.904 143.879219 \nL 221.472 143.879219 \nL 221.472 155.959219 \nL 167.904 155.959219 \nL 167.904 143.879219 \n\" style=\"fill:#440154;\"/>\n    <path clip-path=\"url(#p28d3ec431a)\" d=\"M 221.472 143.879219 \nL 275.04 143.879219 \nL 275.04 155.959219 \nL 221.472 155.959219 \nL 221.472 143.879219 \n\" style=\"fill:#440154;\"/>\n    <path clip-path=\"url(#p28d3ec431a)\" d=\"M 7.2 155.959219 \nL 60.768 155.959219 \nL 60.768 168.039219 \nL 7.2 168.039219 \nL 7.2 155.959219 \n\" style=\"fill:#440154;\"/>\n    <path clip-path=\"url(#p28d3ec431a)\" d=\"M 60.768 155.959219 \nL 114.336 155.959219 \nL 114.336 168.039219 \nL 60.768 168.039219 \nL 60.768 155.959219 \n\" style=\"fill:#440154;\"/>\n    <path clip-path=\"url(#p28d3ec431a)\" d=\"M 114.336 155.959219 \nL 167.904 155.959219 \nL 167.904 168.039219 \nL 114.336 168.039219 \nL 114.336 155.959219 \n\" style=\"fill:#440154;\"/>\n    <path clip-path=\"url(#p28d3ec431a)\" d=\"M 167.904 155.959219 \nL 221.472 155.959219 \nL 221.472 168.039219 \nL 167.904 168.039219 \nL 167.904 155.959219 \n\" style=\"fill:#440154;\"/>\n    <path clip-path=\"url(#p28d3ec431a)\" d=\"M 221.472 155.959219 \nL 275.04 155.959219 \nL 275.04 168.039219 \nL 221.472 168.039219 \nL 221.472 155.959219 \n\" style=\"fill:#440154;\"/>\n    <path clip-path=\"url(#p28d3ec431a)\" d=\"M 7.2 168.039219 \nL 60.768 168.039219 \nL 60.768 180.119219 \nL 7.2 180.119219 \nL 7.2 168.039219 \n\" style=\"fill:#440154;\"/>\n    <path clip-path=\"url(#p28d3ec431a)\" d=\"M 60.768 168.039219 \nL 114.336 168.039219 \nL 114.336 180.119219 \nL 60.768 180.119219 \nL 60.768 168.039219 \n\" style=\"fill:#440154;\"/>\n    <path clip-path=\"url(#p28d3ec431a)\" d=\"M 114.336 168.039219 \nL 167.904 168.039219 \nL 167.904 180.119219 \nL 114.336 180.119219 \nL 114.336 168.039219 \n\" style=\"fill:#440154;\"/>\n    <path clip-path=\"url(#p28d3ec431a)\" d=\"M 167.904 168.039219 \nL 221.472 168.039219 \nL 221.472 180.119219 \nL 167.904 180.119219 \nL 167.904 168.039219 \n\" style=\"fill:#440154;\"/>\n    <path clip-path=\"url(#p28d3ec431a)\" d=\"M 221.472 168.039219 \nL 275.04 168.039219 \nL 275.04 180.119219 \nL 221.472 180.119219 \nL 221.472 168.039219 \n\" style=\"fill:#440154;\"/>\n    <path clip-path=\"url(#p28d3ec431a)\" d=\"M 7.2 180.119219 \nL 60.768 180.119219 \nL 60.768 192.199219 \nL 7.2 192.199219 \nL 7.2 180.119219 \n\" style=\"fill:#440154;\"/>\n    <path clip-path=\"url(#p28d3ec431a)\" d=\"M 60.768 180.119219 \nL 114.336 180.119219 \nL 114.336 192.199219 \nL 60.768 192.199219 \nL 60.768 180.119219 \n\" style=\"fill:#440154;\"/>\n    <path clip-path=\"url(#p28d3ec431a)\" d=\"M 114.336 180.119219 \nL 167.904 180.119219 \nL 167.904 192.199219 \nL 114.336 192.199219 \nL 114.336 180.119219 \n\" style=\"fill:#440154;\"/>\n    <path clip-path=\"url(#p28d3ec431a)\" d=\"M 167.904 180.119219 \nL 221.472 180.119219 \nL 221.472 192.199219 \nL 167.904 192.199219 \nL 167.904 180.119219 \n\" style=\"fill:#440154;\"/>\n    <path clip-path=\"url(#p28d3ec431a)\" d=\"M 221.472 180.119219 \nL 275.04 180.119219 \nL 275.04 192.199219 \nL 221.472 192.199219 \nL 221.472 180.119219 \n\" style=\"fill:#440154;\"/>\n    <path clip-path=\"url(#p28d3ec431a)\" d=\"M 7.2 192.199219 \nL 60.768 192.199219 \nL 60.768 204.279219 \nL 7.2 204.279219 \nL 7.2 192.199219 \n\" style=\"fill:#440154;\"/>\n    <path clip-path=\"url(#p28d3ec431a)\" d=\"M 60.768 192.199219 \nL 114.336 192.199219 \nL 114.336 204.279219 \nL 60.768 204.279219 \nL 60.768 192.199219 \n\" style=\"fill:#440154;\"/>\n    <path clip-path=\"url(#p28d3ec431a)\" d=\"M 114.336 192.199219 \nL 167.904 192.199219 \nL 167.904 204.279219 \nL 114.336 204.279219 \nL 114.336 192.199219 \n\" style=\"fill:#440154;\"/>\n    <path clip-path=\"url(#p28d3ec431a)\" d=\"M 167.904 192.199219 \nL 221.472 192.199219 \nL 221.472 204.279219 \nL 167.904 204.279219 \nL 167.904 192.199219 \n\" style=\"fill:#440154;\"/>\n    <path clip-path=\"url(#p28d3ec431a)\" d=\"M 221.472 192.199219 \nL 275.04 192.199219 \nL 275.04 204.279219 \nL 221.472 204.279219 \nL 221.472 192.199219 \n\" style=\"fill:#440154;\"/>\n    <path clip-path=\"url(#p28d3ec431a)\" d=\"M 7.2 204.279219 \nL 60.768 204.279219 \nL 60.768 216.359219 \nL 7.2 216.359219 \nL 7.2 204.279219 \n\" style=\"fill:#440154;\"/>\n    <path clip-path=\"url(#p28d3ec431a)\" d=\"M 60.768 204.279219 \nL 114.336 204.279219 \nL 114.336 216.359219 \nL 60.768 216.359219 \nL 60.768 204.279219 \n\" style=\"fill:#440154;\"/>\n    <path clip-path=\"url(#p28d3ec431a)\" d=\"M 114.336 204.279219 \nL 167.904 204.279219 \nL 167.904 216.359219 \nL 114.336 216.359219 \nL 114.336 204.279219 \n\" style=\"fill:#440154;\"/>\n    <path clip-path=\"url(#p28d3ec431a)\" d=\"M 167.904 204.279219 \nL 221.472 204.279219 \nL 221.472 216.359219 \nL 167.904 216.359219 \nL 167.904 204.279219 \n\" style=\"fill:#440154;\"/>\n    <path clip-path=\"url(#p28d3ec431a)\" d=\"M 221.472 204.279219 \nL 275.04 204.279219 \nL 275.04 216.359219 \nL 221.472 216.359219 \nL 221.472 204.279219 \n\" style=\"fill:#440154;\"/>\n    <path clip-path=\"url(#p28d3ec431a)\" d=\"M 7.2 216.359219 \nL 60.768 216.359219 \nL 60.768 228.439219 \nL 7.2 228.439219 \nL 7.2 216.359219 \n\" style=\"fill:#440154;\"/>\n    <path clip-path=\"url(#p28d3ec431a)\" d=\"M 60.768 216.359219 \nL 114.336 216.359219 \nL 114.336 228.439219 \nL 60.768 228.439219 \nL 60.768 216.359219 \n\" style=\"fill:#440154;\"/>\n    <path clip-path=\"url(#p28d3ec431a)\" d=\"M 114.336 216.359219 \nL 167.904 216.359219 \nL 167.904 228.439219 \nL 114.336 228.439219 \nL 114.336 216.359219 \n\" style=\"fill:#440154;\"/>\n    <path clip-path=\"url(#p28d3ec431a)\" d=\"M 167.904 216.359219 \nL 221.472 216.359219 \nL 221.472 228.439219 \nL 167.904 228.439219 \nL 167.904 216.359219 \n\" style=\"fill:#440154;\"/>\n    <path clip-path=\"url(#p28d3ec431a)\" d=\"M 221.472 216.359219 \nL 275.04 216.359219 \nL 275.04 228.439219 \nL 221.472 228.439219 \nL 221.472 216.359219 \n\" style=\"fill:#440154;\"/>\n   </g>\n   <g id=\"matplotlib.axis_1\">\n    <g id=\"xtick_1\">\n     <g id=\"line2d_1\">\n      <defs>\n       <path d=\"M 0 0 \nL 0 3.5 \n\" id=\"mef722c45f3\" style=\"stroke:#000000;stroke-width:0.8;\"/>\n      </defs>\n      <g>\n       <use style=\"stroke:#000000;stroke-width:0.8;\" x=\"33.984\" xlink:href=\"#mef722c45f3\" y=\"228.439219\"/>\n      </g>\n     </g>\n     <g id=\"text_1\">\n      <!-- Date -->\n      <defs>\n       <path d=\"M 19.671875 64.796875 \nL 19.671875 8.109375 \nL 31.59375 8.109375 \nQ 46.6875 8.109375 53.6875 14.9375 \nQ 60.6875 21.78125 60.6875 36.53125 \nQ 60.6875 51.171875 53.6875 57.984375 \nQ 46.6875 64.796875 31.59375 64.796875 \nz\nM 9.8125 72.90625 \nL 30.078125 72.90625 \nQ 51.265625 72.90625 61.171875 64.09375 \nQ 71.09375 55.28125 71.09375 36.53125 \nQ 71.09375 17.671875 61.125 8.828125 \nQ 51.171875 0 30.078125 0 \nL 9.8125 0 \nz\n\" id=\"DejaVuSans-68\"/>\n       <path d=\"M 34.28125 27.484375 \nQ 23.390625 27.484375 19.1875 25 \nQ 14.984375 22.515625 14.984375 16.5 \nQ 14.984375 11.71875 18.140625 8.90625 \nQ 21.296875 6.109375 26.703125 6.109375 \nQ 34.1875 6.109375 38.703125 11.40625 \nQ 43.21875 16.703125 43.21875 25.484375 \nL 43.21875 27.484375 \nz\nM 52.203125 31.203125 \nL 52.203125 0 \nL 43.21875 0 \nL 43.21875 8.296875 \nQ 40.140625 3.328125 35.546875 0.953125 \nQ 30.953125 -1.421875 24.3125 -1.421875 \nQ 15.921875 -1.421875 10.953125 3.296875 \nQ 6 8.015625 6 15.921875 \nQ 6 25.140625 12.171875 29.828125 \nQ 18.359375 34.515625 30.609375 34.515625 \nL 43.21875 34.515625 \nL 43.21875 35.40625 \nQ 43.21875 41.609375 39.140625 45 \nQ 35.0625 48.390625 27.6875 48.390625 \nQ 23 48.390625 18.546875 47.265625 \nQ 14.109375 46.140625 10.015625 43.890625 \nL 10.015625 52.203125 \nQ 14.9375 54.109375 19.578125 55.046875 \nQ 24.21875 56 28.609375 56 \nQ 40.484375 56 46.34375 49.84375 \nQ 52.203125 43.703125 52.203125 31.203125 \nz\n\" id=\"DejaVuSans-97\"/>\n       <path d=\"M 18.3125 70.21875 \nL 18.3125 54.6875 \nL 36.8125 54.6875 \nL 36.8125 47.703125 \nL 18.3125 47.703125 \nL 18.3125 18.015625 \nQ 18.3125 11.328125 20.140625 9.421875 \nQ 21.96875 7.515625 27.59375 7.515625 \nL 36.8125 7.515625 \nL 36.8125 0 \nL 27.59375 0 \nQ 17.1875 0 13.234375 3.875 \nQ 9.28125 7.765625 9.28125 18.015625 \nL 9.28125 47.703125 \nL 2.6875 47.703125 \nL 2.6875 54.6875 \nL 9.28125 54.6875 \nL 9.28125 70.21875 \nz\n\" id=\"DejaVuSans-116\"/>\n       <path d=\"M 56.203125 29.59375 \nL 56.203125 25.203125 \nL 14.890625 25.203125 \nQ 15.484375 15.921875 20.484375 11.0625 \nQ 25.484375 6.203125 34.421875 6.203125 \nQ 39.59375 6.203125 44.453125 7.46875 \nQ 49.3125 8.734375 54.109375 11.28125 \nL 54.109375 2.78125 \nQ 49.265625 0.734375 44.1875 -0.34375 \nQ 39.109375 -1.421875 33.890625 -1.421875 \nQ 20.796875 -1.421875 13.15625 6.1875 \nQ 5.515625 13.8125 5.515625 26.8125 \nQ 5.515625 40.234375 12.765625 48.109375 \nQ 20.015625 56 32.328125 56 \nQ 43.359375 56 49.78125 48.890625 \nQ 56.203125 41.796875 56.203125 29.59375 \nz\nM 47.21875 32.234375 \nQ 47.125 39.59375 43.09375 43.984375 \nQ 39.0625 48.390625 32.421875 48.390625 \nQ 24.90625 48.390625 20.390625 44.140625 \nQ 15.875 39.890625 15.1875 32.171875 \nz\n\" id=\"DejaVuSans-101\"/>\n      </defs>\n      <g transform=\"translate(36.743375 259.340781)rotate(-90)scale(0.1 -0.1)\">\n       <use xlink:href=\"#DejaVuSans-68\"/>\n       <use x=\"77.001953\" xlink:href=\"#DejaVuSans-97\"/>\n       <use x=\"138.28125\" xlink:href=\"#DejaVuSans-116\"/>\n       <use x=\"177.490234\" xlink:href=\"#DejaVuSans-101\"/>\n      </g>\n     </g>\n    </g>\n    <g id=\"xtick_2\">\n     <g id=\"line2d_2\">\n      <g>\n       <use style=\"stroke:#000000;stroke-width:0.8;\" x=\"87.552\" xlink:href=\"#mef722c45f3\" y=\"228.439219\"/>\n      </g>\n     </g>\n     <g id=\"text_2\">\n      <!-- CountryRegion -->\n      <defs>\n       <path d=\"M 64.40625 67.28125 \nL 64.40625 56.890625 \nQ 59.421875 61.53125 53.78125 63.8125 \nQ 48.140625 66.109375 41.796875 66.109375 \nQ 29.296875 66.109375 22.65625 58.46875 \nQ 16.015625 50.828125 16.015625 36.375 \nQ 16.015625 21.96875 22.65625 14.328125 \nQ 29.296875 6.6875 41.796875 6.6875 \nQ 48.140625 6.6875 53.78125 8.984375 \nQ 59.421875 11.28125 64.40625 15.921875 \nL 64.40625 5.609375 \nQ 59.234375 2.09375 53.4375 0.328125 \nQ 47.65625 -1.421875 41.21875 -1.421875 \nQ 24.65625 -1.421875 15.125 8.703125 \nQ 5.609375 18.84375 5.609375 36.375 \nQ 5.609375 53.953125 15.125 64.078125 \nQ 24.65625 74.21875 41.21875 74.21875 \nQ 47.75 74.21875 53.53125 72.484375 \nQ 59.328125 70.75 64.40625 67.28125 \nz\n\" id=\"DejaVuSans-67\"/>\n       <path d=\"M 30.609375 48.390625 \nQ 23.390625 48.390625 19.1875 42.75 \nQ 14.984375 37.109375 14.984375 27.296875 \nQ 14.984375 17.484375 19.15625 11.84375 \nQ 23.34375 6.203125 30.609375 6.203125 \nQ 37.796875 6.203125 41.984375 11.859375 \nQ 46.1875 17.53125 46.1875 27.296875 \nQ 46.1875 37.015625 41.984375 42.703125 \nQ 37.796875 48.390625 30.609375 48.390625 \nz\nM 30.609375 56 \nQ 42.328125 56 49.015625 48.375 \nQ 55.71875 40.765625 55.71875 27.296875 \nQ 55.71875 13.875 49.015625 6.21875 \nQ 42.328125 -1.421875 30.609375 -1.421875 \nQ 18.84375 -1.421875 12.171875 6.21875 \nQ 5.515625 13.875 5.515625 27.296875 \nQ 5.515625 40.765625 12.171875 48.375 \nQ 18.84375 56 30.609375 56 \nz\n\" id=\"DejaVuSans-111\"/>\n       <path d=\"M 8.5 21.578125 \nL 8.5 54.6875 \nL 17.484375 54.6875 \nL 17.484375 21.921875 \nQ 17.484375 14.15625 20.5 10.265625 \nQ 23.53125 6.390625 29.59375 6.390625 \nQ 36.859375 6.390625 41.078125 11.03125 \nQ 45.3125 15.671875 45.3125 23.6875 \nL 45.3125 54.6875 \nL 54.296875 54.6875 \nL 54.296875 0 \nL 45.3125 0 \nL 45.3125 8.40625 \nQ 42.046875 3.421875 37.71875 1 \nQ 33.40625 -1.421875 27.6875 -1.421875 \nQ 18.265625 -1.421875 13.375 4.4375 \nQ 8.5 10.296875 8.5 21.578125 \nz\nM 31.109375 56 \nz\n\" id=\"DejaVuSans-117\"/>\n       <path d=\"M 54.890625 33.015625 \nL 54.890625 0 \nL 45.90625 0 \nL 45.90625 32.71875 \nQ 45.90625 40.484375 42.875 44.328125 \nQ 39.84375 48.1875 33.796875 48.1875 \nQ 26.515625 48.1875 22.3125 43.546875 \nQ 18.109375 38.921875 18.109375 30.90625 \nL 18.109375 0 \nL 9.078125 0 \nL 9.078125 54.6875 \nL 18.109375 54.6875 \nL 18.109375 46.1875 \nQ 21.34375 51.125 25.703125 53.5625 \nQ 30.078125 56 35.796875 56 \nQ 45.21875 56 50.046875 50.171875 \nQ 54.890625 44.34375 54.890625 33.015625 \nz\n\" id=\"DejaVuSans-110\"/>\n       <path d=\"M 41.109375 46.296875 \nQ 39.59375 47.171875 37.8125 47.578125 \nQ 36.03125 48 33.890625 48 \nQ 26.265625 48 22.1875 43.046875 \nQ 18.109375 38.09375 18.109375 28.8125 \nL 18.109375 0 \nL 9.078125 0 \nL 9.078125 54.6875 \nL 18.109375 54.6875 \nL 18.109375 46.1875 \nQ 20.953125 51.171875 25.484375 53.578125 \nQ 30.03125 56 36.53125 56 \nQ 37.453125 56 38.578125 55.875 \nQ 39.703125 55.765625 41.0625 55.515625 \nz\n\" id=\"DejaVuSans-114\"/>\n       <path d=\"M 32.171875 -5.078125 \nQ 28.375 -14.84375 24.75 -17.8125 \nQ 21.140625 -20.796875 15.09375 -20.796875 \nL 7.90625 -20.796875 \nL 7.90625 -13.28125 \nL 13.1875 -13.28125 \nQ 16.890625 -13.28125 18.9375 -11.515625 \nQ 21 -9.765625 23.484375 -3.21875 \nL 25.09375 0.875 \nL 2.984375 54.6875 \nL 12.5 54.6875 \nL 29.59375 11.921875 \nL 46.6875 54.6875 \nL 56.203125 54.6875 \nz\n\" id=\"DejaVuSans-121\"/>\n       <path d=\"M 44.390625 34.1875 \nQ 47.5625 33.109375 50.5625 29.59375 \nQ 53.5625 26.078125 56.59375 19.921875 \nL 66.609375 0 \nL 56 0 \nL 46.6875 18.703125 \nQ 43.0625 26.03125 39.671875 28.421875 \nQ 36.28125 30.8125 30.421875 30.8125 \nL 19.671875 30.8125 \nL 19.671875 0 \nL 9.8125 0 \nL 9.8125 72.90625 \nL 32.078125 72.90625 \nQ 44.578125 72.90625 50.734375 67.671875 \nQ 56.890625 62.453125 56.890625 51.90625 \nQ 56.890625 45.015625 53.6875 40.46875 \nQ 50.484375 35.9375 44.390625 34.1875 \nz\nM 19.671875 64.796875 \nL 19.671875 38.921875 \nL 32.078125 38.921875 \nQ 39.203125 38.921875 42.84375 42.21875 \nQ 46.484375 45.515625 46.484375 51.90625 \nQ 46.484375 58.296875 42.84375 61.546875 \nQ 39.203125 64.796875 32.078125 64.796875 \nz\n\" id=\"DejaVuSans-82\"/>\n       <path d=\"M 45.40625 27.984375 \nQ 45.40625 37.75 41.375 43.109375 \nQ 37.359375 48.484375 30.078125 48.484375 \nQ 22.859375 48.484375 18.828125 43.109375 \nQ 14.796875 37.75 14.796875 27.984375 \nQ 14.796875 18.265625 18.828125 12.890625 \nQ 22.859375 7.515625 30.078125 7.515625 \nQ 37.359375 7.515625 41.375 12.890625 \nQ 45.40625 18.265625 45.40625 27.984375 \nz\nM 54.390625 6.78125 \nQ 54.390625 -7.171875 48.1875 -13.984375 \nQ 42 -20.796875 29.203125 -20.796875 \nQ 24.46875 -20.796875 20.265625 -20.09375 \nQ 16.0625 -19.390625 12.109375 -17.921875 \nL 12.109375 -9.1875 \nQ 16.0625 -11.328125 19.921875 -12.34375 \nQ 23.78125 -13.375 27.78125 -13.375 \nQ 36.625 -13.375 41.015625 -8.765625 \nQ 45.40625 -4.15625 45.40625 5.171875 \nL 45.40625 9.625 \nQ 42.625 4.78125 38.28125 2.390625 \nQ 33.9375 0 27.875 0 \nQ 17.828125 0 11.671875 7.65625 \nQ 5.515625 15.328125 5.515625 27.984375 \nQ 5.515625 40.671875 11.671875 48.328125 \nQ 17.828125 56 27.875 56 \nQ 33.9375 56 38.28125 53.609375 \nQ 42.625 51.21875 45.40625 46.390625 \nL 45.40625 54.6875 \nL 54.390625 54.6875 \nz\n\" id=\"DejaVuSans-103\"/>\n       <path d=\"M 9.421875 54.6875 \nL 18.40625 54.6875 \nL 18.40625 0 \nL 9.421875 0 \nz\nM 9.421875 75.984375 \nL 18.40625 75.984375 \nL 18.40625 64.59375 \nL 9.421875 64.59375 \nz\n\" id=\"DejaVuSans-105\"/>\n      </defs>\n      <g transform=\"translate(90.311375 309.400156)rotate(-90)scale(0.1 -0.1)\">\n       <use xlink:href=\"#DejaVuSans-67\"/>\n       <use x=\"69.824219\" xlink:href=\"#DejaVuSans-111\"/>\n       <use x=\"131.005859\" xlink:href=\"#DejaVuSans-117\"/>\n       <use x=\"194.384766\" xlink:href=\"#DejaVuSans-110\"/>\n       <use x=\"257.763672\" xlink:href=\"#DejaVuSans-116\"/>\n       <use x=\"296.972656\" xlink:href=\"#DejaVuSans-114\"/>\n       <use x=\"338.085938\" xlink:href=\"#DejaVuSans-121\"/>\n       <use x=\"397.265625\" xlink:href=\"#DejaVuSans-82\"/>\n       <use x=\"462.248047\" xlink:href=\"#DejaVuSans-101\"/>\n       <use x=\"523.771484\" xlink:href=\"#DejaVuSans-103\"/>\n       <use x=\"587.248047\" xlink:href=\"#DejaVuSans-105\"/>\n       <use x=\"615.03125\" xlink:href=\"#DejaVuSans-111\"/>\n       <use x=\"676.212891\" xlink:href=\"#DejaVuSans-110\"/>\n      </g>\n     </g>\n    </g>\n    <g id=\"xtick_3\">\n     <g id=\"line2d_3\">\n      <g>\n       <use style=\"stroke:#000000;stroke-width:0.8;\" x=\"141.12\" xlink:href=\"#mef722c45f3\" y=\"228.439219\"/>\n      </g>\n     </g>\n     <g id=\"text_3\">\n      <!-- Confirmed -->\n      <defs>\n       <path d=\"M 37.109375 75.984375 \nL 37.109375 68.5 \nL 28.515625 68.5 \nQ 23.6875 68.5 21.796875 66.546875 \nQ 19.921875 64.59375 19.921875 59.515625 \nL 19.921875 54.6875 \nL 34.71875 54.6875 \nL 34.71875 47.703125 \nL 19.921875 47.703125 \nL 19.921875 0 \nL 10.890625 0 \nL 10.890625 47.703125 \nL 2.296875 47.703125 \nL 2.296875 54.6875 \nL 10.890625 54.6875 \nL 10.890625 58.5 \nQ 10.890625 67.625 15.140625 71.796875 \nQ 19.390625 75.984375 28.609375 75.984375 \nz\n\" id=\"DejaVuSans-102\"/>\n       <path d=\"M 52 44.1875 \nQ 55.375 50.25 60.0625 53.125 \nQ 64.75 56 71.09375 56 \nQ 79.640625 56 84.28125 50.015625 \nQ 88.921875 44.046875 88.921875 33.015625 \nL 88.921875 0 \nL 79.890625 0 \nL 79.890625 32.71875 \nQ 79.890625 40.578125 77.09375 44.375 \nQ 74.3125 48.1875 68.609375 48.1875 \nQ 61.625 48.1875 57.5625 43.546875 \nQ 53.515625 38.921875 53.515625 30.90625 \nL 53.515625 0 \nL 44.484375 0 \nL 44.484375 32.71875 \nQ 44.484375 40.625 41.703125 44.40625 \nQ 38.921875 48.1875 33.109375 48.1875 \nQ 26.21875 48.1875 22.15625 43.53125 \nQ 18.109375 38.875 18.109375 30.90625 \nL 18.109375 0 \nL 9.078125 0 \nL 9.078125 54.6875 \nL 18.109375 54.6875 \nL 18.109375 46.1875 \nQ 21.1875 51.21875 25.484375 53.609375 \nQ 29.78125 56 35.6875 56 \nQ 41.65625 56 45.828125 52.96875 \nQ 50 49.953125 52 44.1875 \nz\n\" id=\"DejaVuSans-109\"/>\n       <path d=\"M 45.40625 46.390625 \nL 45.40625 75.984375 \nL 54.390625 75.984375 \nL 54.390625 0 \nL 45.40625 0 \nL 45.40625 8.203125 \nQ 42.578125 3.328125 38.25 0.953125 \nQ 33.9375 -1.421875 27.875 -1.421875 \nQ 17.96875 -1.421875 11.734375 6.484375 \nQ 5.515625 14.40625 5.515625 27.296875 \nQ 5.515625 40.1875 11.734375 48.09375 \nQ 17.96875 56 27.875 56 \nQ 33.9375 56 38.25 53.625 \nQ 42.578125 51.265625 45.40625 46.390625 \nz\nM 14.796875 27.296875 \nQ 14.796875 17.390625 18.875 11.75 \nQ 22.953125 6.109375 30.078125 6.109375 \nQ 37.203125 6.109375 41.296875 11.75 \nQ 45.40625 17.390625 45.40625 27.296875 \nQ 45.40625 37.203125 41.296875 42.84375 \nQ 37.203125 48.484375 30.078125 48.484375 \nQ 22.953125 48.484375 18.875 42.84375 \nQ 14.796875 37.203125 14.796875 27.296875 \nz\n\" id=\"DejaVuSans-100\"/>\n      </defs>\n      <g transform=\"translate(143.879375 287.354844)rotate(-90)scale(0.1 -0.1)\">\n       <use xlink:href=\"#DejaVuSans-67\"/>\n       <use x=\"69.824219\" xlink:href=\"#DejaVuSans-111\"/>\n       <use x=\"131.005859\" xlink:href=\"#DejaVuSans-110\"/>\n       <use x=\"194.384766\" xlink:href=\"#DejaVuSans-102\"/>\n       <use x=\"229.589844\" xlink:href=\"#DejaVuSans-105\"/>\n       <use x=\"257.373047\" xlink:href=\"#DejaVuSans-114\"/>\n       <use x=\"296.736328\" xlink:href=\"#DejaVuSans-109\"/>\n       <use x=\"394.148438\" xlink:href=\"#DejaVuSans-101\"/>\n       <use x=\"455.671875\" xlink:href=\"#DejaVuSans-100\"/>\n      </g>\n     </g>\n    </g>\n    <g id=\"xtick_4\">\n     <g id=\"line2d_4\">\n      <g>\n       <use style=\"stroke:#000000;stroke-width:0.8;\" x=\"194.688\" xlink:href=\"#mef722c45f3\" y=\"228.439219\"/>\n      </g>\n     </g>\n     <g id=\"text_4\">\n      <!-- Recovered -->\n      <defs>\n       <path d=\"M 48.78125 52.59375 \nL 48.78125 44.1875 \nQ 44.96875 46.296875 41.140625 47.34375 \nQ 37.3125 48.390625 33.40625 48.390625 \nQ 24.65625 48.390625 19.8125 42.84375 \nQ 14.984375 37.3125 14.984375 27.296875 \nQ 14.984375 17.28125 19.8125 11.734375 \nQ 24.65625 6.203125 33.40625 6.203125 \nQ 37.3125 6.203125 41.140625 7.25 \nQ 44.96875 8.296875 48.78125 10.40625 \nL 48.78125 2.09375 \nQ 45.015625 0.34375 40.984375 -0.53125 \nQ 36.96875 -1.421875 32.421875 -1.421875 \nQ 20.0625 -1.421875 12.78125 6.34375 \nQ 5.515625 14.109375 5.515625 27.296875 \nQ 5.515625 40.671875 12.859375 48.328125 \nQ 20.21875 56 33.015625 56 \nQ 37.15625 56 41.109375 55.140625 \nQ 45.0625 54.296875 48.78125 52.59375 \nz\n\" id=\"DejaVuSans-99\"/>\n       <path d=\"M 2.984375 54.6875 \nL 12.5 54.6875 \nL 29.59375 8.796875 \nL 46.6875 54.6875 \nL 56.203125 54.6875 \nL 35.6875 0 \nL 23.484375 0 \nz\n\" id=\"DejaVuSans-118\"/>\n      </defs>\n      <g transform=\"translate(197.447375 288.167344)rotate(-90)scale(0.1 -0.1)\">\n       <use xlink:href=\"#DejaVuSans-82\"/>\n       <use x=\"64.982422\" xlink:href=\"#DejaVuSans-101\"/>\n       <use x=\"126.505859\" xlink:href=\"#DejaVuSans-99\"/>\n       <use x=\"181.486328\" xlink:href=\"#DejaVuSans-111\"/>\n       <use x=\"242.667969\" xlink:href=\"#DejaVuSans-118\"/>\n       <use x=\"301.847656\" xlink:href=\"#DejaVuSans-101\"/>\n       <use x=\"363.371094\" xlink:href=\"#DejaVuSans-114\"/>\n       <use x=\"402.234375\" xlink:href=\"#DejaVuSans-101\"/>\n       <use x=\"463.757812\" xlink:href=\"#DejaVuSans-100\"/>\n      </g>\n     </g>\n    </g>\n    <g id=\"xtick_5\">\n     <g id=\"line2d_5\">\n      <g>\n       <use style=\"stroke:#000000;stroke-width:0.8;\" x=\"248.256\" xlink:href=\"#mef722c45f3\" y=\"228.439219\"/>\n      </g>\n     </g>\n     <g id=\"text_5\">\n      <!-- Deaths -->\n      <defs>\n       <path d=\"M 54.890625 33.015625 \nL 54.890625 0 \nL 45.90625 0 \nL 45.90625 32.71875 \nQ 45.90625 40.484375 42.875 44.328125 \nQ 39.84375 48.1875 33.796875 48.1875 \nQ 26.515625 48.1875 22.3125 43.546875 \nQ 18.109375 38.921875 18.109375 30.90625 \nL 18.109375 0 \nL 9.078125 0 \nL 9.078125 75.984375 \nL 18.109375 75.984375 \nL 18.109375 46.1875 \nQ 21.34375 51.125 25.703125 53.5625 \nQ 30.078125 56 35.796875 56 \nQ 45.21875 56 50.046875 50.171875 \nQ 54.890625 44.34375 54.890625 33.015625 \nz\n\" id=\"DejaVuSans-104\"/>\n       <path d=\"M 44.28125 53.078125 \nL 44.28125 44.578125 \nQ 40.484375 46.53125 36.375 47.5 \nQ 32.28125 48.484375 27.875 48.484375 \nQ 21.1875 48.484375 17.84375 46.4375 \nQ 14.5 44.390625 14.5 40.28125 \nQ 14.5 37.15625 16.890625 35.375 \nQ 19.28125 33.59375 26.515625 31.984375 \nL 29.59375 31.296875 \nQ 39.15625 29.25 43.1875 25.515625 \nQ 47.21875 21.78125 47.21875 15.09375 \nQ 47.21875 7.46875 41.1875 3.015625 \nQ 35.15625 -1.421875 24.609375 -1.421875 \nQ 20.21875 -1.421875 15.453125 -0.5625 \nQ 10.6875 0.296875 5.421875 2 \nL 5.421875 11.28125 \nQ 10.40625 8.6875 15.234375 7.390625 \nQ 20.0625 6.109375 24.8125 6.109375 \nQ 31.15625 6.109375 34.5625 8.28125 \nQ 37.984375 10.453125 37.984375 14.40625 \nQ 37.984375 18.0625 35.515625 20.015625 \nQ 33.0625 21.96875 24.703125 23.78125 \nL 21.578125 24.515625 \nQ 13.234375 26.265625 9.515625 29.90625 \nQ 5.8125 33.546875 5.8125 39.890625 \nQ 5.8125 47.609375 11.28125 51.796875 \nQ 16.75 56 26.8125 56 \nQ 31.78125 56 36.171875 55.265625 \nQ 40.578125 54.546875 44.28125 53.078125 \nz\n\" id=\"DejaVuSans-115\"/>\n      </defs>\n      <g transform=\"translate(251.015375 270.887656)rotate(-90)scale(0.1 -0.1)\">\n       <use xlink:href=\"#DejaVuSans-68\"/>\n       <use x=\"77.001953\" xlink:href=\"#DejaVuSans-101\"/>\n       <use x=\"138.525391\" xlink:href=\"#DejaVuSans-97\"/>\n       <use x=\"199.804688\" xlink:href=\"#DejaVuSans-116\"/>\n       <use x=\"239.013672\" xlink:href=\"#DejaVuSans-104\"/>\n       <use x=\"302.392578\" xlink:href=\"#DejaVuSans-115\"/>\n      </g>\n     </g>\n    </g>\n   </g>\n   <g id=\"matplotlib.axis_2\"/>\n  </g>\n  <g id=\"axes_2\">\n   <g id=\"patch_3\">\n    <path clip-path=\"url(#p294781eb9c)\" d=\"M 291.78 228.439219 \nL 291.78 227.589844 \nL 291.78 11.848594 \nL 291.78 10.999219 \nL 302.652 10.999219 \nL 302.652 11.848594 \nL 302.652 227.589844 \nL 302.652 228.439219 \nz\n\" style=\"fill:#ffffff;stroke:#ffffff;stroke-linejoin:miter;stroke-width:0.01;\"/>\n   </g>\n   <image height=\"218\" id=\"image6b3b8600ce\" transform=\"scale(1 -1)translate(0 -218)\" width=\"11\" x=\"292\" xlink:href=\"data:image/png;base64,\niVBORw0KGgoAAAANSUhEUgAAAAsAAADaCAYAAABwzrisAAAABHNCSVQICAgIfAhkiAAAAV1JREFUaIHlmssNAjEMRG0noTJKoP9KgNCC3+FJieA8Gs0vu7BsPvO1o/mZOUYXGzOy+uCslJiDMEODRHMRzYyZGETRDU+zxozAnkFtojemsdk22lgzjY0meohmVrfG3MfiUjxmy6A3fq8UlMZmdROwJkMckpYGZLaOFYyOMHsGxW0Q5jO2YV7rABjeJiwZN9YtpnGhZnhr05gvjM5L45DobixFZK72w54/iE5LAxyqc+r2Goy0ZHhpgG+XpkEGDmJQ20ZqaaBSsr4Ws2iQNNgnjllaGoU0i+A2NuYgaRQ6VmdExwwSZpgGYdbAU6vb08wMpla3x6zlvOqjybDSGJqMxcbvGbSYV4K6B2sQgL0GEfPKN5FhNchyJgYRM9sGmyhqEEVn1c0MaqWwk0I0P0jd4vi1Wxu8FGg3oDY0YoL/mWMO8HtpLvIfUBFmJIMxM83gJYSV4OUlwoweZ/0A81p/atXDbcAAAAAASUVORK5CYII=\" y=\"-10\"/>\n   <g id=\"matplotlib.axis_3\"/>\n   <g id=\"matplotlib.axis_4\">\n    <g id=\"ytick_1\">\n     <g id=\"line2d_6\">\n      <defs>\n       <path d=\"M 0 0 \nL 3.5 0 \n\" id=\"m2ac7ef1750\" style=\"stroke:#000000;stroke-width:0.8;\"/>\n      </defs>\n      <g>\n       <use style=\"stroke:#000000;stroke-width:0.8;\" x=\"302.652\" xlink:href=\"#m2ac7ef1750\" y=\"228.439219\"/>\n      </g>\n     </g>\n     <g id=\"text_6\">\n      <!-- 0.0 -->\n      <defs>\n       <path d=\"M 31.78125 66.40625 \nQ 24.171875 66.40625 20.328125 58.90625 \nQ 16.5 51.421875 16.5 36.375 \nQ 16.5 21.390625 20.328125 13.890625 \nQ 24.171875 6.390625 31.78125 6.390625 \nQ 39.453125 6.390625 43.28125 13.890625 \nQ 47.125 21.390625 47.125 36.375 \nQ 47.125 51.421875 43.28125 58.90625 \nQ 39.453125 66.40625 31.78125 66.40625 \nz\nM 31.78125 74.21875 \nQ 44.046875 74.21875 50.515625 64.515625 \nQ 56.984375 54.828125 56.984375 36.375 \nQ 56.984375 17.96875 50.515625 8.265625 \nQ 44.046875 -1.421875 31.78125 -1.421875 \nQ 19.53125 -1.421875 13.0625 8.265625 \nQ 6.59375 17.96875 6.59375 36.375 \nQ 6.59375 54.828125 13.0625 64.515625 \nQ 19.53125 74.21875 31.78125 74.21875 \nz\n\" id=\"DejaVuSans-48\"/>\n       <path d=\"M 10.6875 12.40625 \nL 21 12.40625 \nL 21 0 \nL 10.6875 0 \nz\n\" id=\"DejaVuSans-46\"/>\n      </defs>\n      <g transform=\"translate(309.652 232.238437)scale(0.1 -0.1)\">\n       <use xlink:href=\"#DejaVuSans-48\"/>\n       <use x=\"63.623047\" xlink:href=\"#DejaVuSans-46\"/>\n       <use x=\"95.410156\" xlink:href=\"#DejaVuSans-48\"/>\n      </g>\n     </g>\n    </g>\n    <g id=\"ytick_2\">\n     <g id=\"line2d_7\">\n      <g>\n       <use style=\"stroke:#000000;stroke-width:0.8;\" x=\"302.652\" xlink:href=\"#m2ac7ef1750\" y=\"184.951219\"/>\n      </g>\n     </g>\n     <g id=\"text_7\">\n      <!-- 0.2 -->\n      <defs>\n       <path d=\"M 19.1875 8.296875 \nL 53.609375 8.296875 \nL 53.609375 0 \nL 7.328125 0 \nL 7.328125 8.296875 \nQ 12.9375 14.109375 22.625 23.890625 \nQ 32.328125 33.6875 34.8125 36.53125 \nQ 39.546875 41.84375 41.421875 45.53125 \nQ 43.3125 49.21875 43.3125 52.78125 \nQ 43.3125 58.59375 39.234375 62.25 \nQ 35.15625 65.921875 28.609375 65.921875 \nQ 23.96875 65.921875 18.8125 64.3125 \nQ 13.671875 62.703125 7.8125 59.421875 \nL 7.8125 69.390625 \nQ 13.765625 71.78125 18.9375 73 \nQ 24.125 74.21875 28.421875 74.21875 \nQ 39.75 74.21875 46.484375 68.546875 \nQ 53.21875 62.890625 53.21875 53.421875 \nQ 53.21875 48.921875 51.53125 44.890625 \nQ 49.859375 40.875 45.40625 35.40625 \nQ 44.1875 33.984375 37.640625 27.21875 \nQ 31.109375 20.453125 19.1875 8.296875 \nz\n\" id=\"DejaVuSans-50\"/>\n      </defs>\n      <g transform=\"translate(309.652 188.750437)scale(0.1 -0.1)\">\n       <use xlink:href=\"#DejaVuSans-48\"/>\n       <use x=\"63.623047\" xlink:href=\"#DejaVuSans-46\"/>\n       <use x=\"95.410156\" xlink:href=\"#DejaVuSans-50\"/>\n      </g>\n     </g>\n    </g>\n    <g id=\"ytick_3\">\n     <g id=\"line2d_8\">\n      <g>\n       <use style=\"stroke:#000000;stroke-width:0.8;\" x=\"302.652\" xlink:href=\"#m2ac7ef1750\" y=\"141.463219\"/>\n      </g>\n     </g>\n     <g id=\"text_8\">\n      <!-- 0.4 -->\n      <defs>\n       <path d=\"M 37.796875 64.3125 \nL 12.890625 25.390625 \nL 37.796875 25.390625 \nz\nM 35.203125 72.90625 \nL 47.609375 72.90625 \nL 47.609375 25.390625 \nL 58.015625 25.390625 \nL 58.015625 17.1875 \nL 47.609375 17.1875 \nL 47.609375 0 \nL 37.796875 0 \nL 37.796875 17.1875 \nL 4.890625 17.1875 \nL 4.890625 26.703125 \nz\n\" id=\"DejaVuSans-52\"/>\n      </defs>\n      <g transform=\"translate(309.652 145.262437)scale(0.1 -0.1)\">\n       <use xlink:href=\"#DejaVuSans-48\"/>\n       <use x=\"63.623047\" xlink:href=\"#DejaVuSans-46\"/>\n       <use x=\"95.410156\" xlink:href=\"#DejaVuSans-52\"/>\n      </g>\n     </g>\n    </g>\n    <g id=\"ytick_4\">\n     <g id=\"line2d_9\">\n      <g>\n       <use style=\"stroke:#000000;stroke-width:0.8;\" x=\"302.652\" xlink:href=\"#m2ac7ef1750\" y=\"97.975219\"/>\n      </g>\n     </g>\n     <g id=\"text_9\">\n      <!-- 0.6 -->\n      <defs>\n       <path d=\"M 33.015625 40.375 \nQ 26.375 40.375 22.484375 35.828125 \nQ 18.609375 31.296875 18.609375 23.390625 \nQ 18.609375 15.53125 22.484375 10.953125 \nQ 26.375 6.390625 33.015625 6.390625 \nQ 39.65625 6.390625 43.53125 10.953125 \nQ 47.40625 15.53125 47.40625 23.390625 \nQ 47.40625 31.296875 43.53125 35.828125 \nQ 39.65625 40.375 33.015625 40.375 \nz\nM 52.59375 71.296875 \nL 52.59375 62.3125 \nQ 48.875 64.0625 45.09375 64.984375 \nQ 41.3125 65.921875 37.59375 65.921875 \nQ 27.828125 65.921875 22.671875 59.328125 \nQ 17.53125 52.734375 16.796875 39.40625 \nQ 19.671875 43.65625 24.015625 45.921875 \nQ 28.375 48.1875 33.59375 48.1875 \nQ 44.578125 48.1875 50.953125 41.515625 \nQ 57.328125 34.859375 57.328125 23.390625 \nQ 57.328125 12.15625 50.6875 5.359375 \nQ 44.046875 -1.421875 33.015625 -1.421875 \nQ 20.359375 -1.421875 13.671875 8.265625 \nQ 6.984375 17.96875 6.984375 36.375 \nQ 6.984375 53.65625 15.1875 63.9375 \nQ 23.390625 74.21875 37.203125 74.21875 \nQ 40.921875 74.21875 44.703125 73.484375 \nQ 48.484375 72.75 52.59375 71.296875 \nz\n\" id=\"DejaVuSans-54\"/>\n      </defs>\n      <g transform=\"translate(309.652 101.774438)scale(0.1 -0.1)\">\n       <use xlink:href=\"#DejaVuSans-48\"/>\n       <use x=\"63.623047\" xlink:href=\"#DejaVuSans-46\"/>\n       <use x=\"95.410156\" xlink:href=\"#DejaVuSans-54\"/>\n      </g>\n     </g>\n    </g>\n    <g id=\"ytick_5\">\n     <g id=\"line2d_10\">\n      <g>\n       <use style=\"stroke:#000000;stroke-width:0.8;\" x=\"302.652\" xlink:href=\"#m2ac7ef1750\" y=\"54.487219\"/>\n      </g>\n     </g>\n     <g id=\"text_10\">\n      <!-- 0.8 -->\n      <defs>\n       <path d=\"M 31.78125 34.625 \nQ 24.75 34.625 20.71875 30.859375 \nQ 16.703125 27.09375 16.703125 20.515625 \nQ 16.703125 13.921875 20.71875 10.15625 \nQ 24.75 6.390625 31.78125 6.390625 \nQ 38.8125 6.390625 42.859375 10.171875 \nQ 46.921875 13.96875 46.921875 20.515625 \nQ 46.921875 27.09375 42.890625 30.859375 \nQ 38.875 34.625 31.78125 34.625 \nz\nM 21.921875 38.8125 \nQ 15.578125 40.375 12.03125 44.71875 \nQ 8.5 49.078125 8.5 55.328125 \nQ 8.5 64.0625 14.71875 69.140625 \nQ 20.953125 74.21875 31.78125 74.21875 \nQ 42.671875 74.21875 48.875 69.140625 \nQ 55.078125 64.0625 55.078125 55.328125 \nQ 55.078125 49.078125 51.53125 44.71875 \nQ 48 40.375 41.703125 38.8125 \nQ 48.828125 37.15625 52.796875 32.3125 \nQ 56.78125 27.484375 56.78125 20.515625 \nQ 56.78125 9.90625 50.3125 4.234375 \nQ 43.84375 -1.421875 31.78125 -1.421875 \nQ 19.734375 -1.421875 13.25 4.234375 \nQ 6.78125 9.90625 6.78125 20.515625 \nQ 6.78125 27.484375 10.78125 32.3125 \nQ 14.796875 37.15625 21.921875 38.8125 \nz\nM 18.3125 54.390625 \nQ 18.3125 48.734375 21.84375 45.5625 \nQ 25.390625 42.390625 31.78125 42.390625 \nQ 38.140625 42.390625 41.71875 45.5625 \nQ 45.3125 48.734375 45.3125 54.390625 \nQ 45.3125 60.0625 41.71875 63.234375 \nQ 38.140625 66.40625 31.78125 66.40625 \nQ 25.390625 66.40625 21.84375 63.234375 \nQ 18.3125 60.0625 18.3125 54.390625 \nz\n\" id=\"DejaVuSans-56\"/>\n      </defs>\n      <g transform=\"translate(309.652 58.286438)scale(0.1 -0.1)\">\n       <use xlink:href=\"#DejaVuSans-48\"/>\n       <use x=\"63.623047\" xlink:href=\"#DejaVuSans-46\"/>\n       <use x=\"95.410156\" xlink:href=\"#DejaVuSans-56\"/>\n      </g>\n     </g>\n    </g>\n    <g id=\"ytick_6\">\n     <g id=\"line2d_11\">\n      <g>\n       <use style=\"stroke:#000000;stroke-width:0.8;\" x=\"302.652\" xlink:href=\"#m2ac7ef1750\" y=\"10.999219\"/>\n      </g>\n     </g>\n     <g id=\"text_11\">\n      <!-- 1.0 -->\n      <defs>\n       <path d=\"M 12.40625 8.296875 \nL 28.515625 8.296875 \nL 28.515625 63.921875 \nL 10.984375 60.40625 \nL 10.984375 69.390625 \nL 28.421875 72.90625 \nL 38.28125 72.90625 \nL 38.28125 8.296875 \nL 54.390625 8.296875 \nL 54.390625 0 \nL 12.40625 0 \nz\n\" id=\"DejaVuSans-49\"/>\n      </defs>\n      <g transform=\"translate(309.652 14.798438)scale(0.1 -0.1)\">\n       <use xlink:href=\"#DejaVuSans-49\"/>\n       <use x=\"63.623047\" xlink:href=\"#DejaVuSans-46\"/>\n       <use x=\"95.410156\" xlink:href=\"#DejaVuSans-48\"/>\n      </g>\n     </g>\n    </g>\n   </g>\n   <g id=\"patch_4\">\n    <path d=\"M 291.78 228.439219 \nL 291.78 227.589844 \nL 291.78 11.848594 \nL 291.78 10.999219 \nL 302.652 10.999219 \nL 302.652 11.848594 \nL 302.652 227.589844 \nL 302.652 228.439219 \nz\n\" style=\"fill:none;\"/>\n   </g>\n  </g>\n </g>\n <defs>\n  <clipPath id=\"p28d3ec431a\">\n   <rect height=\"217.44\" width=\"267.84\" x=\"7.2\" y=\"10.999219\"/>\n  </clipPath>\n  <clipPath id=\"p294781eb9c\">\n   <rect height=\"217.44\" width=\"10.872\" x=\"291.78\" y=\"10.999219\"/>\n  </clipPath>\n </defs>\n</svg>\n"
          },
          "metadata": {
            "needs_background": "light"
          }
        }
      ]
    },
    {
      "cell_type": "markdown",
      "metadata": {
        "id": "1Vt1ve1-WR49"
      },
      "source": [
        "**Example 2:**"
      ]
    },
    {
      "cell_type": "code",
      "metadata": {
        "id": "v90pBP9MWT7T",
        "colab": {
          "base_uri": "https://localhost:8080/"
        },
        "outputId": "45f3fc2e-d669-4ddd-e05b-631b8a1cce2f"
      },
      "source": [
        "df = pd.DataFrame({\n",
        "    'History': [76, 84, 68, 94],\n",
        "    'Math': [81, 67, 91, 86],\n",
        "    'English': [72, 93, 84, 76]\n",
        "})\n",
        "\n",
        "print(\"The original dataframe:\\n\")\n",
        "print(df)\n",
        "\n",
        "def get_mean(scores):\n",
        "    return sum(scores)/len(scores)\n",
        "\n",
        "result = df.apply(get_mean)\n",
        "print(\"\\nThe result of applying the function on the dataframe:\\n\")\n",
        "print(result)"
      ],
      "execution_count": null,
      "outputs": [
        {
          "output_type": "stream",
          "name": "stdout",
          "text": [
            "The original dataframe:\n",
            "\n",
            "   History  Math  English\n",
            "0       76    81       72\n",
            "1       84    67       93\n",
            "2       68    91       84\n",
            "3       94    86       76\n",
            "\n",
            "The result of applying the function on the dataframe:\n",
            "\n",
            "History    80.50\n",
            "Math       81.25\n",
            "English    81.25\n",
            "dtype: float64\n"
          ]
        }
      ]
    },
    {
      "cell_type": "markdown",
      "metadata": {
        "id": "at4PpcUkWfJf"
      },
      "source": [
        "**Example 3:**"
      ]
    },
    {
      "cell_type": "code",
      "metadata": {
        "id": "9db2IIW0Wkp0",
        "colab": {
          "base_uri": "https://localhost:8080/"
        },
        "outputId": "5fb1fbaa-8cfa-44b5-9863-e7972aa177b8"
      },
      "source": [
        "df = pd.DataFrame({\n",
        "    'History': [76, 84, 68, 94],\n",
        "    'Math': [81, 67, 91, 86],\n",
        "    'English': [72, 93, 84, 76]\n",
        "}, index=['Sam', 'Greta', 'Mike', 'Emma'])\n",
        "\n",
        "print(\"The original dataframe:\\n\")\n",
        "print(df)\n",
        "\n",
        "def get_mean(scores):\n",
        "    return sum(scores)/len(scores)\n",
        "\n",
        "result = df.apply(get_mean, axis=1)\n",
        "print(\"\\nThe result of applying the function on the dataframe:\\n\")\n",
        "print(result)"
      ],
      "execution_count": null,
      "outputs": [
        {
          "output_type": "stream",
          "name": "stdout",
          "text": [
            "The original dataframe:\n",
            "\n",
            "       History  Math  English\n",
            "Sam         76    81       72\n",
            "Greta       84    67       93\n",
            "Mike        68    91       84\n",
            "Emma        94    86       76\n",
            "\n",
            "The result of applying the function on the dataframe:\n",
            "\n",
            "Sam      76.333333\n",
            "Greta    81.333333\n",
            "Mike     81.000000\n",
            "Emma     85.333333\n",
            "dtype: float64\n"
          ]
        }
      ]
    },
    {
      "cell_type": "markdown",
      "metadata": {
        "id": "f-v_eyNaWr9j"
      },
      "source": [
        "**Example 4:**"
      ]
    },
    {
      "cell_type": "code",
      "metadata": {
        "id": "S_vIIgteWu8j"
      },
      "source": [
        "def split_name_series(string):\n",
        "  country, region=string.split(';')\n",
        "  return pd.Series(\n",
        "      (country, region),\n",
        "      index='country, region'.split()\n",
        "  )\n",
        "\n",
        "def split_name(x_df):\n",
        "    res=x_df['CountryRegion'].apply(split_name_series)\n",
        "    x_df[res.columns]=res\n",
        "    return x_df"
      ],
      "execution_count": null,
      "outputs": []
    },
    {
      "cell_type": "markdown",
      "metadata": {
        "id": "PrbxZxNNW0dt"
      },
      "source": [
        "**Example 5:**"
      ]
    },
    {
      "cell_type": "code",
      "metadata": {
        "id": "b2HxiTe4W3gq",
        "colab": {
          "base_uri": "https://localhost:8080/",
          "height": 603
        },
        "outputId": "66eba73e-4db1-4782-fa8f-a17322653d60"
      },
      "source": [
        "res = load_data('countriessample.csv').pipe(split_name)\n",
        "res"
      ],
      "execution_count": null,
      "outputs": [
        {
          "output_type": "execute_result",
          "data": {
            "text/html": [
              "<div>\n",
              "<style scoped>\n",
              "    .dataframe tbody tr th:only-of-type {\n",
              "        vertical-align: middle;\n",
              "    }\n",
              "\n",
              "    .dataframe tbody tr th {\n",
              "        vertical-align: top;\n",
              "    }\n",
              "\n",
              "    .dataframe thead th {\n",
              "        text-align: right;\n",
              "    }\n",
              "</style>\n",
              "<table border=\"1\" class=\"dataframe\">\n",
              "  <thead>\n",
              "    <tr style=\"text-align: right;\">\n",
              "      <th></th>\n",
              "      <th>Date</th>\n",
              "      <th>CountryRegion</th>\n",
              "      <th>Confirmed</th>\n",
              "      <th>Recovered</th>\n",
              "      <th>Deaths</th>\n",
              "      <th>country,</th>\n",
              "      <th>region</th>\n",
              "    </tr>\n",
              "  </thead>\n",
              "  <tbody>\n",
              "    <tr>\n",
              "      <th>0</th>\n",
              "      <td>1/22/2020</td>\n",
              "      <td>Ghana;Africa</td>\n",
              "      <td>NaN</td>\n",
              "      <td>NaN</td>\n",
              "      <td>0.0</td>\n",
              "      <td>Ghana</td>\n",
              "      <td>Africa</td>\n",
              "    </tr>\n",
              "    <tr>\n",
              "      <th>1</th>\n",
              "      <td>1/22/2020</td>\n",
              "      <td>Greece;Europe</td>\n",
              "      <td>NaN</td>\n",
              "      <td>NaN</td>\n",
              "      <td>0.0</td>\n",
              "      <td>Greece</td>\n",
              "      <td>Europe</td>\n",
              "    </tr>\n",
              "    <tr>\n",
              "      <th>2</th>\n",
              "      <td>1/22/2020</td>\n",
              "      <td>Iceland;Europe</td>\n",
              "      <td>0.0</td>\n",
              "      <td>NaN</td>\n",
              "      <td>0.0</td>\n",
              "      <td>Iceland</td>\n",
              "      <td>Europe</td>\n",
              "    </tr>\n",
              "    <tr>\n",
              "      <th>3</th>\n",
              "      <td>1/22/2020</td>\n",
              "      <td>India;Asia</td>\n",
              "      <td>0.0</td>\n",
              "      <td>NaN</td>\n",
              "      <td>0.0</td>\n",
              "      <td>India</td>\n",
              "      <td>Asia</td>\n",
              "    </tr>\n",
              "    <tr>\n",
              "      <th>4</th>\n",
              "      <td>1/22/2020</td>\n",
              "      <td>Indonesia;Asia</td>\n",
              "      <td>0.0</td>\n",
              "      <td>NaN</td>\n",
              "      <td>0.0</td>\n",
              "      <td>Indonesia</td>\n",
              "      <td>Asia</td>\n",
              "    </tr>\n",
              "    <tr>\n",
              "      <th>5</th>\n",
              "      <td>1/22/2020</td>\n",
              "      <td>Iran;Asia</td>\n",
              "      <td>0.0</td>\n",
              "      <td>NaN</td>\n",
              "      <td>0.0</td>\n",
              "      <td>Iran</td>\n",
              "      <td>Asia</td>\n",
              "    </tr>\n",
              "    <tr>\n",
              "      <th>6</th>\n",
              "      <td>1/22/2020</td>\n",
              "      <td>Iraq;Asia</td>\n",
              "      <td>0.0</td>\n",
              "      <td>NaN</td>\n",
              "      <td>NaN</td>\n",
              "      <td>Iraq</td>\n",
              "      <td>Asia</td>\n",
              "    </tr>\n",
              "    <tr>\n",
              "      <th>7</th>\n",
              "      <td>1/22/2020</td>\n",
              "      <td>Ireland;Europe</td>\n",
              "      <td>0.0</td>\n",
              "      <td>NaN</td>\n",
              "      <td>NaN</td>\n",
              "      <td>Ireland</td>\n",
              "      <td>Europe</td>\n",
              "    </tr>\n",
              "    <tr>\n",
              "      <th>8</th>\n",
              "      <td>6/6/2020</td>\n",
              "      <td>Guinea;Africa</td>\n",
              "      <td>4117.0</td>\n",
              "      <td>2857.0</td>\n",
              "      <td>23.0</td>\n",
              "      <td>Guinea</td>\n",
              "      <td>Africa</td>\n",
              "    </tr>\n",
              "    <tr>\n",
              "      <th>9</th>\n",
              "      <td>6/6/2020</td>\n",
              "      <td>Guyana;South America</td>\n",
              "      <td>154.0</td>\n",
              "      <td>80.0</td>\n",
              "      <td>12.0</td>\n",
              "      <td>Guyana</td>\n",
              "      <td>South America</td>\n",
              "    </tr>\n",
              "    <tr>\n",
              "      <th>10</th>\n",
              "      <td>6/6/2020</td>\n",
              "      <td>Haiti;North America</td>\n",
              "      <td>3072.0</td>\n",
              "      <td>24.0</td>\n",
              "      <td>50.0</td>\n",
              "      <td>Haiti</td>\n",
              "      <td>North America</td>\n",
              "    </tr>\n",
              "    <tr>\n",
              "      <th>11</th>\n",
              "      <td>6/6/2020</td>\n",
              "      <td>Holy See;Unknown</td>\n",
              "      <td>12.0</td>\n",
              "      <td>12.0</td>\n",
              "      <td>0.0</td>\n",
              "      <td>Holy See</td>\n",
              "      <td>Unknown</td>\n",
              "    </tr>\n",
              "    <tr>\n",
              "      <th>12</th>\n",
              "      <td>6/6/2020</td>\n",
              "      <td>Indonesia;Asia</td>\n",
              "      <td>30514.0</td>\n",
              "      <td>9907.0</td>\n",
              "      <td>1801.0</td>\n",
              "      <td>Indonesia</td>\n",
              "      <td>Asia</td>\n",
              "    </tr>\n",
              "    <tr>\n",
              "      <th>13</th>\n",
              "      <td>6/6/2020</td>\n",
              "      <td>Iran;Asia</td>\n",
              "      <td>169425.0</td>\n",
              "      <td>132038.0</td>\n",
              "      <td>8209.0</td>\n",
              "      <td>Iran</td>\n",
              "      <td>Asia</td>\n",
              "    </tr>\n",
              "    <tr>\n",
              "      <th>14</th>\n",
              "      <td>6/6/2020</td>\n",
              "      <td>Iraq;Asia</td>\n",
              "      <td>11098.0</td>\n",
              "      <td>4904.0</td>\n",
              "      <td>318.0</td>\n",
              "      <td>Iraq</td>\n",
              "      <td>Asia</td>\n",
              "    </tr>\n",
              "    <tr>\n",
              "      <th>15</th>\n",
              "      <td>6/6/2020</td>\n",
              "      <td>Ireland;Europe</td>\n",
              "      <td>25183.0</td>\n",
              "      <td>22698.0</td>\n",
              "      <td>1678.0</td>\n",
              "      <td>Ireland</td>\n",
              "      <td>Europe</td>\n",
              "    </tr>\n",
              "    <tr>\n",
              "      <th>16</th>\n",
              "      <td>6/6/2020</td>\n",
              "      <td>Israel;Asia</td>\n",
              "      <td>17752.0</td>\n",
              "      <td>15042.0</td>\n",
              "      <td>295.0</td>\n",
              "      <td>Israel</td>\n",
              "      <td>Asia</td>\n",
              "    </tr>\n",
              "    <tr>\n",
              "      <th>17</th>\n",
              "      <td>6/6/2020</td>\n",
              "      <td>Italy;Europe</td>\n",
              "      <td>234801.0</td>\n",
              "      <td>165078.0</td>\n",
              "      <td>33846.0</td>\n",
              "      <td>Italy</td>\n",
              "      <td>Europe</td>\n",
              "    </tr>\n",
              "  </tbody>\n",
              "</table>\n",
              "</div>"
            ],
            "text/plain": [
              "         Date         CountryRegion  ...   country,         region\n",
              "0   1/22/2020          Ghana;Africa  ...      Ghana         Africa\n",
              "1   1/22/2020         Greece;Europe  ...     Greece         Europe\n",
              "2   1/22/2020        Iceland;Europe  ...    Iceland         Europe\n",
              "3   1/22/2020            India;Asia  ...      India           Asia\n",
              "4   1/22/2020        Indonesia;Asia  ...  Indonesia           Asia\n",
              "5   1/22/2020             Iran;Asia  ...       Iran           Asia\n",
              "6   1/22/2020             Iraq;Asia  ...       Iraq           Asia\n",
              "7   1/22/2020        Ireland;Europe  ...    Ireland         Europe\n",
              "8    6/6/2020         Guinea;Africa  ...     Guinea         Africa\n",
              "9    6/6/2020  Guyana;South America  ...     Guyana  South America\n",
              "10   6/6/2020   Haiti;North America  ...      Haiti  North America\n",
              "11   6/6/2020      Holy See;Unknown  ...   Holy See        Unknown\n",
              "12   6/6/2020        Indonesia;Asia  ...  Indonesia           Asia\n",
              "13   6/6/2020             Iran;Asia  ...       Iran           Asia\n",
              "14   6/6/2020             Iraq;Asia  ...       Iraq           Asia\n",
              "15   6/6/2020        Ireland;Europe  ...    Ireland         Europe\n",
              "16   6/6/2020           Israel;Asia  ...     Israel           Asia\n",
              "17   6/6/2020          Italy;Europe  ...      Italy         Europe\n",
              "\n",
              "[18 rows x 7 columns]"
            ]
          },
          "metadata": {},
          "execution_count": 42
        }
      ]
    },
    {
      "cell_type": "markdown",
      "metadata": {
        "id": "95L8lih9XEuO"
      },
      "source": [
        "**Example 6:**"
      ]
    },
    {
      "cell_type": "code",
      "metadata": {
        "id": "HRpLgaXUXEfk",
        "colab": {
          "base_uri": "https://localhost:8080/",
          "height": 603
        },
        "outputId": "948c2507-7cf0-4841-84bf-35da3cdf7082"
      },
      "source": [
        "def substitute_region(x_df):\n",
        "    mapping={'Africa':'AF', 'Asia':'AS','Europe':'EU','South America':'SA','North America':'NA'}\n",
        "    x_df['region']=x_df['region'].map(mapping)\n",
        "    return x_df\n",
        "\n",
        "res=(res.pipe(substitute_region))\n",
        "res"
      ],
      "execution_count": null,
      "outputs": [
        {
          "output_type": "execute_result",
          "data": {
            "text/html": [
              "<div>\n",
              "<style scoped>\n",
              "    .dataframe tbody tr th:only-of-type {\n",
              "        vertical-align: middle;\n",
              "    }\n",
              "\n",
              "    .dataframe tbody tr th {\n",
              "        vertical-align: top;\n",
              "    }\n",
              "\n",
              "    .dataframe thead th {\n",
              "        text-align: right;\n",
              "    }\n",
              "</style>\n",
              "<table border=\"1\" class=\"dataframe\">\n",
              "  <thead>\n",
              "    <tr style=\"text-align: right;\">\n",
              "      <th></th>\n",
              "      <th>Date</th>\n",
              "      <th>CountryRegion</th>\n",
              "      <th>Confirmed</th>\n",
              "      <th>Recovered</th>\n",
              "      <th>Deaths</th>\n",
              "      <th>country,</th>\n",
              "      <th>region</th>\n",
              "    </tr>\n",
              "  </thead>\n",
              "  <tbody>\n",
              "    <tr>\n",
              "      <th>0</th>\n",
              "      <td>1/22/2020</td>\n",
              "      <td>Ghana;Africa</td>\n",
              "      <td>NaN</td>\n",
              "      <td>NaN</td>\n",
              "      <td>0.0</td>\n",
              "      <td>Ghana</td>\n",
              "      <td>AF</td>\n",
              "    </tr>\n",
              "    <tr>\n",
              "      <th>1</th>\n",
              "      <td>1/22/2020</td>\n",
              "      <td>Greece;Europe</td>\n",
              "      <td>NaN</td>\n",
              "      <td>NaN</td>\n",
              "      <td>0.0</td>\n",
              "      <td>Greece</td>\n",
              "      <td>EU</td>\n",
              "    </tr>\n",
              "    <tr>\n",
              "      <th>2</th>\n",
              "      <td>1/22/2020</td>\n",
              "      <td>Iceland;Europe</td>\n",
              "      <td>0.0</td>\n",
              "      <td>NaN</td>\n",
              "      <td>0.0</td>\n",
              "      <td>Iceland</td>\n",
              "      <td>EU</td>\n",
              "    </tr>\n",
              "    <tr>\n",
              "      <th>3</th>\n",
              "      <td>1/22/2020</td>\n",
              "      <td>India;Asia</td>\n",
              "      <td>0.0</td>\n",
              "      <td>NaN</td>\n",
              "      <td>0.0</td>\n",
              "      <td>India</td>\n",
              "      <td>AS</td>\n",
              "    </tr>\n",
              "    <tr>\n",
              "      <th>4</th>\n",
              "      <td>1/22/2020</td>\n",
              "      <td>Indonesia;Asia</td>\n",
              "      <td>0.0</td>\n",
              "      <td>NaN</td>\n",
              "      <td>0.0</td>\n",
              "      <td>Indonesia</td>\n",
              "      <td>AS</td>\n",
              "    </tr>\n",
              "    <tr>\n",
              "      <th>5</th>\n",
              "      <td>1/22/2020</td>\n",
              "      <td>Iran;Asia</td>\n",
              "      <td>0.0</td>\n",
              "      <td>NaN</td>\n",
              "      <td>0.0</td>\n",
              "      <td>Iran</td>\n",
              "      <td>AS</td>\n",
              "    </tr>\n",
              "    <tr>\n",
              "      <th>6</th>\n",
              "      <td>1/22/2020</td>\n",
              "      <td>Iraq;Asia</td>\n",
              "      <td>0.0</td>\n",
              "      <td>NaN</td>\n",
              "      <td>NaN</td>\n",
              "      <td>Iraq</td>\n",
              "      <td>AS</td>\n",
              "    </tr>\n",
              "    <tr>\n",
              "      <th>7</th>\n",
              "      <td>1/22/2020</td>\n",
              "      <td>Ireland;Europe</td>\n",
              "      <td>0.0</td>\n",
              "      <td>NaN</td>\n",
              "      <td>NaN</td>\n",
              "      <td>Ireland</td>\n",
              "      <td>EU</td>\n",
              "    </tr>\n",
              "    <tr>\n",
              "      <th>8</th>\n",
              "      <td>6/6/2020</td>\n",
              "      <td>Guinea;Africa</td>\n",
              "      <td>4117.0</td>\n",
              "      <td>2857.0</td>\n",
              "      <td>23.0</td>\n",
              "      <td>Guinea</td>\n",
              "      <td>AF</td>\n",
              "    </tr>\n",
              "    <tr>\n",
              "      <th>9</th>\n",
              "      <td>6/6/2020</td>\n",
              "      <td>Guyana;South America</td>\n",
              "      <td>154.0</td>\n",
              "      <td>80.0</td>\n",
              "      <td>12.0</td>\n",
              "      <td>Guyana</td>\n",
              "      <td>SA</td>\n",
              "    </tr>\n",
              "    <tr>\n",
              "      <th>10</th>\n",
              "      <td>6/6/2020</td>\n",
              "      <td>Haiti;North America</td>\n",
              "      <td>3072.0</td>\n",
              "      <td>24.0</td>\n",
              "      <td>50.0</td>\n",
              "      <td>Haiti</td>\n",
              "      <td>NA</td>\n",
              "    </tr>\n",
              "    <tr>\n",
              "      <th>11</th>\n",
              "      <td>6/6/2020</td>\n",
              "      <td>Holy See;Unknown</td>\n",
              "      <td>12.0</td>\n",
              "      <td>12.0</td>\n",
              "      <td>0.0</td>\n",
              "      <td>Holy See</td>\n",
              "      <td>NaN</td>\n",
              "    </tr>\n",
              "    <tr>\n",
              "      <th>12</th>\n",
              "      <td>6/6/2020</td>\n",
              "      <td>Indonesia;Asia</td>\n",
              "      <td>30514.0</td>\n",
              "      <td>9907.0</td>\n",
              "      <td>1801.0</td>\n",
              "      <td>Indonesia</td>\n",
              "      <td>AS</td>\n",
              "    </tr>\n",
              "    <tr>\n",
              "      <th>13</th>\n",
              "      <td>6/6/2020</td>\n",
              "      <td>Iran;Asia</td>\n",
              "      <td>169425.0</td>\n",
              "      <td>132038.0</td>\n",
              "      <td>8209.0</td>\n",
              "      <td>Iran</td>\n",
              "      <td>AS</td>\n",
              "    </tr>\n",
              "    <tr>\n",
              "      <th>14</th>\n",
              "      <td>6/6/2020</td>\n",
              "      <td>Iraq;Asia</td>\n",
              "      <td>11098.0</td>\n",
              "      <td>4904.0</td>\n",
              "      <td>318.0</td>\n",
              "      <td>Iraq</td>\n",
              "      <td>AS</td>\n",
              "    </tr>\n",
              "    <tr>\n",
              "      <th>15</th>\n",
              "      <td>6/6/2020</td>\n",
              "      <td>Ireland;Europe</td>\n",
              "      <td>25183.0</td>\n",
              "      <td>22698.0</td>\n",
              "      <td>1678.0</td>\n",
              "      <td>Ireland</td>\n",
              "      <td>EU</td>\n",
              "    </tr>\n",
              "    <tr>\n",
              "      <th>16</th>\n",
              "      <td>6/6/2020</td>\n",
              "      <td>Israel;Asia</td>\n",
              "      <td>17752.0</td>\n",
              "      <td>15042.0</td>\n",
              "      <td>295.0</td>\n",
              "      <td>Israel</td>\n",
              "      <td>AS</td>\n",
              "    </tr>\n",
              "    <tr>\n",
              "      <th>17</th>\n",
              "      <td>6/6/2020</td>\n",
              "      <td>Italy;Europe</td>\n",
              "      <td>234801.0</td>\n",
              "      <td>165078.0</td>\n",
              "      <td>33846.0</td>\n",
              "      <td>Italy</td>\n",
              "      <td>EU</td>\n",
              "    </tr>\n",
              "  </tbody>\n",
              "</table>\n",
              "</div>"
            ],
            "text/plain": [
              "         Date         CountryRegion  Confirmed  ...   Deaths   country, region\n",
              "0   1/22/2020          Ghana;Africa        NaN  ...      0.0      Ghana     AF\n",
              "1   1/22/2020         Greece;Europe        NaN  ...      0.0     Greece     EU\n",
              "2   1/22/2020        Iceland;Europe        0.0  ...      0.0    Iceland     EU\n",
              "3   1/22/2020            India;Asia        0.0  ...      0.0      India     AS\n",
              "4   1/22/2020        Indonesia;Asia        0.0  ...      0.0  Indonesia     AS\n",
              "5   1/22/2020             Iran;Asia        0.0  ...      0.0       Iran     AS\n",
              "6   1/22/2020             Iraq;Asia        0.0  ...      NaN       Iraq     AS\n",
              "7   1/22/2020        Ireland;Europe        0.0  ...      NaN    Ireland     EU\n",
              "8    6/6/2020         Guinea;Africa     4117.0  ...     23.0     Guinea     AF\n",
              "9    6/6/2020  Guyana;South America      154.0  ...     12.0     Guyana     SA\n",
              "10   6/6/2020   Haiti;North America     3072.0  ...     50.0      Haiti     NA\n",
              "11   6/6/2020      Holy See;Unknown       12.0  ...      0.0   Holy See    NaN\n",
              "12   6/6/2020        Indonesia;Asia    30514.0  ...   1801.0  Indonesia     AS\n",
              "13   6/6/2020             Iran;Asia   169425.0  ...   8209.0       Iran     AS\n",
              "14   6/6/2020             Iraq;Asia    11098.0  ...    318.0       Iraq     AS\n",
              "15   6/6/2020        Ireland;Europe    25183.0  ...   1678.0    Ireland     EU\n",
              "16   6/6/2020           Israel;Asia    17752.0  ...    295.0     Israel     AS\n",
              "17   6/6/2020          Italy;Europe   234801.0  ...  33846.0      Italy     EU\n",
              "\n",
              "[18 rows x 7 columns]"
            ]
          },
          "metadata": {},
          "execution_count": 43
        }
      ]
    },
    {
      "cell_type": "markdown",
      "metadata": {
        "id": "VvQ_r9oPXApq"
      },
      "source": [
        "**Example 7:**"
      ]
    },
    {
      "cell_type": "code",
      "metadata": {
        "id": "rBdewxjVXALq",
        "colab": {
          "base_uri": "https://localhost:8080/"
        },
        "outputId": "1cd0d754-ede5-49a4-ad82-e237890bd95b"
      },
      "source": [
        "import numpy as np\n",
        "a = pd.cut(np.array([1, 7, 5, 4, 6, 3]), 3)\n",
        "a"
      ],
      "execution_count": null,
      "outputs": [
        {
          "output_type": "execute_result",
          "data": {
            "text/plain": [
              "[(0.994, 3.0], (5.0, 7.0], (3.0, 5.0], (3.0, 5.0], (5.0, 7.0], (0.994, 3.0]]\n",
              "Categories (3, interval[float64]): [(0.994, 3.0] < (3.0, 5.0] < (5.0, 7.0]]"
            ]
          },
          "metadata": {},
          "execution_count": 44
        }
      ]
    },
    {
      "cell_type": "markdown",
      "metadata": {
        "id": "TmFeVm8dXiJr"
      },
      "source": [
        "**Example 8:**"
      ]
    },
    {
      "cell_type": "code",
      "metadata": {
        "id": "AaJSLXSYXidr",
        "colab": {
          "base_uri": "https://localhost:8080/"
        },
        "outputId": "19cc608b-e178-439e-d651-bf8a2959963e"
      },
      "source": [
        "import pandas as pd\n",
        "import numpy as np\n",
        "pd.cut(np.array([1, 7, 5, 4, 6, 3]),bins = 3, labels=[\"bad\", \"medium\", \"good\"])"
      ],
      "execution_count": null,
      "outputs": [
        {
          "output_type": "execute_result",
          "data": {
            "text/plain": [
              "['bad', 'good', 'medium', 'medium', 'good', 'bad']\n",
              "Categories (3, object): ['bad' < 'medium' < 'good']"
            ]
          },
          "metadata": {},
          "execution_count": 45
        }
      ]
    },
    {
      "cell_type": "markdown",
      "metadata": {
        "id": "Z6TzRXFvXtPw"
      },
      "source": [
        "**Example 9:**"
      ]
    },
    {
      "cell_type": "code",
      "metadata": {
        "id": "Z4we-4LAXxM1",
        "colab": {
          "base_uri": "https://localhost:8080/"
        },
        "outputId": "d59b5c05-d90f-4c7a-f1bb-763a272f3de9"
      },
      "source": [
        "pd.cut(np.array([1, 7, 5, 4, 6, 3]), 3,labels=[\"B\", \"A\", \"B\"], ordered=False)"
      ],
      "execution_count": null,
      "outputs": [
        {
          "output_type": "execute_result",
          "data": {
            "text/plain": [
              "['B', 'B', 'A', 'A', 'B', 'B']\n",
              "Categories (2, object): ['A', 'B']"
            ]
          },
          "metadata": {},
          "execution_count": 46
        }
      ]
    },
    {
      "cell_type": "markdown",
      "metadata": {
        "id": "onsll8O8X0y1"
      },
      "source": [
        "**Example 10:**"
      ]
    },
    {
      "cell_type": "code",
      "metadata": {
        "id": "Yfq0EFt2X34_",
        "colab": {
          "base_uri": "https://localhost:8080/",
          "height": 603
        },
        "outputId": "c702d77d-6778-4386-9940-5421867c0235"
      },
      "source": [
        "def create_evaluation_group(x_df):\n",
        "    bins=[0.0, 3000, 5000, sys.maxsize]\n",
        "    labels=['normal', 'medium', 'worst']\n",
        "    evaluationGroup=pd.cut(x_df['Confirmed'], bins=bins, labels=labels,include_lowest=True)\n",
        "    x_df['Evaluation']=evaluationGroup\n",
        "    return x_df\n",
        "\n",
        "res=(res.pipe(create_evaluation_group))\n",
        "res"
      ],
      "execution_count": null,
      "outputs": [
        {
          "output_type": "execute_result",
          "data": {
            "text/html": [
              "<div>\n",
              "<style scoped>\n",
              "    .dataframe tbody tr th:only-of-type {\n",
              "        vertical-align: middle;\n",
              "    }\n",
              "\n",
              "    .dataframe tbody tr th {\n",
              "        vertical-align: top;\n",
              "    }\n",
              "\n",
              "    .dataframe thead th {\n",
              "        text-align: right;\n",
              "    }\n",
              "</style>\n",
              "<table border=\"1\" class=\"dataframe\">\n",
              "  <thead>\n",
              "    <tr style=\"text-align: right;\">\n",
              "      <th></th>\n",
              "      <th>Date</th>\n",
              "      <th>CountryRegion</th>\n",
              "      <th>Confirmed</th>\n",
              "      <th>Recovered</th>\n",
              "      <th>Deaths</th>\n",
              "      <th>country,</th>\n",
              "      <th>region</th>\n",
              "      <th>Evaluation</th>\n",
              "    </tr>\n",
              "  </thead>\n",
              "  <tbody>\n",
              "    <tr>\n",
              "      <th>0</th>\n",
              "      <td>1/22/2020</td>\n",
              "      <td>Ghana;Africa</td>\n",
              "      <td>NaN</td>\n",
              "      <td>NaN</td>\n",
              "      <td>0.0</td>\n",
              "      <td>Ghana</td>\n",
              "      <td>AF</td>\n",
              "      <td>NaN</td>\n",
              "    </tr>\n",
              "    <tr>\n",
              "      <th>1</th>\n",
              "      <td>1/22/2020</td>\n",
              "      <td>Greece;Europe</td>\n",
              "      <td>NaN</td>\n",
              "      <td>NaN</td>\n",
              "      <td>0.0</td>\n",
              "      <td>Greece</td>\n",
              "      <td>EU</td>\n",
              "      <td>NaN</td>\n",
              "    </tr>\n",
              "    <tr>\n",
              "      <th>2</th>\n",
              "      <td>1/22/2020</td>\n",
              "      <td>Iceland;Europe</td>\n",
              "      <td>0.0</td>\n",
              "      <td>NaN</td>\n",
              "      <td>0.0</td>\n",
              "      <td>Iceland</td>\n",
              "      <td>EU</td>\n",
              "      <td>normal</td>\n",
              "    </tr>\n",
              "    <tr>\n",
              "      <th>3</th>\n",
              "      <td>1/22/2020</td>\n",
              "      <td>India;Asia</td>\n",
              "      <td>0.0</td>\n",
              "      <td>NaN</td>\n",
              "      <td>0.0</td>\n",
              "      <td>India</td>\n",
              "      <td>AS</td>\n",
              "      <td>normal</td>\n",
              "    </tr>\n",
              "    <tr>\n",
              "      <th>4</th>\n",
              "      <td>1/22/2020</td>\n",
              "      <td>Indonesia;Asia</td>\n",
              "      <td>0.0</td>\n",
              "      <td>NaN</td>\n",
              "      <td>0.0</td>\n",
              "      <td>Indonesia</td>\n",
              "      <td>AS</td>\n",
              "      <td>normal</td>\n",
              "    </tr>\n",
              "    <tr>\n",
              "      <th>5</th>\n",
              "      <td>1/22/2020</td>\n",
              "      <td>Iran;Asia</td>\n",
              "      <td>0.0</td>\n",
              "      <td>NaN</td>\n",
              "      <td>0.0</td>\n",
              "      <td>Iran</td>\n",
              "      <td>AS</td>\n",
              "      <td>normal</td>\n",
              "    </tr>\n",
              "    <tr>\n",
              "      <th>6</th>\n",
              "      <td>1/22/2020</td>\n",
              "      <td>Iraq;Asia</td>\n",
              "      <td>0.0</td>\n",
              "      <td>NaN</td>\n",
              "      <td>NaN</td>\n",
              "      <td>Iraq</td>\n",
              "      <td>AS</td>\n",
              "      <td>normal</td>\n",
              "    </tr>\n",
              "    <tr>\n",
              "      <th>7</th>\n",
              "      <td>1/22/2020</td>\n",
              "      <td>Ireland;Europe</td>\n",
              "      <td>0.0</td>\n",
              "      <td>NaN</td>\n",
              "      <td>NaN</td>\n",
              "      <td>Ireland</td>\n",
              "      <td>EU</td>\n",
              "      <td>normal</td>\n",
              "    </tr>\n",
              "    <tr>\n",
              "      <th>8</th>\n",
              "      <td>6/6/2020</td>\n",
              "      <td>Guinea;Africa</td>\n",
              "      <td>4117.0</td>\n",
              "      <td>2857.0</td>\n",
              "      <td>23.0</td>\n",
              "      <td>Guinea</td>\n",
              "      <td>AF</td>\n",
              "      <td>medium</td>\n",
              "    </tr>\n",
              "    <tr>\n",
              "      <th>9</th>\n",
              "      <td>6/6/2020</td>\n",
              "      <td>Guyana;South America</td>\n",
              "      <td>154.0</td>\n",
              "      <td>80.0</td>\n",
              "      <td>12.0</td>\n",
              "      <td>Guyana</td>\n",
              "      <td>SA</td>\n",
              "      <td>normal</td>\n",
              "    </tr>\n",
              "    <tr>\n",
              "      <th>10</th>\n",
              "      <td>6/6/2020</td>\n",
              "      <td>Haiti;North America</td>\n",
              "      <td>3072.0</td>\n",
              "      <td>24.0</td>\n",
              "      <td>50.0</td>\n",
              "      <td>Haiti</td>\n",
              "      <td>NA</td>\n",
              "      <td>medium</td>\n",
              "    </tr>\n",
              "    <tr>\n",
              "      <th>11</th>\n",
              "      <td>6/6/2020</td>\n",
              "      <td>Holy See;Unknown</td>\n",
              "      <td>12.0</td>\n",
              "      <td>12.0</td>\n",
              "      <td>0.0</td>\n",
              "      <td>Holy See</td>\n",
              "      <td>NaN</td>\n",
              "      <td>normal</td>\n",
              "    </tr>\n",
              "    <tr>\n",
              "      <th>12</th>\n",
              "      <td>6/6/2020</td>\n",
              "      <td>Indonesia;Asia</td>\n",
              "      <td>30514.0</td>\n",
              "      <td>9907.0</td>\n",
              "      <td>1801.0</td>\n",
              "      <td>Indonesia</td>\n",
              "      <td>AS</td>\n",
              "      <td>worst</td>\n",
              "    </tr>\n",
              "    <tr>\n",
              "      <th>13</th>\n",
              "      <td>6/6/2020</td>\n",
              "      <td>Iran;Asia</td>\n",
              "      <td>169425.0</td>\n",
              "      <td>132038.0</td>\n",
              "      <td>8209.0</td>\n",
              "      <td>Iran</td>\n",
              "      <td>AS</td>\n",
              "      <td>worst</td>\n",
              "    </tr>\n",
              "    <tr>\n",
              "      <th>14</th>\n",
              "      <td>6/6/2020</td>\n",
              "      <td>Iraq;Asia</td>\n",
              "      <td>11098.0</td>\n",
              "      <td>4904.0</td>\n",
              "      <td>318.0</td>\n",
              "      <td>Iraq</td>\n",
              "      <td>AS</td>\n",
              "      <td>worst</td>\n",
              "    </tr>\n",
              "    <tr>\n",
              "      <th>15</th>\n",
              "      <td>6/6/2020</td>\n",
              "      <td>Ireland;Europe</td>\n",
              "      <td>25183.0</td>\n",
              "      <td>22698.0</td>\n",
              "      <td>1678.0</td>\n",
              "      <td>Ireland</td>\n",
              "      <td>EU</td>\n",
              "      <td>worst</td>\n",
              "    </tr>\n",
              "    <tr>\n",
              "      <th>16</th>\n",
              "      <td>6/6/2020</td>\n",
              "      <td>Israel;Asia</td>\n",
              "      <td>17752.0</td>\n",
              "      <td>15042.0</td>\n",
              "      <td>295.0</td>\n",
              "      <td>Israel</td>\n",
              "      <td>AS</td>\n",
              "      <td>worst</td>\n",
              "    </tr>\n",
              "    <tr>\n",
              "      <th>17</th>\n",
              "      <td>6/6/2020</td>\n",
              "      <td>Italy;Europe</td>\n",
              "      <td>234801.0</td>\n",
              "      <td>165078.0</td>\n",
              "      <td>33846.0</td>\n",
              "      <td>Italy</td>\n",
              "      <td>EU</td>\n",
              "      <td>worst</td>\n",
              "    </tr>\n",
              "  </tbody>\n",
              "</table>\n",
              "</div>"
            ],
            "text/plain": [
              "         Date         CountryRegion  Confirmed  ...   country,  region Evaluation\n",
              "0   1/22/2020          Ghana;Africa        NaN  ...      Ghana      AF        NaN\n",
              "1   1/22/2020         Greece;Europe        NaN  ...     Greece      EU        NaN\n",
              "2   1/22/2020        Iceland;Europe        0.0  ...    Iceland      EU     normal\n",
              "3   1/22/2020            India;Asia        0.0  ...      India      AS     normal\n",
              "4   1/22/2020        Indonesia;Asia        0.0  ...  Indonesia      AS     normal\n",
              "5   1/22/2020             Iran;Asia        0.0  ...       Iran      AS     normal\n",
              "6   1/22/2020             Iraq;Asia        0.0  ...       Iraq      AS     normal\n",
              "7   1/22/2020        Ireland;Europe        0.0  ...    Ireland      EU     normal\n",
              "8    6/6/2020         Guinea;Africa     4117.0  ...     Guinea      AF     medium\n",
              "9    6/6/2020  Guyana;South America      154.0  ...     Guyana      SA     normal\n",
              "10   6/6/2020   Haiti;North America     3072.0  ...      Haiti      NA     medium\n",
              "11   6/6/2020      Holy See;Unknown       12.0  ...   Holy See     NaN     normal\n",
              "12   6/6/2020        Indonesia;Asia    30514.0  ...  Indonesia      AS      worst\n",
              "13   6/6/2020             Iran;Asia   169425.0  ...       Iran      AS      worst\n",
              "14   6/6/2020             Iraq;Asia    11098.0  ...       Iraq      AS      worst\n",
              "15   6/6/2020        Ireland;Europe    25183.0  ...    Ireland      EU      worst\n",
              "16   6/6/2020           Israel;Asia    17752.0  ...     Israel      AS      worst\n",
              "17   6/6/2020          Italy;Europe   234801.0  ...      Italy      EU      worst\n",
              "\n",
              "[18 rows x 8 columns]"
            ]
          },
          "metadata": {},
          "execution_count": 47
        }
      ]
    },
    {
      "cell_type": "code",
      "metadata": {
        "colab": {
          "resources": {
            "http://localhost:8080/nbextensions/google.colab/files.js": {
              "data": "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",
              "ok": true,
              "headers": [
                [
                  "content-type",
                  "application/javascript"
                ]
              ],
              "status": 200,
              "status_text": ""
            }
          },
          "base_uri": "https://localhost:8080/",
          "height": 90
        },
        "id": "9anGVAtCFO8Q",
        "outputId": "0faf400a-3863-4299-a257-bf056a312633"
      },
      "source": [
        "from google.colab import files\n",
        "uploaded = files.upload()"
      ],
      "execution_count": 2,
      "outputs": [
        {
          "output_type": "display_data",
          "data": {
            "text/html": [
              "\n",
              "     <input type=\"file\" id=\"files-42166ca9-9aed-42e1-bf11-033d0c90c0ab\" name=\"files[]\" multiple disabled\n",
              "        style=\"border:none\" />\n",
              "     <output id=\"result-42166ca9-9aed-42e1-bf11-033d0c90c0ab\">\n",
              "      Upload widget is only available when the cell has been executed in the\n",
              "      current browser session. Please rerun this cell to enable.\n",
              "      </output>\n",
              "      <script src=\"/nbextensions/google.colab/files.js\"></script> "
            ],
            "text/plain": [
              "<IPython.core.display.HTML object>"
            ]
          },
          "metadata": {}
        },
        {
          "output_type": "stream",
          "name": "stdout",
          "text": [
            "Saving processed_dulieuxettuyendaihoc.csv to processed_dulieuxettuyendaihoc.csv\n"
          ]
        }
      ]
    },
    {
      "cell_type": "code",
      "metadata": {
        "id": "8rH69Q-ZFkD3"
      },
      "source": [
        "import pandas as pd\n",
        "import io"
      ],
      "execution_count": 3,
      "outputs": []
    },
    {
      "cell_type": "code",
      "metadata": {
        "id": "gE0f9oSWEs4C"
      },
      "source": [
        "dlxtdh = pd.read_csv(io.StringIO(uploaded['processed_dulieuxettuyendaihoc.csv'].decode('utf-8')))"
      ],
      "execution_count": 4,
      "outputs": []
    },
    {
      "cell_type": "markdown",
      "metadata": {
        "id": "ohc0LQZyF_E3"
      },
      "source": [
        "Phần 1: Thống kê dữ liệu"
      ]
    },
    {
      "cell_type": "markdown",
      "metadata": {
        "id": "ck89gDggGCW_"
      },
      "source": [
        "1. Hãy sắp xếp dữ liệu điểm DH1 theo thứ tự tăng dần"
      ]
    },
    {
      "cell_type": "code",
      "metadata": {
        "colab": {
          "base_uri": "https://localhost:8080/",
          "height": 455
        },
        "id": "ogha60xoF6_P",
        "outputId": "4117649c-ef3c-431b-e47c-21ce694ce5d3"
      },
      "source": [
        "dlxtdh.sort_values(by = 'DH1')"
      ],
      "execution_count": 5,
      "outputs": [
        {
          "output_type": "execute_result",
          "data": {
            "text/html": [
              "<div>\n",
              "<style scoped>\n",
              "    .dataframe tbody tr th:only-of-type {\n",
              "        vertical-align: middle;\n",
              "    }\n",
              "\n",
              "    .dataframe tbody tr th {\n",
              "        vertical-align: top;\n",
              "    }\n",
              "\n",
              "    .dataframe thead th {\n",
              "        text-align: right;\n",
              "    }\n",
              "</style>\n",
              "<table border=\"1\" class=\"dataframe\">\n",
              "  <thead>\n",
              "    <tr style=\"text-align: right;\">\n",
              "      <th></th>\n",
              "      <th>Unnamed: 0</th>\n",
              "      <th>STT</th>\n",
              "      <th>T1</th>\n",
              "      <th>L1</th>\n",
              "      <th>H1</th>\n",
              "      <th>S1</th>\n",
              "      <th>V1</th>\n",
              "      <th>X1</th>\n",
              "      <th>D1</th>\n",
              "      <th>N1</th>\n",
              "      <th>T2</th>\n",
              "      <th>L2</th>\n",
              "      <th>H2</th>\n",
              "      <th>S2</th>\n",
              "      <th>V2</th>\n",
              "      <th>X2</th>\n",
              "      <th>D2</th>\n",
              "      <th>N2</th>\n",
              "      <th>T3</th>\n",
              "      <th>L3</th>\n",
              "      <th>H3</th>\n",
              "      <th>S3</th>\n",
              "      <th>V3</th>\n",
              "      <th>X3</th>\n",
              "      <th>D3</th>\n",
              "      <th>N3</th>\n",
              "      <th>T4</th>\n",
              "      <th>L4</th>\n",
              "      <th>H4</th>\n",
              "      <th>S4</th>\n",
              "      <th>V4</th>\n",
              "      <th>X4</th>\n",
              "      <th>D4</th>\n",
              "      <th>N4</th>\n",
              "      <th>T5</th>\n",
              "      <th>L5</th>\n",
              "      <th>H5</th>\n",
              "      <th>S5</th>\n",
              "      <th>V5</th>\n",
              "      <th>X5</th>\n",
              "      <th>D5</th>\n",
              "      <th>N5</th>\n",
              "      <th>T6</th>\n",
              "      <th>L6</th>\n",
              "      <th>H6</th>\n",
              "      <th>S6</th>\n",
              "      <th>V6</th>\n",
              "      <th>X6</th>\n",
              "      <th>D6</th>\n",
              "      <th>N6</th>\n",
              "      <th>GT</th>\n",
              "      <th>DT</th>\n",
              "      <th>KV</th>\n",
              "      <th>DH1</th>\n",
              "      <th>DH2</th>\n",
              "      <th>DH3</th>\n",
              "      <th>KT</th>\n",
              "      <th>TBM1</th>\n",
              "      <th>TBM2</th>\n",
              "      <th>TBM3</th>\n",
              "      <th>XL1</th>\n",
              "      <th>XL2</th>\n",
              "      <th>XL3</th>\n",
              "      <th>US_TBM1</th>\n",
              "      <th>US_TBM2</th>\n",
              "      <th>US_TBM3</th>\n",
              "      <th>KQXT</th>\n",
              "    </tr>\n",
              "  </thead>\n",
              "  <tbody>\n",
              "    <tr>\n",
              "      <th>53</th>\n",
              "      <td>53</td>\n",
              "      <td>54</td>\n",
              "      <td>4.9</td>\n",
              "      <td>5.9</td>\n",
              "      <td>6.2</td>\n",
              "      <td>5.6</td>\n",
              "      <td>5.9</td>\n",
              "      <td>5.0</td>\n",
              "      <td>7.0</td>\n",
              "      <td>5.6</td>\n",
              "      <td>6.1</td>\n",
              "      <td>7.1</td>\n",
              "      <td>6.4</td>\n",
              "      <td>6.0</td>\n",
              "      <td>6.3</td>\n",
              "      <td>5.5</td>\n",
              "      <td>6.2</td>\n",
              "      <td>6.6</td>\n",
              "      <td>2.5</td>\n",
              "      <td>4.8</td>\n",
              "      <td>5.0</td>\n",
              "      <td>5.0</td>\n",
              "      <td>4.5</td>\n",
              "      <td>2.4</td>\n",
              "      <td>5.8</td>\n",
              "      <td>3.7</td>\n",
              "      <td>6.2</td>\n",
              "      <td>4.1</td>\n",
              "      <td>4.4</td>\n",
              "      <td>5.2</td>\n",
              "      <td>4.1</td>\n",
              "      <td>6.3</td>\n",
              "      <td>4.9</td>\n",
              "      <td>4.6</td>\n",
              "      <td>4.9</td>\n",
              "      <td>5.2</td>\n",
              "      <td>4.9</td>\n",
              "      <td>5.5</td>\n",
              "      <td>5.5</td>\n",
              "      <td>4.6</td>\n",
              "      <td>5.5</td>\n",
              "      <td>5.4</td>\n",
              "      <td>6.5</td>\n",
              "      <td>7.5</td>\n",
              "      <td>6.1</td>\n",
              "      <td>5.6</td>\n",
              "      <td>5.2</td>\n",
              "      <td>5.7</td>\n",
              "      <td>5.6</td>\n",
              "      <td>6.3</td>\n",
              "      <td>M</td>\n",
              "      <td>0.0</td>\n",
              "      <td>1</td>\n",
              "      <td>1.00</td>\n",
              "      <td>5.50</td>\n",
              "      <td>4.25</td>\n",
              "      <td>A</td>\n",
              "      <td>5.69</td>\n",
              "      <td>6.26</td>\n",
              "      <td>6.02</td>\n",
              "      <td>TB</td>\n",
              "      <td>TB</td>\n",
              "      <td>TB</td>\n",
              "      <td>2.276</td>\n",
              "      <td>2.504</td>\n",
              "      <td>2.408</td>\n",
              "      <td>0.0</td>\n",
              "    </tr>\n",
              "    <tr>\n",
              "      <th>43</th>\n",
              "      <td>43</td>\n",
              "      <td>44</td>\n",
              "      <td>6.6</td>\n",
              "      <td>7.2</td>\n",
              "      <td>5.9</td>\n",
              "      <td>6.9</td>\n",
              "      <td>7.6</td>\n",
              "      <td>8.1</td>\n",
              "      <td>7.3</td>\n",
              "      <td>6.7</td>\n",
              "      <td>6.3</td>\n",
              "      <td>6.9</td>\n",
              "      <td>6.0</td>\n",
              "      <td>6.4</td>\n",
              "      <td>7.0</td>\n",
              "      <td>7.1</td>\n",
              "      <td>6.9</td>\n",
              "      <td>6.2</td>\n",
              "      <td>6.7</td>\n",
              "      <td>7.1</td>\n",
              "      <td>5.4</td>\n",
              "      <td>6.8</td>\n",
              "      <td>6.8</td>\n",
              "      <td>5.9</td>\n",
              "      <td>6.6</td>\n",
              "      <td>6.8</td>\n",
              "      <td>6.0</td>\n",
              "      <td>7.6</td>\n",
              "      <td>6.5</td>\n",
              "      <td>7.6</td>\n",
              "      <td>6.7</td>\n",
              "      <td>7.1</td>\n",
              "      <td>7.9</td>\n",
              "      <td>5.6</td>\n",
              "      <td>5.8</td>\n",
              "      <td>5.9</td>\n",
              "      <td>5.8</td>\n",
              "      <td>4.6</td>\n",
              "      <td>6.6</td>\n",
              "      <td>4.0</td>\n",
              "      <td>6.0</td>\n",
              "      <td>6.2</td>\n",
              "      <td>6.0</td>\n",
              "      <td>7.6</td>\n",
              "      <td>6.5</td>\n",
              "      <td>7.6</td>\n",
              "      <td>6.7</td>\n",
              "      <td>7.1</td>\n",
              "      <td>7.9</td>\n",
              "      <td>5.6</td>\n",
              "      <td>F</td>\n",
              "      <td>1.0</td>\n",
              "      <td>2</td>\n",
              "      <td>1.25</td>\n",
              "      <td>3.50</td>\n",
              "      <td>5.00</td>\n",
              "      <td>D1</td>\n",
              "      <td>7.05</td>\n",
              "      <td>6.61</td>\n",
              "      <td>6.77</td>\n",
              "      <td>K</td>\n",
              "      <td>K</td>\n",
              "      <td>K</td>\n",
              "      <td>2.820</td>\n",
              "      <td>2.644</td>\n",
              "      <td>2.708</td>\n",
              "      <td>0.0</td>\n",
              "    </tr>\n",
              "    <tr>\n",
              "      <th>72</th>\n",
              "      <td>72</td>\n",
              "      <td>73</td>\n",
              "      <td>5.5</td>\n",
              "      <td>6.6</td>\n",
              "      <td>7.2</td>\n",
              "      <td>7.6</td>\n",
              "      <td>5.5</td>\n",
              "      <td>6.7</td>\n",
              "      <td>6.7</td>\n",
              "      <td>5.2</td>\n",
              "      <td>6.0</td>\n",
              "      <td>6.8</td>\n",
              "      <td>6.3</td>\n",
              "      <td>7.2</td>\n",
              "      <td>4.9</td>\n",
              "      <td>4.8</td>\n",
              "      <td>6.6</td>\n",
              "      <td>5.3</td>\n",
              "      <td>4.6</td>\n",
              "      <td>5.5</td>\n",
              "      <td>5.5</td>\n",
              "      <td>7.1</td>\n",
              "      <td>5.2</td>\n",
              "      <td>6.1</td>\n",
              "      <td>7.1</td>\n",
              "      <td>5.4</td>\n",
              "      <td>5.2</td>\n",
              "      <td>4.7</td>\n",
              "      <td>5.8</td>\n",
              "      <td>6.3</td>\n",
              "      <td>5.7</td>\n",
              "      <td>5.6</td>\n",
              "      <td>5.2</td>\n",
              "      <td>5.3</td>\n",
              "      <td>5.2</td>\n",
              "      <td>5.5</td>\n",
              "      <td>6.3</td>\n",
              "      <td>6.6</td>\n",
              "      <td>6.1</td>\n",
              "      <td>6.5</td>\n",
              "      <td>5.3</td>\n",
              "      <td>5.2</td>\n",
              "      <td>6.1</td>\n",
              "      <td>6.2</td>\n",
              "      <td>7.3</td>\n",
              "      <td>7.8</td>\n",
              "      <td>5.5</td>\n",
              "      <td>5.9</td>\n",
              "      <td>6.3</td>\n",
              "      <td>5.5</td>\n",
              "      <td>M</td>\n",
              "      <td>0.0</td>\n",
              "      <td>1</td>\n",
              "      <td>1.50</td>\n",
              "      <td>4.50</td>\n",
              "      <td>5.50</td>\n",
              "      <td>A</td>\n",
              "      <td>6.20</td>\n",
              "      <td>5.88</td>\n",
              "      <td>6.22</td>\n",
              "      <td>TB</td>\n",
              "      <td>TB</td>\n",
              "      <td>TB</td>\n",
              "      <td>2.480</td>\n",
              "      <td>2.352</td>\n",
              "      <td>2.488</td>\n",
              "      <td>0.0</td>\n",
              "    </tr>\n",
              "    <tr>\n",
              "      <th>5</th>\n",
              "      <td>5</td>\n",
              "      <td>6</td>\n",
              "      <td>9.3</td>\n",
              "      <td>7.6</td>\n",
              "      <td>7.9</td>\n",
              "      <td>8.6</td>\n",
              "      <td>7.0</td>\n",
              "      <td>7.3</td>\n",
              "      <td>7.7</td>\n",
              "      <td>7.9</td>\n",
              "      <td>9.6</td>\n",
              "      <td>7.8</td>\n",
              "      <td>8.0</td>\n",
              "      <td>8.7</td>\n",
              "      <td>7.7</td>\n",
              "      <td>8.0</td>\n",
              "      <td>9.2</td>\n",
              "      <td>9.1</td>\n",
              "      <td>7.1</td>\n",
              "      <td>8.5</td>\n",
              "      <td>8.1</td>\n",
              "      <td>8.7</td>\n",
              "      <td>7.2</td>\n",
              "      <td>8.4</td>\n",
              "      <td>7.7</td>\n",
              "      <td>8.2</td>\n",
              "      <td>8.5</td>\n",
              "      <td>8.5</td>\n",
              "      <td>7.7</td>\n",
              "      <td>9.2</td>\n",
              "      <td>8.0</td>\n",
              "      <td>6.6</td>\n",
              "      <td>7.3</td>\n",
              "      <td>8.8</td>\n",
              "      <td>8.5</td>\n",
              "      <td>7.6</td>\n",
              "      <td>8.1</td>\n",
              "      <td>9.0</td>\n",
              "      <td>8.4</td>\n",
              "      <td>6.6</td>\n",
              "      <td>6.6</td>\n",
              "      <td>8.2</td>\n",
              "      <td>7.8</td>\n",
              "      <td>6.4</td>\n",
              "      <td>7.2</td>\n",
              "      <td>7.7</td>\n",
              "      <td>7.7</td>\n",
              "      <td>5.7</td>\n",
              "      <td>8.0</td>\n",
              "      <td>7.8</td>\n",
              "      <td>M</td>\n",
              "      <td>0.0</td>\n",
              "      <td>1</td>\n",
              "      <td>1.50</td>\n",
              "      <td>4.00</td>\n",
              "      <td>6.00</td>\n",
              "      <td>D1</td>\n",
              "      <td>7.96</td>\n",
              "      <td>8.54</td>\n",
              "      <td>7.38</td>\n",
              "      <td>K</td>\n",
              "      <td>G</td>\n",
              "      <td>K</td>\n",
              "      <td>3.184</td>\n",
              "      <td>3.416</td>\n",
              "      <td>2.952</td>\n",
              "      <td>0.0</td>\n",
              "    </tr>\n",
              "    <tr>\n",
              "      <th>87</th>\n",
              "      <td>87</td>\n",
              "      <td>88</td>\n",
              "      <td>7.3</td>\n",
              "      <td>4.3</td>\n",
              "      <td>5.3</td>\n",
              "      <td>5.8</td>\n",
              "      <td>4.9</td>\n",
              "      <td>3.7</td>\n",
              "      <td>5.6</td>\n",
              "      <td>5.3</td>\n",
              "      <td>5.9</td>\n",
              "      <td>6.0</td>\n",
              "      <td>6.3</td>\n",
              "      <td>5.9</td>\n",
              "      <td>5.0</td>\n",
              "      <td>6.6</td>\n",
              "      <td>6.6</td>\n",
              "      <td>4.6</td>\n",
              "      <td>7.1</td>\n",
              "      <td>6.3</td>\n",
              "      <td>7.3</td>\n",
              "      <td>6.7</td>\n",
              "      <td>6.5</td>\n",
              "      <td>5.4</td>\n",
              "      <td>6.7</td>\n",
              "      <td>5.5</td>\n",
              "      <td>7.7</td>\n",
              "      <td>5.4</td>\n",
              "      <td>7.5</td>\n",
              "      <td>7.1</td>\n",
              "      <td>6.8</td>\n",
              "      <td>5.8</td>\n",
              "      <td>6.8</td>\n",
              "      <td>6.5</td>\n",
              "      <td>7.9</td>\n",
              "      <td>5.9</td>\n",
              "      <td>5.9</td>\n",
              "      <td>5.9</td>\n",
              "      <td>5.7</td>\n",
              "      <td>6.1</td>\n",
              "      <td>6.8</td>\n",
              "      <td>6.7</td>\n",
              "      <td>6.6</td>\n",
              "      <td>6.4</td>\n",
              "      <td>6.9</td>\n",
              "      <td>5.7</td>\n",
              "      <td>6.4</td>\n",
              "      <td>6.4</td>\n",
              "      <td>7.2</td>\n",
              "      <td>6.2</td>\n",
              "      <td>M</td>\n",
              "      <td>0.0</td>\n",
              "      <td>1</td>\n",
              "      <td>1.75</td>\n",
              "      <td>4.00</td>\n",
              "      <td>4.50</td>\n",
              "      <td>A</td>\n",
              "      <td>5.44</td>\n",
              "      <td>5.78</td>\n",
              "      <td>6.48</td>\n",
              "      <td>TB</td>\n",
              "      <td>TB</td>\n",
              "      <td>TB</td>\n",
              "      <td>2.176</td>\n",
              "      <td>2.312</td>\n",
              "      <td>2.592</td>\n",
              "      <td>0.0</td>\n",
              "    </tr>\n",
              "    <tr>\n",
              "      <th>...</th>\n",
              "      <td>...</td>\n",
              "      <td>...</td>\n",
              "      <td>...</td>\n",
              "      <td>...</td>\n",
              "      <td>...</td>\n",
              "      <td>...</td>\n",
              "      <td>...</td>\n",
              "      <td>...</td>\n",
              "      <td>...</td>\n",
              "      <td>...</td>\n",
              "      <td>...</td>\n",
              "      <td>...</td>\n",
              "      <td>...</td>\n",
              "      <td>...</td>\n",
              "      <td>...</td>\n",
              "      <td>...</td>\n",
              "      <td>...</td>\n",
              "      <td>...</td>\n",
              "      <td>...</td>\n",
              "      <td>...</td>\n",
              "      <td>...</td>\n",
              "      <td>...</td>\n",
              "      <td>...</td>\n",
              "      <td>...</td>\n",
              "      <td>...</td>\n",
              "      <td>...</td>\n",
              "      <td>...</td>\n",
              "      <td>...</td>\n",
              "      <td>...</td>\n",
              "      <td>...</td>\n",
              "      <td>...</td>\n",
              "      <td>...</td>\n",
              "      <td>...</td>\n",
              "      <td>...</td>\n",
              "      <td>...</td>\n",
              "      <td>...</td>\n",
              "      <td>...</td>\n",
              "      <td>...</td>\n",
              "      <td>...</td>\n",
              "      <td>...</td>\n",
              "      <td>...</td>\n",
              "      <td>...</td>\n",
              "      <td>...</td>\n",
              "      <td>...</td>\n",
              "      <td>...</td>\n",
              "      <td>...</td>\n",
              "      <td>...</td>\n",
              "      <td>...</td>\n",
              "      <td>...</td>\n",
              "      <td>...</td>\n",
              "      <td>...</td>\n",
              "      <td>...</td>\n",
              "      <td>...</td>\n",
              "      <td>...</td>\n",
              "      <td>...</td>\n",
              "      <td>...</td>\n",
              "      <td>...</td>\n",
              "      <td>...</td>\n",
              "      <td>...</td>\n",
              "      <td>...</td>\n",
              "      <td>...</td>\n",
              "      <td>...</td>\n",
              "      <td>...</td>\n",
              "      <td>...</td>\n",
              "      <td>...</td>\n",
              "      <td>...</td>\n",
              "      <td>...</td>\n",
              "    </tr>\n",
              "    <tr>\n",
              "      <th>84</th>\n",
              "      <td>84</td>\n",
              "      <td>85</td>\n",
              "      <td>8.4</td>\n",
              "      <td>7.4</td>\n",
              "      <td>6.0</td>\n",
              "      <td>7.8</td>\n",
              "      <td>6.3</td>\n",
              "      <td>7.2</td>\n",
              "      <td>8.5</td>\n",
              "      <td>6.0</td>\n",
              "      <td>9.3</td>\n",
              "      <td>7.0</td>\n",
              "      <td>8.5</td>\n",
              "      <td>8.8</td>\n",
              "      <td>6.9</td>\n",
              "      <td>6.9</td>\n",
              "      <td>7.3</td>\n",
              "      <td>6.8</td>\n",
              "      <td>7.4</td>\n",
              "      <td>7.0</td>\n",
              "      <td>8.0</td>\n",
              "      <td>7.5</td>\n",
              "      <td>7.1</td>\n",
              "      <td>6.7</td>\n",
              "      <td>8.4</td>\n",
              "      <td>5.8</td>\n",
              "      <td>7.7</td>\n",
              "      <td>6.7</td>\n",
              "      <td>8.2</td>\n",
              "      <td>7.5</td>\n",
              "      <td>7.5</td>\n",
              "      <td>6.1</td>\n",
              "      <td>8.1</td>\n",
              "      <td>6.5</td>\n",
              "      <td>8.2</td>\n",
              "      <td>5.9</td>\n",
              "      <td>7.9</td>\n",
              "      <td>8.6</td>\n",
              "      <td>6.1</td>\n",
              "      <td>5.1</td>\n",
              "      <td>7.2</td>\n",
              "      <td>6.1</td>\n",
              "      <td>8.6</td>\n",
              "      <td>7.8</td>\n",
              "      <td>8.9</td>\n",
              "      <td>8.5</td>\n",
              "      <td>6.7</td>\n",
              "      <td>5.5</td>\n",
              "      <td>7.9</td>\n",
              "      <td>6.6</td>\n",
              "      <td>M</td>\n",
              "      <td>0.0</td>\n",
              "      <td>1</td>\n",
              "      <td>6.50</td>\n",
              "      <td>4.50</td>\n",
              "      <td>8.00</td>\n",
              "      <td>A</td>\n",
              "      <td>7.23</td>\n",
              "      <td>7.77</td>\n",
              "      <td>7.58</td>\n",
              "      <td>K</td>\n",
              "      <td>K</td>\n",
              "      <td>K</td>\n",
              "      <td>2.892</td>\n",
              "      <td>3.108</td>\n",
              "      <td>3.032</td>\n",
              "      <td>1.0</td>\n",
              "    </tr>\n",
              "    <tr>\n",
              "      <th>11</th>\n",
              "      <td>11</td>\n",
              "      <td>12</td>\n",
              "      <td>7.9</td>\n",
              "      <td>7.0</td>\n",
              "      <td>9.1</td>\n",
              "      <td>8.6</td>\n",
              "      <td>6.1</td>\n",
              "      <td>7.0</td>\n",
              "      <td>5.6</td>\n",
              "      <td>9.0</td>\n",
              "      <td>8.2</td>\n",
              "      <td>7.1</td>\n",
              "      <td>8.8</td>\n",
              "      <td>7.6</td>\n",
              "      <td>6.9</td>\n",
              "      <td>7.3</td>\n",
              "      <td>7.2</td>\n",
              "      <td>9.0</td>\n",
              "      <td>8.1</td>\n",
              "      <td>8.4</td>\n",
              "      <td>8.5</td>\n",
              "      <td>7.6</td>\n",
              "      <td>5.5</td>\n",
              "      <td>8.0</td>\n",
              "      <td>6.6</td>\n",
              "      <td>8.6</td>\n",
              "      <td>6.9</td>\n",
              "      <td>7.0</td>\n",
              "      <td>8.9</td>\n",
              "      <td>8.6</td>\n",
              "      <td>5.6</td>\n",
              "      <td>5.3</td>\n",
              "      <td>7.1</td>\n",
              "      <td>8.3</td>\n",
              "      <td>8.0</td>\n",
              "      <td>7.8</td>\n",
              "      <td>8.6</td>\n",
              "      <td>7.3</td>\n",
              "      <td>6.2</td>\n",
              "      <td>3.9</td>\n",
              "      <td>5.7</td>\n",
              "      <td>8.6</td>\n",
              "      <td>8.1</td>\n",
              "      <td>7.9</td>\n",
              "      <td>8.3</td>\n",
              "      <td>7.9</td>\n",
              "      <td>6.4</td>\n",
              "      <td>6.4</td>\n",
              "      <td>6.7</td>\n",
              "      <td>8.7</td>\n",
              "      <td>M</td>\n",
              "      <td>0.0</td>\n",
              "      <td>2</td>\n",
              "      <td>6.75</td>\n",
              "      <td>6.50</td>\n",
              "      <td>4.25</td>\n",
              "      <td>D1</td>\n",
              "      <td>7.43</td>\n",
              "      <td>7.72</td>\n",
              "      <td>7.49</td>\n",
              "      <td>K</td>\n",
              "      <td>K</td>\n",
              "      <td>K</td>\n",
              "      <td>2.972</td>\n",
              "      <td>3.088</td>\n",
              "      <td>2.996</td>\n",
              "      <td>1.0</td>\n",
              "    </tr>\n",
              "    <tr>\n",
              "      <th>23</th>\n",
              "      <td>23</td>\n",
              "      <td>24</td>\n",
              "      <td>5.3</td>\n",
              "      <td>6.3</td>\n",
              "      <td>5.7</td>\n",
              "      <td>6.9</td>\n",
              "      <td>5.9</td>\n",
              "      <td>7.5</td>\n",
              "      <td>6.6</td>\n",
              "      <td>5.1</td>\n",
              "      <td>6.4</td>\n",
              "      <td>6.9</td>\n",
              "      <td>4.7</td>\n",
              "      <td>7.4</td>\n",
              "      <td>6.1</td>\n",
              "      <td>8.4</td>\n",
              "      <td>6.4</td>\n",
              "      <td>4.4</td>\n",
              "      <td>6.1</td>\n",
              "      <td>5.8</td>\n",
              "      <td>5.1</td>\n",
              "      <td>7.4</td>\n",
              "      <td>6.7</td>\n",
              "      <td>7.1</td>\n",
              "      <td>6.7</td>\n",
              "      <td>4.3</td>\n",
              "      <td>5.0</td>\n",
              "      <td>3.5</td>\n",
              "      <td>4.5</td>\n",
              "      <td>7.3</td>\n",
              "      <td>6.1</td>\n",
              "      <td>8.8</td>\n",
              "      <td>7.9</td>\n",
              "      <td>3.9</td>\n",
              "      <td>5.3</td>\n",
              "      <td>5.5</td>\n",
              "      <td>6.3</td>\n",
              "      <td>6.7</td>\n",
              "      <td>6.7</td>\n",
              "      <td>7.5</td>\n",
              "      <td>6.7</td>\n",
              "      <td>4.5</td>\n",
              "      <td>6.1</td>\n",
              "      <td>6.8</td>\n",
              "      <td>6.4</td>\n",
              "      <td>6.4</td>\n",
              "      <td>7.6</td>\n",
              "      <td>8.8</td>\n",
              "      <td>6.1</td>\n",
              "      <td>5.2</td>\n",
              "      <td>M</td>\n",
              "      <td>0.0</td>\n",
              "      <td>2NT</td>\n",
              "      <td>6.75</td>\n",
              "      <td>5.25</td>\n",
              "      <td>5.00</td>\n",
              "      <td>C</td>\n",
              "      <td>6.05</td>\n",
              "      <td>6.32</td>\n",
              "      <td>6.71</td>\n",
              "      <td>TB</td>\n",
              "      <td>TB</td>\n",
              "      <td>K</td>\n",
              "      <td>2.420</td>\n",
              "      <td>2.528</td>\n",
              "      <td>2.684</td>\n",
              "      <td>1.0</td>\n",
              "    </tr>\n",
              "    <tr>\n",
              "      <th>24</th>\n",
              "      <td>24</td>\n",
              "      <td>25</td>\n",
              "      <td>2.4</td>\n",
              "      <td>4.1</td>\n",
              "      <td>3.6</td>\n",
              "      <td>5.5</td>\n",
              "      <td>5.9</td>\n",
              "      <td>5.6</td>\n",
              "      <td>4.9</td>\n",
              "      <td>4.2</td>\n",
              "      <td>3.3</td>\n",
              "      <td>5.7</td>\n",
              "      <td>4.9</td>\n",
              "      <td>5.3</td>\n",
              "      <td>5.7</td>\n",
              "      <td>4.5</td>\n",
              "      <td>5.6</td>\n",
              "      <td>4.8</td>\n",
              "      <td>3.9</td>\n",
              "      <td>4.6</td>\n",
              "      <td>4.6</td>\n",
              "      <td>6.9</td>\n",
              "      <td>5.7</td>\n",
              "      <td>8.0</td>\n",
              "      <td>5.1</td>\n",
              "      <td>4.7</td>\n",
              "      <td>3.3</td>\n",
              "      <td>5.3</td>\n",
              "      <td>5.6</td>\n",
              "      <td>6.9</td>\n",
              "      <td>7.2</td>\n",
              "      <td>7.3</td>\n",
              "      <td>6.1</td>\n",
              "      <td>3.6</td>\n",
              "      <td>4.4</td>\n",
              "      <td>5.0</td>\n",
              "      <td>4.4</td>\n",
              "      <td>5.6</td>\n",
              "      <td>6.8</td>\n",
              "      <td>4.0</td>\n",
              "      <td>5.0</td>\n",
              "      <td>5.2</td>\n",
              "      <td>3.8</td>\n",
              "      <td>6.3</td>\n",
              "      <td>4.5</td>\n",
              "      <td>6.6</td>\n",
              "      <td>7.1</td>\n",
              "      <td>4.1</td>\n",
              "      <td>5.7</td>\n",
              "      <td>5.1</td>\n",
              "      <td>F</td>\n",
              "      <td>0.0</td>\n",
              "      <td>1</td>\n",
              "      <td>7.00</td>\n",
              "      <td>2.25</td>\n",
              "      <td>5.25</td>\n",
              "      <td>C</td>\n",
              "      <td>4.45</td>\n",
              "      <td>4.88</td>\n",
              "      <td>5.41</td>\n",
              "      <td>Y</td>\n",
              "      <td>Y</td>\n",
              "      <td>TB</td>\n",
              "      <td>1.780</td>\n",
              "      <td>1.952</td>\n",
              "      <td>2.164</td>\n",
              "      <td>0.0</td>\n",
              "    </tr>\n",
              "    <tr>\n",
              "      <th>97</th>\n",
              "      <td>97</td>\n",
              "      <td>98</td>\n",
              "      <td>8.8</td>\n",
              "      <td>5.5</td>\n",
              "      <td>7.4</td>\n",
              "      <td>7.7</td>\n",
              "      <td>6.2</td>\n",
              "      <td>7.3</td>\n",
              "      <td>8.1</td>\n",
              "      <td>4.5</td>\n",
              "      <td>9.5</td>\n",
              "      <td>7.3</td>\n",
              "      <td>6.0</td>\n",
              "      <td>8.4</td>\n",
              "      <td>7.0</td>\n",
              "      <td>8.4</td>\n",
              "      <td>8.8</td>\n",
              "      <td>6.5</td>\n",
              "      <td>9.5</td>\n",
              "      <td>6.6</td>\n",
              "      <td>6.4</td>\n",
              "      <td>7.6</td>\n",
              "      <td>7.0</td>\n",
              "      <td>9.6</td>\n",
              "      <td>9.3</td>\n",
              "      <td>6.7</td>\n",
              "      <td>8.5</td>\n",
              "      <td>6.9</td>\n",
              "      <td>5.8</td>\n",
              "      <td>8.4</td>\n",
              "      <td>8.0</td>\n",
              "      <td>8.9</td>\n",
              "      <td>9.6</td>\n",
              "      <td>7.1</td>\n",
              "      <td>9.0</td>\n",
              "      <td>7.1</td>\n",
              "      <td>6.7</td>\n",
              "      <td>5.7</td>\n",
              "      <td>6.9</td>\n",
              "      <td>8.6</td>\n",
              "      <td>8.6</td>\n",
              "      <td>5.9</td>\n",
              "      <td>8.5</td>\n",
              "      <td>7.1</td>\n",
              "      <td>6.2</td>\n",
              "      <td>8.6</td>\n",
              "      <td>7.0</td>\n",
              "      <td>9.6</td>\n",
              "      <td>8.4</td>\n",
              "      <td>5.8</td>\n",
              "      <td>M</td>\n",
              "      <td>0.0</td>\n",
              "      <td>2NT</td>\n",
              "      <td>7.00</td>\n",
              "      <td>8.00</td>\n",
              "      <td>4.00</td>\n",
              "      <td>C</td>\n",
              "      <td>7.05</td>\n",
              "      <td>7.84</td>\n",
              "      <td>7.67</td>\n",
              "      <td>K</td>\n",
              "      <td>K</td>\n",
              "      <td>K</td>\n",
              "      <td>2.820</td>\n",
              "      <td>3.136</td>\n",
              "      <td>3.068</td>\n",
              "      <td>1.0</td>\n",
              "    </tr>\n",
              "  </tbody>\n",
              "</table>\n",
              "<p>100 rows × 67 columns</p>\n",
              "</div>"
            ],
            "text/plain": [
              "    Unnamed: 0  STT   T1   L1   H1  ...  XL3  US_TBM1  US_TBM2  US_TBM3  KQXT\n",
              "53          53   54  4.9  5.9  6.2  ...   TB    2.276    2.504    2.408   0.0\n",
              "43          43   44  6.6  7.2  5.9  ...    K    2.820    2.644    2.708   0.0\n",
              "72          72   73  5.5  6.6  7.2  ...   TB    2.480    2.352    2.488   0.0\n",
              "5            5    6  9.3  7.6  7.9  ...    K    3.184    3.416    2.952   0.0\n",
              "87          87   88  7.3  4.3  5.3  ...   TB    2.176    2.312    2.592   0.0\n",
              "..         ...  ...  ...  ...  ...  ...  ...      ...      ...      ...   ...\n",
              "84          84   85  8.4  7.4  6.0  ...    K    2.892    3.108    3.032   1.0\n",
              "11          11   12  7.9  7.0  9.1  ...    K    2.972    3.088    2.996   1.0\n",
              "23          23   24  5.3  6.3  5.7  ...    K    2.420    2.528    2.684   1.0\n",
              "24          24   25  2.4  4.1  3.6  ...   TB    1.780    1.952    2.164   0.0\n",
              "97          97   98  8.8  5.5  7.4  ...    K    2.820    3.136    3.068   1.0\n",
              "\n",
              "[100 rows x 67 columns]"
            ]
          },
          "metadata": {},
          "execution_count": 5
        }
      ]
    },
    {
      "cell_type": "markdown",
      "metadata": {
        "id": "aBLEJevYGYiG"
      },
      "source": [
        "2. Hãy sắp xếp dữ liệu điểm DH2 tăng dần theo nhóm giới tính"
      ]
    },
    {
      "cell_type": "code",
      "metadata": {
        "id": "DkW30sM9wSnk",
        "outputId": "91457a12-7844-448e-8eee-03285cd805dc",
        "colab": {
          "base_uri": "https://localhost:8080/",
          "height": 455
        }
      },
      "source": [
        "dlxtdh.sort_values(by = ['GT', 'DT'])"
      ],
      "execution_count": 7,
      "outputs": [
        {
          "output_type": "execute_result",
          "data": {
            "text/html": [
              "<div>\n",
              "<style scoped>\n",
              "    .dataframe tbody tr th:only-of-type {\n",
              "        vertical-align: middle;\n",
              "    }\n",
              "\n",
              "    .dataframe tbody tr th {\n",
              "        vertical-align: top;\n",
              "    }\n",
              "\n",
              "    .dataframe thead th {\n",
              "        text-align: right;\n",
              "    }\n",
              "</style>\n",
              "<table border=\"1\" class=\"dataframe\">\n",
              "  <thead>\n",
              "    <tr style=\"text-align: right;\">\n",
              "      <th></th>\n",
              "      <th>Unnamed: 0</th>\n",
              "      <th>STT</th>\n",
              "      <th>T1</th>\n",
              "      <th>L1</th>\n",
              "      <th>H1</th>\n",
              "      <th>S1</th>\n",
              "      <th>V1</th>\n",
              "      <th>X1</th>\n",
              "      <th>D1</th>\n",
              "      <th>N1</th>\n",
              "      <th>T2</th>\n",
              "      <th>L2</th>\n",
              "      <th>H2</th>\n",
              "      <th>S2</th>\n",
              "      <th>V2</th>\n",
              "      <th>X2</th>\n",
              "      <th>D2</th>\n",
              "      <th>N2</th>\n",
              "      <th>T3</th>\n",
              "      <th>L3</th>\n",
              "      <th>H3</th>\n",
              "      <th>S3</th>\n",
              "      <th>V3</th>\n",
              "      <th>X3</th>\n",
              "      <th>D3</th>\n",
              "      <th>N3</th>\n",
              "      <th>T4</th>\n",
              "      <th>L4</th>\n",
              "      <th>H4</th>\n",
              "      <th>S4</th>\n",
              "      <th>V4</th>\n",
              "      <th>X4</th>\n",
              "      <th>D4</th>\n",
              "      <th>N4</th>\n",
              "      <th>T5</th>\n",
              "      <th>L5</th>\n",
              "      <th>H5</th>\n",
              "      <th>S5</th>\n",
              "      <th>V5</th>\n",
              "      <th>X5</th>\n",
              "      <th>D5</th>\n",
              "      <th>N5</th>\n",
              "      <th>T6</th>\n",
              "      <th>L6</th>\n",
              "      <th>H6</th>\n",
              "      <th>S6</th>\n",
              "      <th>V6</th>\n",
              "      <th>X6</th>\n",
              "      <th>D6</th>\n",
              "      <th>N6</th>\n",
              "      <th>GT</th>\n",
              "      <th>DT</th>\n",
              "      <th>KV</th>\n",
              "      <th>DH1</th>\n",
              "      <th>DH2</th>\n",
              "      <th>DH3</th>\n",
              "      <th>KT</th>\n",
              "      <th>TBM1</th>\n",
              "      <th>TBM2</th>\n",
              "      <th>TBM3</th>\n",
              "      <th>XL1</th>\n",
              "      <th>XL2</th>\n",
              "      <th>XL3</th>\n",
              "      <th>US_TBM1</th>\n",
              "      <th>US_TBM2</th>\n",
              "      <th>US_TBM3</th>\n",
              "      <th>KQXT</th>\n",
              "    </tr>\n",
              "  </thead>\n",
              "  <tbody>\n",
              "    <tr>\n",
              "      <th>0</th>\n",
              "      <td>0</td>\n",
              "      <td>1</td>\n",
              "      <td>7.2</td>\n",
              "      <td>7.3</td>\n",
              "      <td>6.3</td>\n",
              "      <td>7.3</td>\n",
              "      <td>7.0</td>\n",
              "      <td>7.9</td>\n",
              "      <td>7.3</td>\n",
              "      <td>5.5</td>\n",
              "      <td>8.4</td>\n",
              "      <td>8.9</td>\n",
              "      <td>5.8</td>\n",
              "      <td>9.0</td>\n",
              "      <td>6.6</td>\n",
              "      <td>8.7</td>\n",
              "      <td>7.2</td>\n",
              "      <td>5.8</td>\n",
              "      <td>7.4</td>\n",
              "      <td>7.4</td>\n",
              "      <td>5.2</td>\n",
              "      <td>6.6</td>\n",
              "      <td>6.9</td>\n",
              "      <td>8.9</td>\n",
              "      <td>8.1</td>\n",
              "      <td>5.8</td>\n",
              "      <td>7.2</td>\n",
              "      <td>7.1</td>\n",
              "      <td>5.9</td>\n",
              "      <td>7.2</td>\n",
              "      <td>6.6</td>\n",
              "      <td>5.8</td>\n",
              "      <td>8.1</td>\n",
              "      <td>5.9</td>\n",
              "      <td>7.4</td>\n",
              "      <td>5.6</td>\n",
              "      <td>6.1</td>\n",
              "      <td>5.7</td>\n",
              "      <td>7.9</td>\n",
              "      <td>5.0</td>\n",
              "      <td>7.4</td>\n",
              "      <td>5.0</td>\n",
              "      <td>6.9</td>\n",
              "      <td>5.7</td>\n",
              "      <td>6.5</td>\n",
              "      <td>7.2</td>\n",
              "      <td>8.4</td>\n",
              "      <td>6.6</td>\n",
              "      <td>7.6</td>\n",
              "      <td>5.9</td>\n",
              "      <td>F</td>\n",
              "      <td>0.0</td>\n",
              "      <td>2NT</td>\n",
              "      <td>3.25</td>\n",
              "      <td>3.25</td>\n",
              "      <td>4.50</td>\n",
              "      <td>A1</td>\n",
              "      <td>7.00</td>\n",
              "      <td>7.54</td>\n",
              "      <td>7.01</td>\n",
              "      <td>K</td>\n",
              "      <td>K</td>\n",
              "      <td>K</td>\n",
              "      <td>2.800</td>\n",
              "      <td>3.016</td>\n",
              "      <td>2.804</td>\n",
              "      <td>0.0</td>\n",
              "    </tr>\n",
              "    <tr>\n",
              "      <th>6</th>\n",
              "      <td>6</td>\n",
              "      <td>7</td>\n",
              "      <td>2.8</td>\n",
              "      <td>3.9</td>\n",
              "      <td>5.5</td>\n",
              "      <td>6.9</td>\n",
              "      <td>5.0</td>\n",
              "      <td>7.3</td>\n",
              "      <td>4.6</td>\n",
              "      <td>5.2</td>\n",
              "      <td>4.4</td>\n",
              "      <td>6.7</td>\n",
              "      <td>5.5</td>\n",
              "      <td>7.7</td>\n",
              "      <td>5.0</td>\n",
              "      <td>6.6</td>\n",
              "      <td>6.1</td>\n",
              "      <td>4.6</td>\n",
              "      <td>4.6</td>\n",
              "      <td>4.8</td>\n",
              "      <td>4.4</td>\n",
              "      <td>8.1</td>\n",
              "      <td>5.6</td>\n",
              "      <td>6.0</td>\n",
              "      <td>4.8</td>\n",
              "      <td>3.9</td>\n",
              "      <td>4.7</td>\n",
              "      <td>6.3</td>\n",
              "      <td>4.8</td>\n",
              "      <td>7.1</td>\n",
              "      <td>6.8</td>\n",
              "      <td>7.7</td>\n",
              "      <td>6.6</td>\n",
              "      <td>5.6</td>\n",
              "      <td>5.4</td>\n",
              "      <td>4.5</td>\n",
              "      <td>5.0</td>\n",
              "      <td>5.0</td>\n",
              "      <td>5.9</td>\n",
              "      <td>6.1</td>\n",
              "      <td>6.1</td>\n",
              "      <td>4.8</td>\n",
              "      <td>5.3</td>\n",
              "      <td>7.0</td>\n",
              "      <td>6.0</td>\n",
              "      <td>5.7</td>\n",
              "      <td>6.1</td>\n",
              "      <td>6.6</td>\n",
              "      <td>6.0</td>\n",
              "      <td>6.0</td>\n",
              "      <td>F</td>\n",
              "      <td>0.0</td>\n",
              "      <td>2</td>\n",
              "      <td>6.50</td>\n",
              "      <td>6.75</td>\n",
              "      <td>5.25</td>\n",
              "      <td>C</td>\n",
              "      <td>4.90</td>\n",
              "      <td>5.60</td>\n",
              "      <td>6.01</td>\n",
              "      <td>Y</td>\n",
              "      <td>TB</td>\n",
              "      <td>TB</td>\n",
              "      <td>1.960</td>\n",
              "      <td>2.240</td>\n",
              "      <td>2.404</td>\n",
              "      <td>1.0</td>\n",
              "    </tr>\n",
              "    <tr>\n",
              "      <th>7</th>\n",
              "      <td>7</td>\n",
              "      <td>8</td>\n",
              "      <td>8.3</td>\n",
              "      <td>6.0</td>\n",
              "      <td>7.6</td>\n",
              "      <td>5.1</td>\n",
              "      <td>7.5</td>\n",
              "      <td>4.7</td>\n",
              "      <td>5.8</td>\n",
              "      <td>7.2</td>\n",
              "      <td>6.7</td>\n",
              "      <td>6.3</td>\n",
              "      <td>6.4</td>\n",
              "      <td>7.1</td>\n",
              "      <td>7.3</td>\n",
              "      <td>6.9</td>\n",
              "      <td>6.1</td>\n",
              "      <td>7.9</td>\n",
              "      <td>8.6</td>\n",
              "      <td>5.7</td>\n",
              "      <td>6.9</td>\n",
              "      <td>6.6</td>\n",
              "      <td>7.4</td>\n",
              "      <td>6.0</td>\n",
              "      <td>5.8</td>\n",
              "      <td>6.5</td>\n",
              "      <td>8.3</td>\n",
              "      <td>5.3</td>\n",
              "      <td>6.2</td>\n",
              "      <td>6.4</td>\n",
              "      <td>7.6</td>\n",
              "      <td>5.4</td>\n",
              "      <td>6.7</td>\n",
              "      <td>6.3</td>\n",
              "      <td>8.5</td>\n",
              "      <td>7.0</td>\n",
              "      <td>6.1</td>\n",
              "      <td>6.4</td>\n",
              "      <td>6.6</td>\n",
              "      <td>4.8</td>\n",
              "      <td>7.4</td>\n",
              "      <td>6.9</td>\n",
              "      <td>8.3</td>\n",
              "      <td>6.7</td>\n",
              "      <td>5.6</td>\n",
              "      <td>5.9</td>\n",
              "      <td>7.3</td>\n",
              "      <td>7.1</td>\n",
              "      <td>6.8</td>\n",
              "      <td>7.0</td>\n",
              "      <td>F</td>\n",
              "      <td>0.0</td>\n",
              "      <td>2</td>\n",
              "      <td>3.75</td>\n",
              "      <td>4.50</td>\n",
              "      <td>4.25</td>\n",
              "      <td>D1</td>\n",
              "      <td>6.80</td>\n",
              "      <td>6.87</td>\n",
              "      <td>7.03</td>\n",
              "      <td>K</td>\n",
              "      <td>K</td>\n",
              "      <td>K</td>\n",
              "      <td>2.720</td>\n",
              "      <td>2.748</td>\n",
              "      <td>2.812</td>\n",
              "      <td>0.0</td>\n",
              "    </tr>\n",
              "    <tr>\n",
              "      <th>8</th>\n",
              "      <td>8</td>\n",
              "      <td>9</td>\n",
              "      <td>6.5</td>\n",
              "      <td>6.3</td>\n",
              "      <td>7.6</td>\n",
              "      <td>6.0</td>\n",
              "      <td>5.5</td>\n",
              "      <td>7.1</td>\n",
              "      <td>6.3</td>\n",
              "      <td>5.0</td>\n",
              "      <td>7.3</td>\n",
              "      <td>6.8</td>\n",
              "      <td>7.3</td>\n",
              "      <td>6.5</td>\n",
              "      <td>6.4</td>\n",
              "      <td>7.9</td>\n",
              "      <td>7.6</td>\n",
              "      <td>3.7</td>\n",
              "      <td>6.4</td>\n",
              "      <td>6.7</td>\n",
              "      <td>6.7</td>\n",
              "      <td>7.3</td>\n",
              "      <td>6.2</td>\n",
              "      <td>6.1</td>\n",
              "      <td>8.2</td>\n",
              "      <td>5.7</td>\n",
              "      <td>8.1</td>\n",
              "      <td>6.0</td>\n",
              "      <td>6.3</td>\n",
              "      <td>7.8</td>\n",
              "      <td>7.2</td>\n",
              "      <td>7.6</td>\n",
              "      <td>8.5</td>\n",
              "      <td>5.7</td>\n",
              "      <td>7.7</td>\n",
              "      <td>7.5</td>\n",
              "      <td>8.8</td>\n",
              "      <td>6.5</td>\n",
              "      <td>5.6</td>\n",
              "      <td>5.6</td>\n",
              "      <td>7.1</td>\n",
              "      <td>6.7</td>\n",
              "      <td>7.7</td>\n",
              "      <td>8.7</td>\n",
              "      <td>8.9</td>\n",
              "      <td>7.5</td>\n",
              "      <td>6.0</td>\n",
              "      <td>9.1</td>\n",
              "      <td>7.9</td>\n",
              "      <td>6.1</td>\n",
              "      <td>F</td>\n",
              "      <td>0.0</td>\n",
              "      <td>1</td>\n",
              "      <td>3.50</td>\n",
              "      <td>3.50</td>\n",
              "      <td>6.75</td>\n",
              "      <td>D1</td>\n",
              "      <td>6.23</td>\n",
              "      <td>6.72</td>\n",
              "      <td>7.56</td>\n",
              "      <td>TB</td>\n",
              "      <td>K</td>\n",
              "      <td>K</td>\n",
              "      <td>2.492</td>\n",
              "      <td>2.688</td>\n",
              "      <td>3.024</td>\n",
              "      <td>0.0</td>\n",
              "    </tr>\n",
              "    <tr>\n",
              "      <th>9</th>\n",
              "      <td>9</td>\n",
              "      <td>10</td>\n",
              "      <td>7.3</td>\n",
              "      <td>5.9</td>\n",
              "      <td>4.7</td>\n",
              "      <td>7.1</td>\n",
              "      <td>6.7</td>\n",
              "      <td>7.9</td>\n",
              "      <td>6.7</td>\n",
              "      <td>7.7</td>\n",
              "      <td>8.0</td>\n",
              "      <td>6.8</td>\n",
              "      <td>7.6</td>\n",
              "      <td>6.9</td>\n",
              "      <td>6.8</td>\n",
              "      <td>7.8</td>\n",
              "      <td>6.4</td>\n",
              "      <td>7.4</td>\n",
              "      <td>6.5</td>\n",
              "      <td>7.3</td>\n",
              "      <td>6.0</td>\n",
              "      <td>7.8</td>\n",
              "      <td>7.2</td>\n",
              "      <td>7.9</td>\n",
              "      <td>7.1</td>\n",
              "      <td>7.7</td>\n",
              "      <td>5.5</td>\n",
              "      <td>7.0</td>\n",
              "      <td>6.0</td>\n",
              "      <td>6.7</td>\n",
              "      <td>8.0</td>\n",
              "      <td>7.2</td>\n",
              "      <td>6.3</td>\n",
              "      <td>7.2</td>\n",
              "      <td>7.5</td>\n",
              "      <td>7.0</td>\n",
              "      <td>8.0</td>\n",
              "      <td>5.9</td>\n",
              "      <td>7.1</td>\n",
              "      <td>6.3</td>\n",
              "      <td>5.1</td>\n",
              "      <td>7.1</td>\n",
              "      <td>6.9</td>\n",
              "      <td>7.0</td>\n",
              "      <td>6.7</td>\n",
              "      <td>7.1</td>\n",
              "      <td>7.7</td>\n",
              "      <td>6.4</td>\n",
              "      <td>6.1</td>\n",
              "      <td>7.8</td>\n",
              "      <td>F</td>\n",
              "      <td>0.0</td>\n",
              "      <td>1</td>\n",
              "      <td>4.00</td>\n",
              "      <td>4.75</td>\n",
              "      <td>5.50</td>\n",
              "      <td>D1</td>\n",
              "      <td>6.80</td>\n",
              "      <td>7.25</td>\n",
              "      <td>7.03</td>\n",
              "      <td>K</td>\n",
              "      <td>K</td>\n",
              "      <td>K</td>\n",
              "      <td>2.720</td>\n",
              "      <td>2.900</td>\n",
              "      <td>2.812</td>\n",
              "      <td>0.0</td>\n",
              "    </tr>\n",
              "    <tr>\n",
              "      <th>...</th>\n",
              "      <td>...</td>\n",
              "      <td>...</td>\n",
              "      <td>...</td>\n",
              "      <td>...</td>\n",
              "      <td>...</td>\n",
              "      <td>...</td>\n",
              "      <td>...</td>\n",
              "      <td>...</td>\n",
              "      <td>...</td>\n",
              "      <td>...</td>\n",
              "      <td>...</td>\n",
              "      <td>...</td>\n",
              "      <td>...</td>\n",
              "      <td>...</td>\n",
              "      <td>...</td>\n",
              "      <td>...</td>\n",
              "      <td>...</td>\n",
              "      <td>...</td>\n",
              "      <td>...</td>\n",
              "      <td>...</td>\n",
              "      <td>...</td>\n",
              "      <td>...</td>\n",
              "      <td>...</td>\n",
              "      <td>...</td>\n",
              "      <td>...</td>\n",
              "      <td>...</td>\n",
              "      <td>...</td>\n",
              "      <td>...</td>\n",
              "      <td>...</td>\n",
              "      <td>...</td>\n",
              "      <td>...</td>\n",
              "      <td>...</td>\n",
              "      <td>...</td>\n",
              "      <td>...</td>\n",
              "      <td>...</td>\n",
              "      <td>...</td>\n",
              "      <td>...</td>\n",
              "      <td>...</td>\n",
              "      <td>...</td>\n",
              "      <td>...</td>\n",
              "      <td>...</td>\n",
              "      <td>...</td>\n",
              "      <td>...</td>\n",
              "      <td>...</td>\n",
              "      <td>...</td>\n",
              "      <td>...</td>\n",
              "      <td>...</td>\n",
              "      <td>...</td>\n",
              "      <td>...</td>\n",
              "      <td>...</td>\n",
              "      <td>...</td>\n",
              "      <td>...</td>\n",
              "      <td>...</td>\n",
              "      <td>...</td>\n",
              "      <td>...</td>\n",
              "      <td>...</td>\n",
              "      <td>...</td>\n",
              "      <td>...</td>\n",
              "      <td>...</td>\n",
              "      <td>...</td>\n",
              "      <td>...</td>\n",
              "      <td>...</td>\n",
              "      <td>...</td>\n",
              "      <td>...</td>\n",
              "      <td>...</td>\n",
              "      <td>...</td>\n",
              "      <td>...</td>\n",
              "    </tr>\n",
              "    <tr>\n",
              "      <th>97</th>\n",
              "      <td>97</td>\n",
              "      <td>98</td>\n",
              "      <td>8.8</td>\n",
              "      <td>5.5</td>\n",
              "      <td>7.4</td>\n",
              "      <td>7.7</td>\n",
              "      <td>6.2</td>\n",
              "      <td>7.3</td>\n",
              "      <td>8.1</td>\n",
              "      <td>4.5</td>\n",
              "      <td>9.5</td>\n",
              "      <td>7.3</td>\n",
              "      <td>6.0</td>\n",
              "      <td>8.4</td>\n",
              "      <td>7.0</td>\n",
              "      <td>8.4</td>\n",
              "      <td>8.8</td>\n",
              "      <td>6.5</td>\n",
              "      <td>9.5</td>\n",
              "      <td>6.6</td>\n",
              "      <td>6.4</td>\n",
              "      <td>7.6</td>\n",
              "      <td>7.0</td>\n",
              "      <td>9.6</td>\n",
              "      <td>9.3</td>\n",
              "      <td>6.7</td>\n",
              "      <td>8.5</td>\n",
              "      <td>6.9</td>\n",
              "      <td>5.8</td>\n",
              "      <td>8.4</td>\n",
              "      <td>8.0</td>\n",
              "      <td>8.9</td>\n",
              "      <td>9.6</td>\n",
              "      <td>7.1</td>\n",
              "      <td>9.0</td>\n",
              "      <td>7.1</td>\n",
              "      <td>6.7</td>\n",
              "      <td>5.7</td>\n",
              "      <td>6.9</td>\n",
              "      <td>8.6</td>\n",
              "      <td>8.6</td>\n",
              "      <td>5.9</td>\n",
              "      <td>8.5</td>\n",
              "      <td>7.1</td>\n",
              "      <td>6.2</td>\n",
              "      <td>8.6</td>\n",
              "      <td>7.0</td>\n",
              "      <td>9.6</td>\n",
              "      <td>8.4</td>\n",
              "      <td>5.8</td>\n",
              "      <td>M</td>\n",
              "      <td>0.0</td>\n",
              "      <td>2NT</td>\n",
              "      <td>7.00</td>\n",
              "      <td>8.00</td>\n",
              "      <td>4.00</td>\n",
              "      <td>C</td>\n",
              "      <td>7.05</td>\n",
              "      <td>7.84</td>\n",
              "      <td>7.67</td>\n",
              "      <td>K</td>\n",
              "      <td>K</td>\n",
              "      <td>K</td>\n",
              "      <td>2.820</td>\n",
              "      <td>3.136</td>\n",
              "      <td>3.068</td>\n",
              "      <td>1.0</td>\n",
              "    </tr>\n",
              "    <tr>\n",
              "      <th>98</th>\n",
              "      <td>98</td>\n",
              "      <td>99</td>\n",
              "      <td>2.7</td>\n",
              "      <td>1.8</td>\n",
              "      <td>3.4</td>\n",
              "      <td>5.3</td>\n",
              "      <td>4.5</td>\n",
              "      <td>7.9</td>\n",
              "      <td>4.9</td>\n",
              "      <td>3.8</td>\n",
              "      <td>2.8</td>\n",
              "      <td>5.7</td>\n",
              "      <td>5.1</td>\n",
              "      <td>5.0</td>\n",
              "      <td>5.5</td>\n",
              "      <td>6.6</td>\n",
              "      <td>3.9</td>\n",
              "      <td>4.3</td>\n",
              "      <td>6.2</td>\n",
              "      <td>6.9</td>\n",
              "      <td>7.6</td>\n",
              "      <td>6.3</td>\n",
              "      <td>4.7</td>\n",
              "      <td>7.4</td>\n",
              "      <td>5.9</td>\n",
              "      <td>5.7</td>\n",
              "      <td>5.2</td>\n",
              "      <td>5.1</td>\n",
              "      <td>6.8</td>\n",
              "      <td>5.6</td>\n",
              "      <td>3.8</td>\n",
              "      <td>5.9</td>\n",
              "      <td>6.7</td>\n",
              "      <td>4.4</td>\n",
              "      <td>4.1</td>\n",
              "      <td>5.3</td>\n",
              "      <td>5.7</td>\n",
              "      <td>4.6</td>\n",
              "      <td>5.0</td>\n",
              "      <td>5.9</td>\n",
              "      <td>5.3</td>\n",
              "      <td>4.5</td>\n",
              "      <td>4.3</td>\n",
              "      <td>5.6</td>\n",
              "      <td>6.3</td>\n",
              "      <td>4.7</td>\n",
              "      <td>5.0</td>\n",
              "      <td>6.6</td>\n",
              "      <td>5.2</td>\n",
              "      <td>5.9</td>\n",
              "      <td>M</td>\n",
              "      <td>0.0</td>\n",
              "      <td>1</td>\n",
              "      <td>5.00</td>\n",
              "      <td>3.50</td>\n",
              "      <td>5.50</td>\n",
              "      <td>C</td>\n",
              "      <td>4.15</td>\n",
              "      <td>4.72</td>\n",
              "      <td>5.29</td>\n",
              "      <td>Y</td>\n",
              "      <td>Y</td>\n",
              "      <td>TB</td>\n",
              "      <td>1.660</td>\n",
              "      <td>1.888</td>\n",
              "      <td>2.116</td>\n",
              "      <td>0.0</td>\n",
              "    </tr>\n",
              "    <tr>\n",
              "      <th>99</th>\n",
              "      <td>99</td>\n",
              "      <td>100</td>\n",
              "      <td>4.1</td>\n",
              "      <td>5.2</td>\n",
              "      <td>4.9</td>\n",
              "      <td>5.3</td>\n",
              "      <td>5.5</td>\n",
              "      <td>5.4</td>\n",
              "      <td>7.2</td>\n",
              "      <td>5.4</td>\n",
              "      <td>4.4</td>\n",
              "      <td>6.4</td>\n",
              "      <td>4.8</td>\n",
              "      <td>7.2</td>\n",
              "      <td>6.0</td>\n",
              "      <td>6.3</td>\n",
              "      <td>6.8</td>\n",
              "      <td>4.9</td>\n",
              "      <td>6.0</td>\n",
              "      <td>4.9</td>\n",
              "      <td>4.2</td>\n",
              "      <td>6.4</td>\n",
              "      <td>5.7</td>\n",
              "      <td>6.8</td>\n",
              "      <td>7.1</td>\n",
              "      <td>6.2</td>\n",
              "      <td>4.3</td>\n",
              "      <td>4.9</td>\n",
              "      <td>5.3</td>\n",
              "      <td>6.5</td>\n",
              "      <td>5.7</td>\n",
              "      <td>6.8</td>\n",
              "      <td>7.4</td>\n",
              "      <td>5.8</td>\n",
              "      <td>5.6</td>\n",
              "      <td>6.2</td>\n",
              "      <td>6.0</td>\n",
              "      <td>4.7</td>\n",
              "      <td>5.7</td>\n",
              "      <td>7.9</td>\n",
              "      <td>6.9</td>\n",
              "      <td>4.7</td>\n",
              "      <td>5.1</td>\n",
              "      <td>6.4</td>\n",
              "      <td>5.9</td>\n",
              "      <td>5.4</td>\n",
              "      <td>6.3</td>\n",
              "      <td>5.6</td>\n",
              "      <td>6.6</td>\n",
              "      <td>5.8</td>\n",
              "      <td>M</td>\n",
              "      <td>0.0</td>\n",
              "      <td>2NT</td>\n",
              "      <td>5.25</td>\n",
              "      <td>2.50</td>\n",
              "      <td>4.25</td>\n",
              "      <td>C</td>\n",
              "      <td>5.26</td>\n",
              "      <td>5.72</td>\n",
              "      <td>5.85</td>\n",
              "      <td>TB</td>\n",
              "      <td>TB</td>\n",
              "      <td>TB</td>\n",
              "      <td>2.104</td>\n",
              "      <td>2.288</td>\n",
              "      <td>2.340</td>\n",
              "      <td>0.0</td>\n",
              "    </tr>\n",
              "    <tr>\n",
              "      <th>59</th>\n",
              "      <td>59</td>\n",
              "      <td>60</td>\n",
              "      <td>3.6</td>\n",
              "      <td>4.6</td>\n",
              "      <td>5.0</td>\n",
              "      <td>6.9</td>\n",
              "      <td>5.2</td>\n",
              "      <td>4.5</td>\n",
              "      <td>5.8</td>\n",
              "      <td>7.3</td>\n",
              "      <td>3.5</td>\n",
              "      <td>4.1</td>\n",
              "      <td>3.4</td>\n",
              "      <td>7.3</td>\n",
              "      <td>5.5</td>\n",
              "      <td>6.0</td>\n",
              "      <td>5.6</td>\n",
              "      <td>7.5</td>\n",
              "      <td>4.2</td>\n",
              "      <td>3.4</td>\n",
              "      <td>3.4</td>\n",
              "      <td>6.6</td>\n",
              "      <td>4.7</td>\n",
              "      <td>6.3</td>\n",
              "      <td>4.8</td>\n",
              "      <td>7.5</td>\n",
              "      <td>3.2</td>\n",
              "      <td>5.9</td>\n",
              "      <td>3.6</td>\n",
              "      <td>8.2</td>\n",
              "      <td>5.9</td>\n",
              "      <td>6.8</td>\n",
              "      <td>6.3</td>\n",
              "      <td>7.7</td>\n",
              "      <td>4.4</td>\n",
              "      <td>2.6</td>\n",
              "      <td>4.9</td>\n",
              "      <td>5.7</td>\n",
              "      <td>5.6</td>\n",
              "      <td>6.1</td>\n",
              "      <td>4.8</td>\n",
              "      <td>7.4</td>\n",
              "      <td>4.9</td>\n",
              "      <td>6.1</td>\n",
              "      <td>4.3</td>\n",
              "      <td>7.0</td>\n",
              "      <td>5.1</td>\n",
              "      <td>5.8</td>\n",
              "      <td>6.1</td>\n",
              "      <td>8.4</td>\n",
              "      <td>M</td>\n",
              "      <td>1.0</td>\n",
              "      <td>1</td>\n",
              "      <td>3.00</td>\n",
              "      <td>4.00</td>\n",
              "      <td>4.00</td>\n",
              "      <td>D1</td>\n",
              "      <td>5.17</td>\n",
              "      <td>5.19</td>\n",
              "      <td>5.77</td>\n",
              "      <td>TB</td>\n",
              "      <td>TB</td>\n",
              "      <td>TB</td>\n",
              "      <td>2.068</td>\n",
              "      <td>2.076</td>\n",
              "      <td>2.308</td>\n",
              "      <td>0.0</td>\n",
              "    </tr>\n",
              "    <tr>\n",
              "      <th>64</th>\n",
              "      <td>64</td>\n",
              "      <td>65</td>\n",
              "      <td>7.1</td>\n",
              "      <td>6.2</td>\n",
              "      <td>8.4</td>\n",
              "      <td>7.3</td>\n",
              "      <td>6.4</td>\n",
              "      <td>6.7</td>\n",
              "      <td>8.5</td>\n",
              "      <td>4.9</td>\n",
              "      <td>6.9</td>\n",
              "      <td>6.5</td>\n",
              "      <td>8.2</td>\n",
              "      <td>7.3</td>\n",
              "      <td>6.5</td>\n",
              "      <td>8.1</td>\n",
              "      <td>7.6</td>\n",
              "      <td>6.1</td>\n",
              "      <td>8.1</td>\n",
              "      <td>7.4</td>\n",
              "      <td>8.3</td>\n",
              "      <td>8.0</td>\n",
              "      <td>6.7</td>\n",
              "      <td>8.4</td>\n",
              "      <td>8.8</td>\n",
              "      <td>5.5</td>\n",
              "      <td>7.2</td>\n",
              "      <td>8.0</td>\n",
              "      <td>7.0</td>\n",
              "      <td>7.6</td>\n",
              "      <td>7.1</td>\n",
              "      <td>8.6</td>\n",
              "      <td>7.6</td>\n",
              "      <td>6.1</td>\n",
              "      <td>6.9</td>\n",
              "      <td>8.0</td>\n",
              "      <td>8.7</td>\n",
              "      <td>6.3</td>\n",
              "      <td>5.7</td>\n",
              "      <td>8.6</td>\n",
              "      <td>7.4</td>\n",
              "      <td>4.7</td>\n",
              "      <td>7.4</td>\n",
              "      <td>6.7</td>\n",
              "      <td>7.4</td>\n",
              "      <td>5.4</td>\n",
              "      <td>6.7</td>\n",
              "      <td>9.1</td>\n",
              "      <td>7.1</td>\n",
              "      <td>5.4</td>\n",
              "      <td>M</td>\n",
              "      <td>6.0</td>\n",
              "      <td>2</td>\n",
              "      <td>4.25</td>\n",
              "      <td>3.75</td>\n",
              "      <td>6.00</td>\n",
              "      <td>A</td>\n",
              "      <td>6.90</td>\n",
              "      <td>7.06</td>\n",
              "      <td>6.93</td>\n",
              "      <td>K</td>\n",
              "      <td>K</td>\n",
              "      <td>K</td>\n",
              "      <td>2.760</td>\n",
              "      <td>2.824</td>\n",
              "      <td>2.772</td>\n",
              "      <td>0.0</td>\n",
              "    </tr>\n",
              "  </tbody>\n",
              "</table>\n",
              "<p>100 rows × 67 columns</p>\n",
              "</div>"
            ],
            "text/plain": [
              "    Unnamed: 0  STT   T1   L1   H1  ...  XL3  US_TBM1  US_TBM2  US_TBM3  KQXT\n",
              "0            0    1  7.2  7.3  6.3  ...    K    2.800    3.016    2.804   0.0\n",
              "6            6    7  2.8  3.9  5.5  ...   TB    1.960    2.240    2.404   1.0\n",
              "7            7    8  8.3  6.0  7.6  ...    K    2.720    2.748    2.812   0.0\n",
              "8            8    9  6.5  6.3  7.6  ...    K    2.492    2.688    3.024   0.0\n",
              "9            9   10  7.3  5.9  4.7  ...    K    2.720    2.900    2.812   0.0\n",
              "..         ...  ...  ...  ...  ...  ...  ...      ...      ...      ...   ...\n",
              "97          97   98  8.8  5.5  7.4  ...    K    2.820    3.136    3.068   1.0\n",
              "98          98   99  2.7  1.8  3.4  ...   TB    1.660    1.888    2.116   0.0\n",
              "99          99  100  4.1  5.2  4.9  ...   TB    2.104    2.288    2.340   0.0\n",
              "59          59   60  3.6  4.6  5.0  ...   TB    2.068    2.076    2.308   0.0\n",
              "64          64   65  7.1  6.2  8.4  ...    K    2.760    2.824    2.772   0.0\n",
              "\n",
              "[100 rows x 67 columns]"
            ]
          },
          "metadata": {},
          "execution_count": 7
        }
      ]
    },
    {
      "cell_type": "markdown",
      "metadata": {
        "id": "4Xzbn_b6Wof_"
      },
      "source": [
        "3. Hãy tạo pivot-table để thống kê các giá trị count, sum, mean, median, min, max, std, Q1, Q2 và Q3 của DH1 theo KT"
      ]
    },
    {
      "cell_type": "code",
      "metadata": {
        "id": "otvEs2EBBTz-"
      },
      "source": [
        "import numpy as np"
      ],
      "execution_count": 10,
      "outputs": []
    },
    {
      "cell_type": "code",
      "metadata": {
        "colab": {
          "base_uri": "https://localhost:8080/",
          "height": 271
        },
        "id": "PdxBlCv4Wq8j",
        "outputId": "7ff12808-f78c-4cd5-b294-2cea9a7e0e48"
      },
      "source": [
        "def Q1(n):\n",
        "  return np.percentile(n, 25)\n",
        "\n",
        "def Q2(n):\n",
        "  return np.percentile(n, 50)\n",
        "\n",
        "def Q3(n):\n",
        "  return np.percentile(n, 75)\n",
        "\n",
        "def std(n):\n",
        "  return np.std(n)\n",
        "\n",
        "pt1 = dlxtdh.pivot_table(index = ['KT'], values = 'DH1', aggfunc = ['count', 'sum', 'mean', 'median', 'min', 'max', std, Q1, Q2, Q3])\n",
        "pt1"
      ],
      "execution_count": 18,
      "outputs": [
        {
          "output_type": "execute_result",
          "data": {
            "text/html": [
              "<div>\n",
              "<style scoped>\n",
              "    .dataframe tbody tr th:only-of-type {\n",
              "        vertical-align: middle;\n",
              "    }\n",
              "\n",
              "    .dataframe tbody tr th {\n",
              "        vertical-align: top;\n",
              "    }\n",
              "\n",
              "    .dataframe thead tr th {\n",
              "        text-align: left;\n",
              "    }\n",
              "\n",
              "    .dataframe thead tr:last-of-type th {\n",
              "        text-align: right;\n",
              "    }\n",
              "</style>\n",
              "<table border=\"1\" class=\"dataframe\">\n",
              "  <thead>\n",
              "    <tr>\n",
              "      <th></th>\n",
              "      <th>count</th>\n",
              "      <th>sum</th>\n",
              "      <th>mean</th>\n",
              "      <th>median</th>\n",
              "      <th>min</th>\n",
              "      <th>max</th>\n",
              "      <th>std</th>\n",
              "      <th>Q1</th>\n",
              "      <th>Q2</th>\n",
              "      <th>Q3</th>\n",
              "    </tr>\n",
              "    <tr>\n",
              "      <th></th>\n",
              "      <th>DH1</th>\n",
              "      <th>DH1</th>\n",
              "      <th>DH1</th>\n",
              "      <th>DH1</th>\n",
              "      <th>DH1</th>\n",
              "      <th>DH1</th>\n",
              "      <th>DH1</th>\n",
              "      <th>DH1</th>\n",
              "      <th>DH1</th>\n",
              "      <th>DH1</th>\n",
              "    </tr>\n",
              "    <tr>\n",
              "      <th>KT</th>\n",
              "      <th></th>\n",
              "      <th></th>\n",
              "      <th></th>\n",
              "      <th></th>\n",
              "      <th></th>\n",
              "      <th></th>\n",
              "      <th></th>\n",
              "      <th></th>\n",
              "      <th></th>\n",
              "      <th></th>\n",
              "    </tr>\n",
              "  </thead>\n",
              "  <tbody>\n",
              "    <tr>\n",
              "      <th>A</th>\n",
              "      <td>49</td>\n",
              "      <td>163.50</td>\n",
              "      <td>3.336735</td>\n",
              "      <td>3.25</td>\n",
              "      <td>1.00</td>\n",
              "      <td>6.50</td>\n",
              "      <td>1.261226</td>\n",
              "      <td>2.2500</td>\n",
              "      <td>3.25</td>\n",
              "      <td>4.250</td>\n",
              "    </tr>\n",
              "    <tr>\n",
              "      <th>A1</th>\n",
              "      <td>6</td>\n",
              "      <td>17.50</td>\n",
              "      <td>2.916667</td>\n",
              "      <td>3.00</td>\n",
              "      <td>2.00</td>\n",
              "      <td>4.25</td>\n",
              "      <td>0.786165</td>\n",
              "      <td>2.1875</td>\n",
              "      <td>3.00</td>\n",
              "      <td>3.250</td>\n",
              "    </tr>\n",
              "    <tr>\n",
              "      <th>B</th>\n",
              "      <td>9</td>\n",
              "      <td>29.50</td>\n",
              "      <td>3.277778</td>\n",
              "      <td>3.50</td>\n",
              "      <td>1.75</td>\n",
              "      <td>4.50</td>\n",
              "      <td>0.776785</td>\n",
              "      <td>3.2500</td>\n",
              "      <td>3.50</td>\n",
              "      <td>3.750</td>\n",
              "    </tr>\n",
              "    <tr>\n",
              "      <th>C</th>\n",
              "      <td>14</td>\n",
              "      <td>79.25</td>\n",
              "      <td>5.660714</td>\n",
              "      <td>5.25</td>\n",
              "      <td>4.75</td>\n",
              "      <td>7.00</td>\n",
              "      <td>0.782665</td>\n",
              "      <td>5.0625</td>\n",
              "      <td>5.25</td>\n",
              "      <td>6.375</td>\n",
              "    </tr>\n",
              "    <tr>\n",
              "      <th>D1</th>\n",
              "      <td>22</td>\n",
              "      <td>84.25</td>\n",
              "      <td>3.829545</td>\n",
              "      <td>3.75</td>\n",
              "      <td>1.25</td>\n",
              "      <td>6.75</td>\n",
              "      <td>1.338644</td>\n",
              "      <td>3.0000</td>\n",
              "      <td>3.75</td>\n",
              "      <td>4.875</td>\n",
              "    </tr>\n",
              "  </tbody>\n",
              "</table>\n",
              "</div>"
            ],
            "text/plain": [
              "   count     sum      mean median   min   max       std      Q1    Q2     Q3\n",
              "     DH1     DH1       DH1    DH1   DH1   DH1       DH1     DH1   DH1    DH1\n",
              "KT                                                                          \n",
              "A     49  163.50  3.336735   3.25  1.00  6.50  1.261226  2.2500  3.25  4.250\n",
              "A1     6   17.50  2.916667   3.00  2.00  4.25  0.786165  2.1875  3.00  3.250\n",
              "B      9   29.50  3.277778   3.50  1.75  4.50  0.776785  3.2500  3.50  3.750\n",
              "C     14   79.25  5.660714   5.25  4.75  7.00  0.782665  5.0625  5.25  6.375\n",
              "D1    22   84.25  3.829545   3.75  1.25  6.75  1.338644  3.0000  3.75  4.875"
            ]
          },
          "metadata": {},
          "execution_count": 18
        }
      ]
    },
    {
      "cell_type": "markdown",
      "metadata": {
        "id": "Mm_WjCSgBiBS"
      },
      "source": [
        "4. Hãy tạo pivot-table để thống kê các giá trị count, sum, mean, median, min, max, std, Q1, Q2 và Q3 của DH1 theo KT và KV"
      ]
    },
    {
      "cell_type": "code",
      "metadata": {
        "colab": {
          "base_uri": "https://localhost:8080/",
          "height": 508
        },
        "id": "MwUOP_AwBnwm",
        "outputId": "b88c80a0-5e52-4491-d5ff-20a9999d57c0"
      },
      "source": [
        "pt2 = dlxtdh.pivot_table(index = ['KT', 'KV'], values = 'DH1', aggfunc = ['count', 'sum', 'mean', 'median', 'min', 'max', std, Q1, Q2, Q3])\n",
        "pt2"
      ],
      "execution_count": 20,
      "outputs": [
        {
          "output_type": "execute_result",
          "data": {
            "text/html": [
              "<div>\n",
              "<style scoped>\n",
              "    .dataframe tbody tr th:only-of-type {\n",
              "        vertical-align: middle;\n",
              "    }\n",
              "\n",
              "    .dataframe tbody tr th {\n",
              "        vertical-align: top;\n",
              "    }\n",
              "\n",
              "    .dataframe thead tr th {\n",
              "        text-align: left;\n",
              "    }\n",
              "\n",
              "    .dataframe thead tr:last-of-type th {\n",
              "        text-align: right;\n",
              "    }\n",
              "</style>\n",
              "<table border=\"1\" class=\"dataframe\">\n",
              "  <thead>\n",
              "    <tr>\n",
              "      <th></th>\n",
              "      <th></th>\n",
              "      <th>count</th>\n",
              "      <th>sum</th>\n",
              "      <th>mean</th>\n",
              "      <th>median</th>\n",
              "      <th>min</th>\n",
              "      <th>max</th>\n",
              "      <th>std</th>\n",
              "      <th>Q1</th>\n",
              "      <th>Q2</th>\n",
              "      <th>Q3</th>\n",
              "    </tr>\n",
              "    <tr>\n",
              "      <th></th>\n",
              "      <th></th>\n",
              "      <th>DH1</th>\n",
              "      <th>DH1</th>\n",
              "      <th>DH1</th>\n",
              "      <th>DH1</th>\n",
              "      <th>DH1</th>\n",
              "      <th>DH1</th>\n",
              "      <th>DH1</th>\n",
              "      <th>DH1</th>\n",
              "      <th>DH1</th>\n",
              "      <th>DH1</th>\n",
              "    </tr>\n",
              "    <tr>\n",
              "      <th>KT</th>\n",
              "      <th>KV</th>\n",
              "      <th></th>\n",
              "      <th></th>\n",
              "      <th></th>\n",
              "      <th></th>\n",
              "      <th></th>\n",
              "      <th></th>\n",
              "      <th></th>\n",
              "      <th></th>\n",
              "      <th></th>\n",
              "      <th></th>\n",
              "    </tr>\n",
              "  </thead>\n",
              "  <tbody>\n",
              "    <tr>\n",
              "      <th rowspan=\"3\" valign=\"top\">A</th>\n",
              "      <th>1</th>\n",
              "      <td>29</td>\n",
              "      <td>93.75</td>\n",
              "      <td>3.232759</td>\n",
              "      <td>3.250</td>\n",
              "      <td>1.00</td>\n",
              "      <td>6.50</td>\n",
              "      <td>1.345380</td>\n",
              "      <td>2.0000</td>\n",
              "      <td>3.250</td>\n",
              "      <td>4.2500</td>\n",
              "    </tr>\n",
              "    <tr>\n",
              "      <th>2</th>\n",
              "      <td>9</td>\n",
              "      <td>31.75</td>\n",
              "      <td>3.527778</td>\n",
              "      <td>3.500</td>\n",
              "      <td>2.00</td>\n",
              "      <td>6.25</td>\n",
              "      <td>1.346005</td>\n",
              "      <td>2.2500</td>\n",
              "      <td>3.500</td>\n",
              "      <td>4.2500</td>\n",
              "    </tr>\n",
              "    <tr>\n",
              "      <th>2NT</th>\n",
              "      <td>11</td>\n",
              "      <td>38.00</td>\n",
              "      <td>3.454545</td>\n",
              "      <td>3.500</td>\n",
              "      <td>2.00</td>\n",
              "      <td>4.75</td>\n",
              "      <td>0.871377</td>\n",
              "      <td>2.8750</td>\n",
              "      <td>3.500</td>\n",
              "      <td>4.1250</td>\n",
              "    </tr>\n",
              "    <tr>\n",
              "      <th rowspan=\"2\" valign=\"top\">A1</th>\n",
              "      <th>1</th>\n",
              "      <td>2</td>\n",
              "      <td>4.75</td>\n",
              "      <td>2.375000</td>\n",
              "      <td>2.375</td>\n",
              "      <td>2.00</td>\n",
              "      <td>2.75</td>\n",
              "      <td>0.375000</td>\n",
              "      <td>2.1875</td>\n",
              "      <td>2.375</td>\n",
              "      <td>2.5625</td>\n",
              "    </tr>\n",
              "    <tr>\n",
              "      <th>2NT</th>\n",
              "      <td>4</td>\n",
              "      <td>12.75</td>\n",
              "      <td>3.187500</td>\n",
              "      <td>3.250</td>\n",
              "      <td>2.00</td>\n",
              "      <td>4.25</td>\n",
              "      <td>0.797947</td>\n",
              "      <td>2.9375</td>\n",
              "      <td>3.250</td>\n",
              "      <td>3.5000</td>\n",
              "    </tr>\n",
              "    <tr>\n",
              "      <th rowspan=\"2\" valign=\"top\">B</th>\n",
              "      <th>1</th>\n",
              "      <td>8</td>\n",
              "      <td>25.75</td>\n",
              "      <td>3.218750</td>\n",
              "      <td>3.375</td>\n",
              "      <td>1.75</td>\n",
              "      <td>4.50</td>\n",
              "      <td>0.804650</td>\n",
              "      <td>3.0000</td>\n",
              "      <td>3.375</td>\n",
              "      <td>3.5625</td>\n",
              "    </tr>\n",
              "    <tr>\n",
              "      <th>2NT</th>\n",
              "      <td>1</td>\n",
              "      <td>3.75</td>\n",
              "      <td>3.750000</td>\n",
              "      <td>3.750</td>\n",
              "      <td>3.75</td>\n",
              "      <td>3.75</td>\n",
              "      <td>0.000000</td>\n",
              "      <td>3.7500</td>\n",
              "      <td>3.750</td>\n",
              "      <td>3.7500</td>\n",
              "    </tr>\n",
              "    <tr>\n",
              "      <th rowspan=\"3\" valign=\"top\">C</th>\n",
              "      <th>1</th>\n",
              "      <td>8</td>\n",
              "      <td>43.50</td>\n",
              "      <td>5.437500</td>\n",
              "      <td>5.250</td>\n",
              "      <td>4.75</td>\n",
              "      <td>7.00</td>\n",
              "      <td>0.681795</td>\n",
              "      <td>5.0000</td>\n",
              "      <td>5.250</td>\n",
              "      <td>5.4375</td>\n",
              "    </tr>\n",
              "    <tr>\n",
              "      <th>2</th>\n",
              "      <td>2</td>\n",
              "      <td>11.50</td>\n",
              "      <td>5.750000</td>\n",
              "      <td>5.750</td>\n",
              "      <td>5.00</td>\n",
              "      <td>6.50</td>\n",
              "      <td>0.750000</td>\n",
              "      <td>5.3750</td>\n",
              "      <td>5.750</td>\n",
              "      <td>6.1250</td>\n",
              "    </tr>\n",
              "    <tr>\n",
              "      <th>2NT</th>\n",
              "      <td>4</td>\n",
              "      <td>24.25</td>\n",
              "      <td>6.062500</td>\n",
              "      <td>6.000</td>\n",
              "      <td>5.25</td>\n",
              "      <td>7.00</td>\n",
              "      <td>0.817294</td>\n",
              "      <td>5.2500</td>\n",
              "      <td>6.000</td>\n",
              "      <td>6.8125</td>\n",
              "    </tr>\n",
              "    <tr>\n",
              "      <th rowspan=\"3\" valign=\"top\">D1</th>\n",
              "      <th>1</th>\n",
              "      <td>13</td>\n",
              "      <td>46.75</td>\n",
              "      <td>3.596154</td>\n",
              "      <td>3.500</td>\n",
              "      <td>1.50</td>\n",
              "      <td>5.75</td>\n",
              "      <td>1.215044</td>\n",
              "      <td>2.7500</td>\n",
              "      <td>3.500</td>\n",
              "      <td>4.2500</td>\n",
              "    </tr>\n",
              "    <tr>\n",
              "      <th>2</th>\n",
              "      <td>8</td>\n",
              "      <td>33.75</td>\n",
              "      <td>4.218750</td>\n",
              "      <td>4.500</td>\n",
              "      <td>1.25</td>\n",
              "      <td>6.75</td>\n",
              "      <td>1.512642</td>\n",
              "      <td>3.5625</td>\n",
              "      <td>4.500</td>\n",
              "      <td>5.0000</td>\n",
              "    </tr>\n",
              "    <tr>\n",
              "      <th>2NT</th>\n",
              "      <td>1</td>\n",
              "      <td>3.75</td>\n",
              "      <td>3.750000</td>\n",
              "      <td>3.750</td>\n",
              "      <td>3.75</td>\n",
              "      <td>3.75</td>\n",
              "      <td>0.000000</td>\n",
              "      <td>3.7500</td>\n",
              "      <td>3.750</td>\n",
              "      <td>3.7500</td>\n",
              "    </tr>\n",
              "  </tbody>\n",
              "</table>\n",
              "</div>"
            ],
            "text/plain": [
              "       count    sum      mean median  ...       std      Q1     Q2      Q3\n",
              "         DH1    DH1       DH1    DH1  ...       DH1     DH1    DH1     DH1\n",
              "KT KV                                 ...                                 \n",
              "A  1      29  93.75  3.232759  3.250  ...  1.345380  2.0000  3.250  4.2500\n",
              "   2       9  31.75  3.527778  3.500  ...  1.346005  2.2500  3.500  4.2500\n",
              "   2NT    11  38.00  3.454545  3.500  ...  0.871377  2.8750  3.500  4.1250\n",
              "A1 1       2   4.75  2.375000  2.375  ...  0.375000  2.1875  2.375  2.5625\n",
              "   2NT     4  12.75  3.187500  3.250  ...  0.797947  2.9375  3.250  3.5000\n",
              "B  1       8  25.75  3.218750  3.375  ...  0.804650  3.0000  3.375  3.5625\n",
              "   2NT     1   3.75  3.750000  3.750  ...  0.000000  3.7500  3.750  3.7500\n",
              "C  1       8  43.50  5.437500  5.250  ...  0.681795  5.0000  5.250  5.4375\n",
              "   2       2  11.50  5.750000  5.750  ...  0.750000  5.3750  5.750  6.1250\n",
              "   2NT     4  24.25  6.062500  6.000  ...  0.817294  5.2500  6.000  6.8125\n",
              "D1 1      13  46.75  3.596154  3.500  ...  1.215044  2.7500  3.500  4.2500\n",
              "   2       8  33.75  4.218750  4.500  ...  1.512642  3.5625  4.500  5.0000\n",
              "   2NT     1   3.75  3.750000  3.750  ...  0.000000  3.7500  3.750  3.7500\n",
              "\n",
              "[13 rows x 10 columns]"
            ]
          },
          "metadata": {},
          "execution_count": 20
        }
      ]
    },
    {
      "cell_type": "markdown",
      "metadata": {
        "id": "AZBmnS6bBt6r"
      },
      "source": [
        "5. Hãy tạo pivot-table để thống kê các giá trị count, sum, mean, median, min, max, std, Q1, Q2 và Q3 của DH1 theo KT, KV và DT"
      ]
    },
    {
      "cell_type": "code",
      "metadata": {
        "colab": {
          "base_uri": "https://localhost:8080/",
          "height": 597
        },
        "id": "xuulJ8hrBvky",
        "outputId": "1c2340ee-a779-4762-b5f7-52ecf6299043"
      },
      "source": [
        "pt3 = dlxtdh.pivot_table(index = ['KT', 'KV', 'DT'], values = 'DH1', aggfunc = ['count', 'sum', 'mean', 'median', 'min', 'max', std, Q1, Q2, Q3])\n",
        "pt3"
      ],
      "execution_count": 172,
      "outputs": [
        {
          "output_type": "execute_result",
          "data": {
            "text/html": [
              "<div>\n",
              "<style scoped>\n",
              "    .dataframe tbody tr th:only-of-type {\n",
              "        vertical-align: middle;\n",
              "    }\n",
              "\n",
              "    .dataframe tbody tr th {\n",
              "        vertical-align: top;\n",
              "    }\n",
              "\n",
              "    .dataframe thead tr th {\n",
              "        text-align: left;\n",
              "    }\n",
              "\n",
              "    .dataframe thead tr:last-of-type th {\n",
              "        text-align: right;\n",
              "    }\n",
              "</style>\n",
              "<table border=\"1\" class=\"dataframe\">\n",
              "  <thead>\n",
              "    <tr>\n",
              "      <th></th>\n",
              "      <th></th>\n",
              "      <th></th>\n",
              "      <th>count</th>\n",
              "      <th>sum</th>\n",
              "      <th>mean</th>\n",
              "      <th>median</th>\n",
              "      <th>min</th>\n",
              "      <th>max</th>\n",
              "      <th>std</th>\n",
              "      <th>Q1</th>\n",
              "      <th>Q2</th>\n",
              "      <th>Q3</th>\n",
              "    </tr>\n",
              "    <tr>\n",
              "      <th></th>\n",
              "      <th></th>\n",
              "      <th></th>\n",
              "      <th>DH1</th>\n",
              "      <th>DH1</th>\n",
              "      <th>DH1</th>\n",
              "      <th>DH1</th>\n",
              "      <th>DH1</th>\n",
              "      <th>DH1</th>\n",
              "      <th>DH1</th>\n",
              "      <th>DH1</th>\n",
              "      <th>DH1</th>\n",
              "      <th>DH1</th>\n",
              "    </tr>\n",
              "    <tr>\n",
              "      <th>KT</th>\n",
              "      <th>KV</th>\n",
              "      <th>DT</th>\n",
              "      <th></th>\n",
              "      <th></th>\n",
              "      <th></th>\n",
              "      <th></th>\n",
              "      <th></th>\n",
              "      <th></th>\n",
              "      <th></th>\n",
              "      <th></th>\n",
              "      <th></th>\n",
              "      <th></th>\n",
              "    </tr>\n",
              "  </thead>\n",
              "  <tbody>\n",
              "    <tr>\n",
              "      <th rowspan=\"4\" valign=\"top\">A</th>\n",
              "      <th>1</th>\n",
              "      <th>0.0</th>\n",
              "      <td>29</td>\n",
              "      <td>93.75</td>\n",
              "      <td>3.232759</td>\n",
              "      <td>3.250</td>\n",
              "      <td>1.00</td>\n",
              "      <td>6.50</td>\n",
              "      <td>1.345380</td>\n",
              "      <td>2.0000</td>\n",
              "      <td>3.250</td>\n",
              "      <td>4.2500</td>\n",
              "    </tr>\n",
              "    <tr>\n",
              "      <th rowspan=\"2\" valign=\"top\">2</th>\n",
              "      <th>0.0</th>\n",
              "      <td>8</td>\n",
              "      <td>27.50</td>\n",
              "      <td>3.437500</td>\n",
              "      <td>3.000</td>\n",
              "      <td>2.00</td>\n",
              "      <td>6.25</td>\n",
              "      <td>1.401729</td>\n",
              "      <td>2.2500</td>\n",
              "      <td>3.000</td>\n",
              "      <td>4.1875</td>\n",
              "    </tr>\n",
              "    <tr>\n",
              "      <th>6.0</th>\n",
              "      <td>1</td>\n",
              "      <td>4.25</td>\n",
              "      <td>4.250000</td>\n",
              "      <td>4.250</td>\n",
              "      <td>4.25</td>\n",
              "      <td>4.25</td>\n",
              "      <td>0.000000</td>\n",
              "      <td>4.2500</td>\n",
              "      <td>4.250</td>\n",
              "      <td>4.2500</td>\n",
              "    </tr>\n",
              "    <tr>\n",
              "      <th>2NT</th>\n",
              "      <th>0.0</th>\n",
              "      <td>11</td>\n",
              "      <td>38.00</td>\n",
              "      <td>3.454545</td>\n",
              "      <td>3.500</td>\n",
              "      <td>2.00</td>\n",
              "      <td>4.75</td>\n",
              "      <td>0.871377</td>\n",
              "      <td>2.8750</td>\n",
              "      <td>3.500</td>\n",
              "      <td>4.1250</td>\n",
              "    </tr>\n",
              "    <tr>\n",
              "      <th rowspan=\"2\" valign=\"top\">A1</th>\n",
              "      <th>1</th>\n",
              "      <th>0.0</th>\n",
              "      <td>2</td>\n",
              "      <td>4.75</td>\n",
              "      <td>2.375000</td>\n",
              "      <td>2.375</td>\n",
              "      <td>2.00</td>\n",
              "      <td>2.75</td>\n",
              "      <td>0.375000</td>\n",
              "      <td>2.1875</td>\n",
              "      <td>2.375</td>\n",
              "      <td>2.5625</td>\n",
              "    </tr>\n",
              "    <tr>\n",
              "      <th>2NT</th>\n",
              "      <th>0.0</th>\n",
              "      <td>4</td>\n",
              "      <td>12.75</td>\n",
              "      <td>3.187500</td>\n",
              "      <td>3.250</td>\n",
              "      <td>2.00</td>\n",
              "      <td>4.25</td>\n",
              "      <td>0.797947</td>\n",
              "      <td>2.9375</td>\n",
              "      <td>3.250</td>\n",
              "      <td>3.5000</td>\n",
              "    </tr>\n",
              "    <tr>\n",
              "      <th rowspan=\"2\" valign=\"top\">B</th>\n",
              "      <th>1</th>\n",
              "      <th>0.0</th>\n",
              "      <td>8</td>\n",
              "      <td>25.75</td>\n",
              "      <td>3.218750</td>\n",
              "      <td>3.375</td>\n",
              "      <td>1.75</td>\n",
              "      <td>4.50</td>\n",
              "      <td>0.804650</td>\n",
              "      <td>3.0000</td>\n",
              "      <td>3.375</td>\n",
              "      <td>3.5625</td>\n",
              "    </tr>\n",
              "    <tr>\n",
              "      <th>2NT</th>\n",
              "      <th>0.0</th>\n",
              "      <td>1</td>\n",
              "      <td>3.75</td>\n",
              "      <td>3.750000</td>\n",
              "      <td>3.750</td>\n",
              "      <td>3.75</td>\n",
              "      <td>3.75</td>\n",
              "      <td>0.000000</td>\n",
              "      <td>3.7500</td>\n",
              "      <td>3.750</td>\n",
              "      <td>3.7500</td>\n",
              "    </tr>\n",
              "    <tr>\n",
              "      <th rowspan=\"3\" valign=\"top\">C</th>\n",
              "      <th>1</th>\n",
              "      <th>0.0</th>\n",
              "      <td>8</td>\n",
              "      <td>43.50</td>\n",
              "      <td>5.437500</td>\n",
              "      <td>5.250</td>\n",
              "      <td>4.75</td>\n",
              "      <td>7.00</td>\n",
              "      <td>0.681795</td>\n",
              "      <td>5.0000</td>\n",
              "      <td>5.250</td>\n",
              "      <td>5.4375</td>\n",
              "    </tr>\n",
              "    <tr>\n",
              "      <th>2</th>\n",
              "      <th>0.0</th>\n",
              "      <td>2</td>\n",
              "      <td>11.50</td>\n",
              "      <td>5.750000</td>\n",
              "      <td>5.750</td>\n",
              "      <td>5.00</td>\n",
              "      <td>6.50</td>\n",
              "      <td>0.750000</td>\n",
              "      <td>5.3750</td>\n",
              "      <td>5.750</td>\n",
              "      <td>6.1250</td>\n",
              "    </tr>\n",
              "    <tr>\n",
              "      <th>2NT</th>\n",
              "      <th>0.0</th>\n",
              "      <td>4</td>\n",
              "      <td>24.25</td>\n",
              "      <td>6.062500</td>\n",
              "      <td>6.000</td>\n",
              "      <td>5.25</td>\n",
              "      <td>7.00</td>\n",
              "      <td>0.817294</td>\n",
              "      <td>5.2500</td>\n",
              "      <td>6.000</td>\n",
              "      <td>6.8125</td>\n",
              "    </tr>\n",
              "    <tr>\n",
              "      <th rowspan=\"5\" valign=\"top\">D1</th>\n",
              "      <th rowspan=\"2\" valign=\"top\">1</th>\n",
              "      <th>0.0</th>\n",
              "      <td>12</td>\n",
              "      <td>43.75</td>\n",
              "      <td>3.645833</td>\n",
              "      <td>3.625</td>\n",
              "      <td>1.50</td>\n",
              "      <td>5.75</td>\n",
              "      <td>1.251908</td>\n",
              "      <td>2.6875</td>\n",
              "      <td>3.625</td>\n",
              "      <td>4.4375</td>\n",
              "    </tr>\n",
              "    <tr>\n",
              "      <th>1.0</th>\n",
              "      <td>1</td>\n",
              "      <td>3.00</td>\n",
              "      <td>3.000000</td>\n",
              "      <td>3.000</td>\n",
              "      <td>3.00</td>\n",
              "      <td>3.00</td>\n",
              "      <td>0.000000</td>\n",
              "      <td>3.0000</td>\n",
              "      <td>3.000</td>\n",
              "      <td>3.0000</td>\n",
              "    </tr>\n",
              "    <tr>\n",
              "      <th rowspan=\"2\" valign=\"top\">2</th>\n",
              "      <th>0.0</th>\n",
              "      <td>7</td>\n",
              "      <td>32.50</td>\n",
              "      <td>4.642857</td>\n",
              "      <td>4.500</td>\n",
              "      <td>3.00</td>\n",
              "      <td>6.75</td>\n",
              "      <td>1.084445</td>\n",
              "      <td>4.1250</td>\n",
              "      <td>4.500</td>\n",
              "      <td>5.0000</td>\n",
              "    </tr>\n",
              "    <tr>\n",
              "      <th>1.0</th>\n",
              "      <td>1</td>\n",
              "      <td>1.25</td>\n",
              "      <td>1.250000</td>\n",
              "      <td>1.250</td>\n",
              "      <td>1.25</td>\n",
              "      <td>1.25</td>\n",
              "      <td>0.000000</td>\n",
              "      <td>1.2500</td>\n",
              "      <td>1.250</td>\n",
              "      <td>1.2500</td>\n",
              "    </tr>\n",
              "    <tr>\n",
              "      <th>2NT</th>\n",
              "      <th>0.0</th>\n",
              "      <td>1</td>\n",
              "      <td>3.75</td>\n",
              "      <td>3.750000</td>\n",
              "      <td>3.750</td>\n",
              "      <td>3.75</td>\n",
              "      <td>3.75</td>\n",
              "      <td>0.000000</td>\n",
              "      <td>3.7500</td>\n",
              "      <td>3.750</td>\n",
              "      <td>3.7500</td>\n",
              "    </tr>\n",
              "  </tbody>\n",
              "</table>\n",
              "</div>"
            ],
            "text/plain": [
              "           count    sum      mean median  ...       std      Q1     Q2      Q3\n",
              "             DH1    DH1       DH1    DH1  ...       DH1     DH1    DH1     DH1\n",
              "KT KV  DT                                 ...                                 \n",
              "A  1   0.0    29  93.75  3.232759  3.250  ...  1.345380  2.0000  3.250  4.2500\n",
              "   2   0.0     8  27.50  3.437500  3.000  ...  1.401729  2.2500  3.000  4.1875\n",
              "       6.0     1   4.25  4.250000  4.250  ...  0.000000  4.2500  4.250  4.2500\n",
              "   2NT 0.0    11  38.00  3.454545  3.500  ...  0.871377  2.8750  3.500  4.1250\n",
              "A1 1   0.0     2   4.75  2.375000  2.375  ...  0.375000  2.1875  2.375  2.5625\n",
              "   2NT 0.0     4  12.75  3.187500  3.250  ...  0.797947  2.9375  3.250  3.5000\n",
              "B  1   0.0     8  25.75  3.218750  3.375  ...  0.804650  3.0000  3.375  3.5625\n",
              "   2NT 0.0     1   3.75  3.750000  3.750  ...  0.000000  3.7500  3.750  3.7500\n",
              "C  1   0.0     8  43.50  5.437500  5.250  ...  0.681795  5.0000  5.250  5.4375\n",
              "   2   0.0     2  11.50  5.750000  5.750  ...  0.750000  5.3750  5.750  6.1250\n",
              "   2NT 0.0     4  24.25  6.062500  6.000  ...  0.817294  5.2500  6.000  6.8125\n",
              "D1 1   0.0    12  43.75  3.645833  3.625  ...  1.251908  2.6875  3.625  4.4375\n",
              "       1.0     1   3.00  3.000000  3.000  ...  0.000000  3.0000  3.000  3.0000\n",
              "   2   0.0     7  32.50  4.642857  4.500  ...  1.084445  4.1250  4.500  5.0000\n",
              "       1.0     1   1.25  1.250000  1.250  ...  0.000000  1.2500  1.250  1.2500\n",
              "   2NT 0.0     1   3.75  3.750000  3.750  ...  0.000000  3.7500  3.750  3.7500\n",
              "\n",
              "[16 rows x 10 columns]"
            ]
          },
          "metadata": {},
          "execution_count": 172
        }
      ]
    },
    {
      "cell_type": "markdown",
      "metadata": {
        "id": "xOw1lkkyB6Pz"
      },
      "source": [
        "Phần 2: Trình bày dữ liệu"
      ]
    },
    {
      "cell_type": "markdown",
      "metadata": {
        "id": "Ef2WDAMxB891"
      },
      "source": [
        "1. Hãy trình bày dữ liệu biến GT:\n",
        "Gợi ý - Lập bảng tần số và tần suất - Vẽ biểu đồ tần số (cột), biểu đồ tần suất (tròn) và biểu đồ tích lũy tần suất (đa giác tích lũy)"
      ]
    },
    {
      "cell_type": "code",
      "metadata": {
        "id": "8kLrA-DyB0Zk"
      },
      "source": [
        "gt = dlxtdh.groupby('GT')['GT'].agg(['count'])\n",
        "#gt = pd.pivot_table(dlxtdh.groupby('GT')['GT'].agg(['count']), colums = 'GT')"
      ],
      "execution_count": 51,
      "outputs": []
    },
    {
      "cell_type": "code",
      "metadata": {
        "id": "QcNvIwhy65C-",
        "outputId": "521d4dd7-58d5-44b7-b75d-3ca46316898a",
        "colab": {
          "base_uri": "https://localhost:8080/",
          "height": 312
        }
      },
      "source": [
        "gt.plot.bar()"
      ],
      "execution_count": 53,
      "outputs": [
        {
          "output_type": "execute_result",
          "data": {
            "text/plain": [
              "<matplotlib.axes._subplots.AxesSubplot at 0x7f7f029ae390>"
            ]
          },
          "metadata": {},
          "execution_count": 53
        },
        {
          "output_type": "display_data",
          "data": {
            "image/png": "[encoded data removed]",
            "text/plain": [
              "<Figure size 432x288 with 1 Axes>"
            ]
          },
          "metadata": {
            "needs_background": "light"
          }
        }
      ]
    },
    {
      "cell_type": "code",
      "metadata": {
        "colab": {
          "base_uri": "https://localhost:8080/",
          "height": 298
        },
        "id": "Ph905MMJCjok",
        "outputId": "183936af-da5d-42a8-909e-abd95005a6e4"
      },
      "source": [
        "gt.plot.pie(subplots = True)"
      ],
      "execution_count": 48,
      "outputs": [
        {
          "output_type": "execute_result",
          "data": {
            "text/plain": [
              "array([<matplotlib.axes._subplots.AxesSubplot object at 0x7f7f02adf150>],\n",
              "      dtype=object)"
            ]
          },
          "metadata": {},
          "execution_count": 48
        },
        {
          "output_type": "display_data",
          "data": {
            "image/png": "[encoded data removed]",
            "text/plain": [
              "<Figure size 432x288 with 1 Axes>"
            ]
          },
          "metadata": {}
        }
      ]
    },
    {
      "cell_type": "markdown",
      "metadata": {
        "id": "BIUh68XNC2oa"
      },
      "source": [
        "1. Hãy trình bày dữ liệu lần lượt các biến: US_TBM1, US_TBM2 và US_TBM3"
      ]
    },
    {
      "cell_type": "code",
      "metadata": {
        "colab": {
          "base_uri": "https://localhost:8080/"
        },
        "id": "dieKdQGqCt_H",
        "outputId": "2a3ea6da-e236-4db2-b847-256fcbbf590c"
      },
      "source": [
        "us1 = dlxtdh['US_TBM1'].value_counts()\n",
        "us1"
      ],
      "execution_count": null,
      "outputs": [
        {
          "output_type": "execute_result",
          "data": {
            "text/plain": [
              "2.048    3\n",
              "2.972    2\n",
              "2.276    2\n",
              "2.720    2\n",
              "2.724    2\n",
              "        ..\n",
              "2.176    1\n",
              "2.480    1\n",
              "2.108    1\n",
              "1.984    1\n",
              "1.616    1\n",
              "Name: US_TBM1, Length: 90, dtype: int64"
            ]
          },
          "metadata": {},
          "execution_count": 17
        }
      ]
    },
    {
      "cell_type": "code",
      "metadata": {
        "colab": {
          "base_uri": "https://localhost:8080/",
          "height": 298
        },
        "id": "AVQdvnoDDQNn",
        "outputId": "9e7e24fa-d592-47f0-c925-07d43febac65"
      },
      "source": [
        "dlxtdh['US_TBM1'].plot.hist('''bins = 20''')\n",
        "#plt.xlabel('aaa')"
      ],
      "execution_count": 134,
      "outputs": [
        {
          "output_type": "execute_result",
          "data": {
            "text/plain": [
              "<matplotlib.axes._subplots.AxesSubplot at 0x7f7eeee183d0>"
            ]
          },
          "metadata": {},
          "execution_count": 134
        },
        {
          "output_type": "display_data",
          "data": {
            "image/png": "[encoded data removed]",
            "text/plain": [
              "<Figure size 432x288 with 1 Axes>"
            ]
          },
          "metadata": {
            "needs_background": "light"
          }
        }
      ]
    },
    {
      "cell_type": "code",
      "metadata": {
        "colab": {
          "base_uri": "https://localhost:8080/",
          "height": 298
        },
        "id": "SdrQcXdjDlo3",
        "outputId": "36854399-57fc-4b88-8196-73e8daf5fe45"
      },
      "source": [
        "dlxtdh['US_TBM1'].plot.line()"
      ],
      "execution_count": 64,
      "outputs": [
        {
          "output_type": "execute_result",
          "data": {
            "text/plain": [
              "<matplotlib.axes._subplots.AxesSubplot at 0x7f7ef1efce90>"
            ]
          },
          "metadata": {},
          "execution_count": 64
        },
        {
          "output_type": "display_data",
          "data": {
            "image/png": "[encoded data removed]",
            "text/plain": [
              "<Figure size 432x288 with 1 Axes>"
            ]
          },
          "metadata": {
            "needs_background": "light"
          }
        }
      ]
    },
    {
      "cell_type": "code",
      "metadata": {
        "colab": {
          "base_uri": "https://localhost:8080/",
          "height": 298
        },
        "id": "CskPE9MCDr42",
        "outputId": "2ef70028-d047-4c54-8943-6c2c130b16f5"
      },
      "source": [
        "dlxtdh['US_TBM1'].plot.area()"
      ],
      "execution_count": 66,
      "outputs": [
        {
          "output_type": "execute_result",
          "data": {
            "text/plain": [
              "<matplotlib.axes._subplots.AxesSubplot at 0x7f7ef1dd6fd0>"
            ]
          },
          "metadata": {},
          "execution_count": 66
        },
        {
          "output_type": "display_data",
          "data": {
            "image/png": "[encoded data removed]",
            "text/plain": [
              "<Figure size 432x288 with 1 Axes>"
            ]
          },
          "metadata": {
            "needs_background": "light"
          }
        }
      ]
    },
    {
      "cell_type": "code",
      "metadata": {
        "colab": {
          "base_uri": "https://localhost:8080/"
        },
        "id": "IG9Ds1t6D15R",
        "outputId": "a8137368-60c9-4167-e0d1-22b72b2caa5d"
      },
      "source": [
        "us2 = dlxtdh['US_TBM2'].value_counts()\n",
        "us2"
      ],
      "execution_count": 68,
      "outputs": [
        {
          "output_type": "execute_result",
          "data": {
            "text/plain": [
              "3.028    2\n",
              "2.900    2\n",
              "2.652    2\n",
              "2.208    2\n",
              "2.188    2\n",
              "        ..\n",
              "2.528    1\n",
              "2.128    1\n",
              "2.548    1\n",
              "2.968    1\n",
              "2.228    1\n",
              "Name: US_TBM2, Length: 91, dtype: int64"
            ]
          },
          "metadata": {},
          "execution_count": 68
        }
      ]
    },
    {
      "cell_type": "code",
      "metadata": {
        "colab": {
          "base_uri": "https://localhost:8080/",
          "height": 298
        },
        "id": "_9EzTLBJD9Im",
        "outputId": "6be121ff-dd36-44f3-855c-2f2b835135de"
      },
      "source": [
        "dlxtdh['US_TBM2'].plot.hist()"
      ],
      "execution_count": 70,
      "outputs": [
        {
          "output_type": "execute_result",
          "data": {
            "text/plain": [
              "<matplotlib.axes._subplots.AxesSubplot at 0x7f7ef1cbd550>"
            ]
          },
          "metadata": {},
          "execution_count": 70
        },
        {
          "output_type": "display_data",
          "data": {
            "image/png": "[encoded data removed]",
            "text/plain": [
              "<Figure size 432x288 with 1 Axes>"
            ]
          },
          "metadata": {
            "needs_background": "light"
          }
        }
      ]
    },
    {
      "cell_type": "code",
      "metadata": {
        "colab": {
          "base_uri": "https://localhost:8080/",
          "height": 298
        },
        "id": "AvkV-4e1EAfW",
        "outputId": "f756b4ce-b010-443b-e150-cb4690f87f06"
      },
      "source": [
        "dlxtdh['US_TBM2'].plot.line()"
      ],
      "execution_count": 72,
      "outputs": [
        {
          "output_type": "execute_result",
          "data": {
            "text/plain": [
              "<matplotlib.axes._subplots.AxesSubplot at 0x7f7ef46220d0>"
            ]
          },
          "metadata": {},
          "execution_count": 72
        },
        {
          "output_type": "display_data",
          "data": {
            "image/png": "[encoded data removed]",
            "text/plain": [
              "<Figure size 432x288 with 1 Axes>"
            ]
          },
          "metadata": {
            "needs_background": "light"
          }
        }
      ]
    },
    {
      "cell_type": "code",
      "metadata": {
        "colab": {
          "base_uri": "https://localhost:8080/",
          "height": 282
        },
        "id": "ZoyXq1iMEA_Y",
        "outputId": "3f3196bd-ac5d-4c0b-ebd6-fce95d8bb020"
      },
      "source": [
        "dlxtdh['US_TBM2'].plot.area()"
      ],
      "execution_count": null,
      "outputs": [
        {
          "output_type": "execute_result",
          "data": {
            "text/plain": [
              "<matplotlib.axes._subplots.AxesSubplot at 0x7f2fb1d9a1d0>"
            ]
          },
          "metadata": {},
          "execution_count": 24
        },
        {
          "output_type": "display_data",
          "data": {
            "image/png": "[encoded data removed]",
            "text/plain": [
              "<Figure size 432x288 with 1 Axes>"
            ]
          },
          "metadata": {
            "needs_background": "light"
          }
        }
      ]
    },
    {
      "cell_type": "code",
      "metadata": {
        "colab": {
          "base_uri": "https://localhost:8080/"
        },
        "id": "SKrYsZs_D4p5",
        "outputId": "80523f79-91d0-45f1-82ec-903669c282b5"
      },
      "source": [
        "us3 = dlxtdh['US_TBM3'].value_counts()\n",
        "us3"
      ],
      "execution_count": null,
      "outputs": [
        {
          "output_type": "execute_result",
          "data": {
            "text/plain": [
              "2.688    2\n",
              "2.636    2\n",
              "2.812    2\n",
              "2.752    2\n",
              "2.504    2\n",
              "        ..\n",
              "2.632    1\n",
              "2.096    1\n",
              "2.432    1\n",
              "3.200    1\n",
              "3.000    1\n",
              "Name: US_TBM3, Length: 91, dtype: int64"
            ]
          },
          "metadata": {},
          "execution_count": 25
        }
      ]
    },
    {
      "cell_type": "code",
      "metadata": {
        "colab": {
          "base_uri": "https://localhost:8080/",
          "height": 282
        },
        "id": "yglWs-OrEIDN",
        "outputId": "b8580390-f2d2-4795-888d-3577937f9f36"
      },
      "source": [
        "dlxtdh['US_TBM3'].plot.hist()"
      ],
      "execution_count": null,
      "outputs": [
        {
          "output_type": "execute_result",
          "data": {
            "text/plain": [
              "<matplotlib.axes._subplots.AxesSubplot at 0x7f2fb1aed690>"
            ]
          },
          "metadata": {},
          "execution_count": 26
        },
        {
          "output_type": "display_data",
          "data": {
            "image/png": "[encoded data removed]",
            "text/plain": [
              "<Figure size 432x288 with 1 Axes>"
            ]
          },
          "metadata": {
            "needs_background": "light"
          }
        }
      ]
    },
    {
      "cell_type": "code",
      "metadata": {
        "colab": {
          "base_uri": "https://localhost:8080/",
          "height": 298
        },
        "id": "w6mWQZJ2E4Fq",
        "outputId": "5c4dbee4-3cb5-429c-db4e-9bb6175b1813"
      },
      "source": [
        "dlxtdh['US_TBM3'].plot.line()"
      ],
      "execution_count": 73,
      "outputs": [
        {
          "output_type": "execute_result",
          "data": {
            "text/plain": [
              "<matplotlib.axes._subplots.AxesSubplot at 0x7f7ef1bf0590>"
            ]
          },
          "metadata": {},
          "execution_count": 73
        },
        {
          "output_type": "display_data",
          "data": {
            "image/png": "[encoded data removed]",
            "text/plain": [
              "<Figure size 432x288 with 1 Axes>"
            ]
          },
          "metadata": {
            "needs_background": "light"
          }
        }
      ]
    },
    {
      "cell_type": "code",
      "metadata": {
        "colab": {
          "base_uri": "https://localhost:8080/",
          "height": 282
        },
        "id": "uRJHZw8gE5ES",
        "outputId": "63a1f51d-5bc0-494f-8b8a-6ead39406d2e"
      },
      "source": [
        "dlxtdh['US_TBM3'].plot.area()"
      ],
      "execution_count": null,
      "outputs": [
        {
          "output_type": "execute_result",
          "data": {
            "text/plain": [
              "<matplotlib.axes._subplots.AxesSubplot at 0x7f2fb3e5b310>"
            ]
          },
          "metadata": {},
          "execution_count": 28
        },
        {
          "output_type": "display_data",
          "data": {
            "image/png": "[encoded data removed]",
            "text/plain": [
              "<Figure size 432x288 with 1 Axes>"
            ]
          },
          "metadata": {
            "needs_background": "light"
          }
        }
      ]
    },
    {
      "cell_type": "markdown",
      "metadata": {
        "id": "T4yDAqioFAwo"
      },
      "source": [
        "2. Hãy trình bày dữ liệu biến DT với các học sinh là nam"
      ]
    },
    {
      "cell_type": "code",
      "metadata": {
        "colab": {
          "base_uri": "https://localhost:8080/",
          "height": 182
        },
        "id": "7fu3OMU9FCj5",
        "outputId": "ab00e305-baee-422c-a871-ea86ac26fe84"
      },
      "source": [
        "nam1 = dlxtdh[dlxtdh.GT=='M'].groupby(['DT','GT']).agg({'GT':'count'})\n",
        "nam1"
      ],
      "execution_count": 88,
      "outputs": [
        {
          "output_type": "execute_result",
          "data": {
            "text/html": [
              "<div>\n",
              "<style scoped>\n",
              "    .dataframe tbody tr th:only-of-type {\n",
              "        vertical-align: middle;\n",
              "    }\n",
              "\n",
              "    .dataframe tbody tr th {\n",
              "        vertical-align: top;\n",
              "    }\n",
              "\n",
              "    .dataframe thead th {\n",
              "        text-align: right;\n",
              "    }\n",
              "</style>\n",
              "<table border=\"1\" class=\"dataframe\">\n",
              "  <thead>\n",
              "    <tr style=\"text-align: right;\">\n",
              "      <th></th>\n",
              "      <th></th>\n",
              "      <th>GT</th>\n",
              "    </tr>\n",
              "    <tr>\n",
              "      <th>DT</th>\n",
              "      <th>GT</th>\n",
              "      <th></th>\n",
              "    </tr>\n",
              "  </thead>\n",
              "  <tbody>\n",
              "    <tr>\n",
              "      <th>0.0</th>\n",
              "      <th>M</th>\n",
              "      <td>50</td>\n",
              "    </tr>\n",
              "    <tr>\n",
              "      <th>1.0</th>\n",
              "      <th>M</th>\n",
              "      <td>1</td>\n",
              "    </tr>\n",
              "    <tr>\n",
              "      <th>6.0</th>\n",
              "      <th>M</th>\n",
              "      <td>1</td>\n",
              "    </tr>\n",
              "  </tbody>\n",
              "</table>\n",
              "</div>"
            ],
            "text/plain": [
              "        GT\n",
              "DT  GT    \n",
              "0.0 M   50\n",
              "1.0 M    1\n",
              "6.0 M    1"
            ]
          },
          "metadata": {},
          "execution_count": 88
        }
      ]
    },
    {
      "cell_type": "code",
      "metadata": {
        "id": "VXRwQ6YXEjJu",
        "outputId": "844509bf-7397-44f7-debc-6daa90b0ea00",
        "colab": {
          "base_uri": "https://localhost:8080/",
          "height": 298
        }
      },
      "source": [
        "nam = dlxtdh.loc[dlxtdh['GT'] == 'M'].groupby('DT')['DT'].agg(['count'])\n",
        "nam.plot.pie(subplots = True, autopct = '%.2f%%')\n",
        "#dlxtdh.loc[(dlxtdh.GT =='M'),'DT'].hist()"
      ],
      "execution_count": 97,
      "outputs": [
        {
          "output_type": "execute_result",
          "data": {
            "text/plain": [
              "array([<matplotlib.axes._subplots.AxesSubplot object at 0x7f7ef1434590>],\n",
              "      dtype=object)"
            ]
          },
          "metadata": {},
          "execution_count": 97
        },
        {
          "output_type": "display_data",
          "data": {
            "image/png": "[encoded data removed]",
            "text/plain": [
              "<Figure size 432x288 with 1 Axes>"
            ]
          },
          "metadata": {}
        }
      ]
    },
    {
      "cell_type": "markdown",
      "metadata": {
        "id": "qyWOwu-wYZvE"
      },
      "source": [
        "3. Hãy trình bày dữ liệu biến KV với các học sinh là nam thuộc dân tộc Kinh, có điểm thõa mãn điều kiện (DH1 >= 5.0 và DH2 >= 4.0 và DH3 >= 4.0)\n"
      ]
    },
    {
      "cell_type": "code",
      "metadata": {
        "id": "xI0qKVmcYasp",
        "colab": {
          "base_uri": "https://localhost:8080/",
          "height": 298
        },
        "outputId": "b03da9b4-24b3-4227-c874-911c8c12dd88"
      },
      "source": [
        "#dlxtdh[dlxtdh.KV.isin(['1','2','2NT']) & dlxtdh.DT.isin(['0.0']) & (dlxtdh.GT=='M') & (dlxtdh.DH1>=5.0) & (dlxtdh.DH2 >=4.0) & (dlxtdh.DH3>=4.0)].groupby(['DT','GT','KV']).agg({'GT':'count'}).plot.pie(subplots = True)\n",
        "dlxtdh.loc[(dlxtdh['GT'] == 'M') & (dlxtdh['DT'] == 0) & (dlxtdh['DH1'] >= 5) & (dlxtdh['DH2'] >= 4) & (dlxtdh['DH3'] >= 4)].groupby('KV')['KV'].agg(['count']).plot.pie(subplots = True, autopct = '%.2f%%')"
      ],
      "execution_count": 104,
      "outputs": [
        {
          "output_type": "execute_result",
          "data": {
            "text/plain": [
              "array([<matplotlib.axes._subplots.AxesSubplot object at 0x7f7ef116fa50>],\n",
              "      dtype=object)"
            ]
          },
          "metadata": {},
          "execution_count": 104
        },
        {
          "output_type": "display_data",
          "data": {
            "image/png": "[encoded data removed]",
            "text/plain": [
              "<Figure size 432x288 with 1 Axes>"
            ]
          },
          "metadata": {}
        }
      ]
    },
    {
      "cell_type": "markdown",
      "metadata": {
        "id": "i8pVCXKRMG_x"
      },
      "source": [
        "4. Hãy trình bày dữ liệu lần lượt các biến DH1, DH2, DH3 lớn hơn bằng 5.0 và thuộc khu vực 2NT"
      ]
    },
    {
      "cell_type": "code",
      "metadata": {
        "id": "cJz77OawMKK3",
        "outputId": "d83fe786-257f-4780-da2d-7b6d69f7aee8",
        "colab": {
          "base_uri": "https://localhost:8080/",
          "height": 298
        }
      },
      "source": [
        "dlxtdh['DH1'].loc[(dlxtdh['DH1'] >= 5) & (dlxtdh['KV'] == '2NT')].plot.hist(bins = 20)\n",
        "#plt.xlabel()\n",
        "#plt.ylabel()"
      ],
      "execution_count": 131,
      "outputs": [
        {
          "output_type": "execute_result",
          "data": {
            "text/plain": [
              "<matplotlib.axes._subplots.AxesSubplot at 0x7f7eeefce7d0>"
            ]
          },
          "metadata": {},
          "execution_count": 131
        },
        {
          "output_type": "display_data",
          "data": {
            "image/png": "[encoded data removed]",
            "text/plain": [
              "<Figure size 432x288 with 1 Axes>"
            ]
          },
          "metadata": {
            "needs_background": "light"
          }
        }
      ]
    },
    {
      "cell_type": "code",
      "metadata": {
        "id": "T_P10NdBOlDu",
        "outputId": "32c4f0ad-5eac-47b0-aefc-9bb57619b2d9",
        "colab": {
          "base_uri": "https://localhost:8080/",
          "height": 298
        }
      },
      "source": [
        "dlxtdh['DH2'].loc[(dlxtdh['DH2'] >= 5) & (dlxtdh['KV'] == '2NT')].plot.hist(bins = 20)"
      ],
      "execution_count": 120,
      "outputs": [
        {
          "output_type": "execute_result",
          "data": {
            "text/plain": [
              "<matplotlib.axes._subplots.AxesSubplot at 0x7f7eef59e910>"
            ]
          },
          "metadata": {},
          "execution_count": 120
        },
        {
          "output_type": "display_data",
          "data": {
            "image/png": "[encoded data removed]",
            "text/plain": [
              "<Figure size 432x288 with 1 Axes>"
            ]
          },
          "metadata": {
            "needs_background": "light"
          }
        }
      ]
    },
    {
      "cell_type": "code",
      "metadata": {
        "id": "DsU0JuBrOprz",
        "outputId": "74e1aac2-9f75-4e7b-bde7-014040de872d",
        "colab": {
          "base_uri": "https://localhost:8080/",
          "height": 298
        }
      },
      "source": [
        "dlxtdh['DH3'].loc[(dlxtdh['DH3'] >= 5) & (dlxtdh['KV'] == '2NT')].plot.hist(bins = 20)"
      ],
      "execution_count": 121,
      "outputs": [
        {
          "output_type": "execute_result",
          "data": {
            "text/plain": [
              "<matplotlib.axes._subplots.AxesSubplot at 0x7f7eef3e6f90>"
            ]
          },
          "metadata": {},
          "execution_count": 121
        },
        {
          "output_type": "display_data",
          "data": {
            "image/png": "[encoded data removed]",
            "text/plain": [
              "<Figure size 432x288 with 1 Axes>"
            ]
          },
          "metadata": {
            "needs_background": "light"
          }
        }
      ]
    },
    {
      "cell_type": "markdown",
      "metadata": {
        "id": "EiF9HuirPIED"
      },
      "source": [
        "Phần 3: Trực quan hóa dữ liệu theo nhóm phân loại"
      ]
    },
    {
      "cell_type": "markdown",
      "metadata": {
        "id": "wNAeCEZ3PacS"
      },
      "source": [
        "1. Trực quan dữ liệu học sinh nữ trên các nhóm XL1, XL2, XL3 dạng unstacked Gợi ý - Lọc dữ liệu giới tính là nữ - Oy: Chiều cao biểu đồ cột thể hiển số lượng học sinh theo xếp loại - Màu sắc thể hiện giá trị xếp loại: [Y, TB, K, G, XS] - Ox: thể hiện nhóm XL1, XL2 và XL3"
      ]
    },
    {
      "cell_type": "code",
      "metadata": {
        "id": "41UJDAajPdLo",
        "outputId": "9c3033d8-679d-4666-ef0c-2e47ff9c72a7",
        "colab": {
          "base_uri": "https://localhost:8080/",
          "height": 320
        }
      },
      "source": [
        "pd.pivot_table(dlxtdh.loc[dlxtdh['GT'] == 'F'].groupby(['XL1'])['GT'].agg(['count']), columns = 'XL1').plot.bar(stacked = False)\n",
        "#plt.xlabel('XL1')"
      ],
      "execution_count": 276,
      "outputs": [
        {
          "output_type": "execute_result",
          "data": {
            "text/plain": [
              "<matplotlib.axes._subplots.AxesSubplot at 0x7f7eeb007350>"
            ]
          },
          "metadata": {},
          "execution_count": 276
        },
        {
          "output_type": "display_data",
          "data": {
            "image/png": "[encoded data removed]",
            "text/plain": [
              "<Figure size 432x288 with 1 Axes>"
            ]
          },
          "metadata": {
            "needs_background": "light"
          }
        }
      ]
    },
    {
      "cell_type": "code",
      "metadata": {
        "id": "gsdvbkSuWJmm",
        "outputId": "6c9a25c7-6252-4238-ef71-f442e3ea0eb6",
        "colab": {
          "base_uri": "https://localhost:8080/",
          "height": 317
        }
      },
      "source": [
        "pd.pivot_table(dlxtdh.loc[dlxtdh['GT'] == 'F'].groupby(['XL2'])['GT'].agg(['count']), columns = 'XL2').plot.bar(stacked = False)"
      ],
      "execution_count": 273,
      "outputs": [
        {
          "output_type": "execute_result",
          "data": {
            "text/plain": [
              "<matplotlib.axes._subplots.AxesSubplot at 0x7f7eeb082bd0>"
            ]
          },
          "metadata": {},
          "execution_count": 273
        },
        {
          "output_type": "display_data",
          "data": {
            "image/png": "[encoded data removed]",
            "text/plain": [
              "<Figure size 432x288 with 1 Axes>"
            ]
          },
          "metadata": {
            "needs_background": "light"
          }
        }
      ]
    },
    {
      "cell_type": "code",
      "metadata": {
        "id": "pMlFqsl1WN7I",
        "outputId": "eaf32695-f78b-41e1-de1f-11279aa1c5c1",
        "colab": {
          "base_uri": "https://localhost:8080/",
          "height": 317
        }
      },
      "source": [
        "pd.pivot_table(dlxtdh.loc[dlxtdh['GT'] == 'F'].groupby(['XL3'])['GT'].agg(['count']), columns = 'XL3').plot.bar(stacked = False)"
      ],
      "execution_count": 168,
      "outputs": [
        {
          "output_type": "execute_result",
          "data": {
            "text/plain": [
              "<matplotlib.axes._subplots.AxesSubplot at 0x7f7eecf29050>"
            ]
          },
          "metadata": {},
          "execution_count": 168
        },
        {
          "output_type": "display_data",
          "data": {
            "image/png": "[encoded data removed]",
            "text/plain": [
              "<Figure size 432x288 with 1 Axes>"
            ]
          },
          "metadata": {
            "needs_background": "light"
          }
        }
      ]
    },
    {
      "cell_type": "markdown",
      "metadata": {
        "id": "ERHvY1qSWl42"
      },
      "source": [
        "2. Trực quan dữ liệu KQXT trên nhóm học sinh có khối thi A, A1, B thuộc khu vực 1, 2"
      ]
    },
    {
      "cell_type": "code",
      "metadata": {
        "id": "W1dDeGzckQZR",
        "outputId": "31300312-2e4d-49d5-a766-5b6be90b274e",
        "colab": {
          "base_uri": "https://localhost:8080/",
          "height": 298
        }
      },
      "source": [
        "kv = dlxtdh.loc[(dlxtdh['KV'] == '1')].append(dlxtdh.loc[(dlxtdh['KV'] == '2')])\n",
        "kt = kv.loc[(kv['KT'] == 'A') | (kv['KT'] == 'A1') | (kv['KT'] == 'B')]\n",
        "kt.groupby('KQXT')['KT'].agg(['count']).plot.pie(subplots = True, autopct = '%.2f%%')"
      ],
      "execution_count": 183,
      "outputs": [
        {
          "output_type": "execute_result",
          "data": {
            "text/plain": [
              "array([<matplotlib.axes._subplots.AxesSubplot object at 0x7f7eec7c6410>],\n",
              "      dtype=object)"
            ]
          },
          "metadata": {},
          "execution_count": 183
        },
        {
          "output_type": "display_data",
          "data": {
            "image/png": "[encoded data removed]",
            "text/plain": [
              "<Figure size 432x288 with 1 Axes>"
            ]
          },
          "metadata": {}
        }
      ]
    },
    {
      "cell_type": "markdown",
      "metadata": {
        "id": "FCewkD93ji40"
      },
      "source": [
        "3. Trực quan dữ liệu số lượng thí sinh từng khu vực dựa trên từng nhóm khối thi"
      ]
    },
    {
      "cell_type": "code",
      "metadata": {
        "id": "cBwbdyyZjhWW",
        "outputId": "417a214c-eba5-428c-8a24-26e2a807674d",
        "colab": {
          "base_uri": "https://localhost:8080/",
          "height": 298
        }
      },
      "source": [
        "dlxtdh.loc[dlxtdh['KT'] == 'A'].groupby('KV')['KT'].agg(['count']).plot.pie(subplots = True, autopct = '%.2f%%')"
      ],
      "execution_count": 278,
      "outputs": [
        {
          "output_type": "execute_result",
          "data": {
            "text/plain": [
              "array([<matplotlib.axes._subplots.AxesSubplot object at 0x7f7eeaf57090>],\n",
              "      dtype=object)"
            ]
          },
          "metadata": {},
          "execution_count": 278
        },
        {
          "output_type": "display_data",
          "data": {
            "image/png": "[encoded data removed]",
            "text/plain": [
              "<Figure size 432x288 with 1 Axes>"
            ]
          },
          "metadata": {}
        }
      ]
    },
    {
      "cell_type": "code",
      "metadata": {
        "id": "wN9qmXQCkHqc",
        "outputId": "55a79612-433e-4b4d-8fa9-742de2964912",
        "colab": {
          "base_uri": "https://localhost:8080/",
          "height": 298
        }
      },
      "source": [
        "dlxtdh.loc[dlxtdh['KT'] == 'A1'].groupby('KV')['KT'].agg(['count']).plot.pie(subplots = True, autopct = '%.2f%%')"
      ],
      "execution_count": 159,
      "outputs": [
        {
          "output_type": "execute_result",
          "data": {
            "text/plain": [
              "array([<matplotlib.axes._subplots.AxesSubplot object at 0x7f7eecff2c50>],\n",
              "      dtype=object)"
            ]
          },
          "metadata": {},
          "execution_count": 159
        },
        {
          "output_type": "display_data",
          "data": {
            "image/png": "[encoded data removed]",
            "text/plain": [
              "<Figure size 432x288 with 1 Axes>"
            ]
          },
          "metadata": {}
        }
      ]
    },
    {
      "cell_type": "code",
      "metadata": {
        "id": "ropWkr7pkM1T",
        "outputId": "cf117d28-09b3-44e5-c0ad-0b0d5cd0c810",
        "colab": {
          "base_uri": "https://localhost:8080/",
          "height": 298
        }
      },
      "source": [
        "dlxtdh.loc[dlxtdh['KT'] == 'B'].groupby('KV')['KT'].agg(['count']).plot.pie(subplots = True, autopct = '%.2f%%')"
      ],
      "execution_count": 160,
      "outputs": [
        {
          "output_type": "execute_result",
          "data": {
            "text/plain": [
              "array([<matplotlib.axes._subplots.AxesSubplot object at 0x7f7eecfc2e50>],\n",
              "      dtype=object)"
            ]
          },
          "metadata": {},
          "execution_count": 160
        },
        {
          "output_type": "display_data",
          "data": {
            "image/png": "[encoded data removed]",
            "text/plain": [
              "<Figure size 432x288 with 1 Axes>"
            ]
          },
          "metadata": {}
        }
      ]
    },
    {
      "cell_type": "code",
      "metadata": {
        "id": "b5IwImdyrQlu",
        "outputId": "265a37e1-023c-422b-956b-aab1b704731f",
        "colab": {
          "base_uri": "https://localhost:8080/",
          "height": 298
        }
      },
      "source": [
        "dlxtdh.loc[dlxtdh['KT'] == 'C'].groupby('KV')['KT'].agg(['count']).plot.pie(subplots = True, autopct = '%.2f%%')"
      ],
      "execution_count": 184,
      "outputs": [
        {
          "output_type": "execute_result",
          "data": {
            "text/plain": [
              "array([<matplotlib.axes._subplots.AxesSubplot object at 0x7f7eec7de150>],\n",
              "      dtype=object)"
            ]
          },
          "metadata": {},
          "execution_count": 184
        },
        {
          "output_type": "display_data",
          "data": {
            "image/png": "[encoded data removed]",
            "text/plain": [
              "<Figure size 432x288 with 1 Axes>"
            ]
          },
          "metadata": {}
        }
      ]
    },
    {
      "cell_type": "code",
      "metadata": {
        "id": "frU1ht8krUCD",
        "outputId": "037463bf-18b1-4b01-9bb4-4233d52791ab",
        "colab": {
          "base_uri": "https://localhost:8080/",
          "height": 298
        }
      },
      "source": [
        "dlxtdh.loc[dlxtdh['KT'] == 'D1'].groupby('KV')['KT'].agg(['count']).plot.pie(subplots = True, autopct = '%.2f%%')"
      ],
      "execution_count": 186,
      "outputs": [
        {
          "output_type": "execute_result",
          "data": {
            "text/plain": [
              "array([<matplotlib.axes._subplots.AxesSubplot object at 0x7f7eec6d7690>],\n",
              "      dtype=object)"
            ]
          },
          "metadata": {},
          "execution_count": 186
        },
        {
          "output_type": "display_data",
          "data": {
            "image/png": "[encoded data removed]",
            "text/plain": [
              "<Figure size 432x288 with 1 Axes>"
            ]
          },
          "metadata": {}
        }
      ]
    },
    {
      "cell_type": "markdown",
      "metadata": {
        "id": "uC9Jgk3Yr7Su"
      },
      "source": [
        "4. Trực quan dữ liệu số lượng thí sinh đậu, rớt trên từng nhóm khối thi"
      ]
    },
    {
      "cell_type": "code",
      "metadata": {
        "id": "rMDVF1dMr8nW",
        "outputId": "3193215d-528b-43d7-d095-ae6bfb0e3beb",
        "colab": {
          "base_uri": "https://localhost:8080/",
          "height": 298
        }
      },
      "source": [
        "dlxtdh.loc[dlxtdh['KT'] == 'A'].groupby('KQXT')['KT'].agg(['count']).plot.pie(subplots = True, autopct = '%.2f%%')"
      ],
      "execution_count": 191,
      "outputs": [
        {
          "output_type": "execute_result",
          "data": {
            "text/plain": [
              "array([<matplotlib.axes._subplots.AxesSubplot object at 0x7f7eec5c9d10>],\n",
              "      dtype=object)"
            ]
          },
          "metadata": {},
          "execution_count": 191
        },
        {
          "output_type": "display_data",
          "data": {
            "image/png": "[encoded data removed]",
            "text/plain": [
              "<Figure size 432x288 with 1 Axes>"
            ]
          },
          "metadata": {}
        }
      ]
    },
    {
      "cell_type": "code",
      "metadata": {
        "id": "NsU7ubF8sa11",
        "outputId": "ef37f005-8caa-4a6e-a768-0514be84adeb",
        "colab": {
          "base_uri": "https://localhost:8080/",
          "height": 298
        }
      },
      "source": [
        "dlxtdh.loc[dlxtdh['KT'] == 'A1'].groupby('KQXT')['KT'].agg(['count']).plot.pie(subplots = True, autopct = '%.2f%%')"
      ],
      "execution_count": 192,
      "outputs": [
        {
          "output_type": "execute_result",
          "data": {
            "text/plain": [
              "array([<matplotlib.axes._subplots.AxesSubplot object at 0x7f7eec529ed0>],\n",
              "      dtype=object)"
            ]
          },
          "metadata": {},
          "execution_count": 192
        },
        {
          "output_type": "display_data",
          "data": {
            "image/png": "[encoded data removed]",
            "text/plain": [
              "<Figure size 432x288 with 1 Axes>"
            ]
          },
          "metadata": {}
        }
      ]
    },
    {
      "cell_type": "code",
      "metadata": {
        "id": "3Phu2ZwKsdE6",
        "outputId": "489ed6b9-963a-4385-cc0b-669c65f722d0",
        "colab": {
          "base_uri": "https://localhost:8080/",
          "height": 298
        }
      },
      "source": [
        "dlxtdh.loc[dlxtdh['KT'] == 'B'].groupby('KQXT')['KT'].agg(['count']).plot.pie(subplots = True, autopct = '%.2f%%')"
      ],
      "execution_count": 193,
      "outputs": [
        {
          "output_type": "execute_result",
          "data": {
            "text/plain": [
              "array([<matplotlib.axes._subplots.AxesSubplot object at 0x7f7eec4eb650>],\n",
              "      dtype=object)"
            ]
          },
          "metadata": {},
          "execution_count": 193
        },
        {
          "output_type": "display_data",
          "data": {
            "image/png": "[encoded data removed]",
            "text/plain": [
              "<Figure size 432x288 with 1 Axes>"
            ]
          },
          "metadata": {}
        }
      ]
    },
    {
      "cell_type": "code",
      "metadata": {
        "id": "JRjOFHlisddv",
        "outputId": "3d56843b-f4c2-4a40-9532-b09f2df4d292",
        "colab": {
          "base_uri": "https://localhost:8080/",
          "height": 298
        }
      },
      "source": [
        "dlxtdh.loc[dlxtdh['KT'] == 'C'].groupby('KQXT')['KT'].agg(['count']).plot.pie(subplots = True, autopct = '%.2f%%')"
      ],
      "execution_count": 194,
      "outputs": [
        {
          "output_type": "execute_result",
          "data": {
            "text/plain": [
              "array([<matplotlib.axes._subplots.AxesSubplot object at 0x7f7eec6df5d0>],\n",
              "      dtype=object)"
            ]
          },
          "metadata": {},
          "execution_count": 194
        },
        {
          "output_type": "display_data",
          "data": {
            "image/png": "[encoded data removed]",
            "text/plain": [
              "<Figure size 432x288 with 1 Axes>"
            ]
          },
          "metadata": {}
        }
      ]
    },
    {
      "cell_type": "code",
      "metadata": {
        "id": "BEV5DvMdsd0c",
        "outputId": "584de2c4-3910-4e12-cedb-a7d837fb85ad",
        "colab": {
          "base_uri": "https://localhost:8080/",
          "height": 298
        }
      },
      "source": [
        "dlxtdh.loc[dlxtdh['KT'] == 'D1'].groupby('KQXT')['KT'].agg(['count']).plot.pie(subplots = True, autopct = '%.2f%%')"
      ],
      "execution_count": 195,
      "outputs": [
        {
          "output_type": "execute_result",
          "data": {
            "text/plain": [
              "array([<matplotlib.axes._subplots.AxesSubplot object at 0x7f7eec48d9d0>],\n",
              "      dtype=object)"
            ]
          },
          "metadata": {},
          "execution_count": 195
        },
        {
          "output_type": "display_data",
          "data": {
            "image/png": "[encoded data removed]",
            "text/plain": [
              "<Figure size 432x288 with 1 Axes>"
            ]
          },
          "metadata": {}
        }
      ]
    },
    {
      "cell_type": "markdown",
      "metadata": {
        "id": "tyTW4RqksmKy"
      },
      "source": [
        "5. Trực quan dữ liệu số lượng thí sinh đậu rớt trên từng nhóm khu vực."
      ]
    },
    {
      "cell_type": "code",
      "metadata": {
        "id": "_k6pSRlxslSe",
        "outputId": "aa1c4f51-af12-4eb0-aa0b-cbf99f0e023b",
        "colab": {
          "base_uri": "https://localhost:8080/",
          "height": 298
        }
      },
      "source": [
        "dlxtdh.loc[dlxtdh['KV'] == '1'].groupby('KQXT')['KV'].agg(['count']).plot.pie(subplots = True, autopct = '%.2f%%')"
      ],
      "execution_count": 196,
      "outputs": [
        {
          "output_type": "execute_result",
          "data": {
            "text/plain": [
              "array([<matplotlib.axes._subplots.AxesSubplot object at 0x7f7eec3fb150>],\n",
              "      dtype=object)"
            ]
          },
          "metadata": {},
          "execution_count": 196
        },
        {
          "output_type": "display_data",
          "data": {
            "image/png": "[encoded data removed]",
            "text/plain": [
              "<Figure size 432x288 with 1 Axes>"
            ]
          },
          "metadata": {}
        }
      ]
    },
    {
      "cell_type": "code",
      "metadata": {
        "id": "0NXiakzWsxau",
        "outputId": "544974ca-dbbd-4c16-dc54-51e3c56c992d",
        "colab": {
          "base_uri": "https://localhost:8080/",
          "height": 298
        }
      },
      "source": [
        "dlxtdh.loc[dlxtdh['KV'] == '2'].groupby('KQXT')['KV'].agg(['count']).plot.pie(subplots = True, autopct = '%.2f%%')"
      ],
      "execution_count": 197,
      "outputs": [
        {
          "output_type": "execute_result",
          "data": {
            "text/plain": [
              "array([<matplotlib.axes._subplots.AxesSubplot object at 0x7f7eec3ce850>],\n",
              "      dtype=object)"
            ]
          },
          "metadata": {},
          "execution_count": 197
        },
        {
          "output_type": "display_data",
          "data": {
            "image/png": "[encoded data removed]",
            "text/plain": [
              "<Figure size 432x288 with 1 Axes>"
            ]
          },
          "metadata": {}
        }
      ]
    },
    {
      "cell_type": "code",
      "metadata": {
        "id": "GkzZHrLjsyuP",
        "outputId": "f17f4c8d-674f-403c-e45f-56555a41f00c",
        "colab": {
          "base_uri": "https://localhost:8080/",
          "height": 298
        }
      },
      "source": [
        "dlxtdh.loc[dlxtdh['KV'] == '2NT'].groupby('KQXT')['KV'].agg(['count']).plot.pie(subplots = True, autopct = '%.2f%%')"
      ],
      "execution_count": 210,
      "outputs": [
        {
          "output_type": "execute_result",
          "data": {
            "text/plain": [
              "array([<matplotlib.axes._subplots.AxesSubplot object at 0x7f7eec0e00d0>],\n",
              "      dtype=object)"
            ]
          },
          "metadata": {},
          "execution_count": 210
        },
        {
          "output_type": "display_data",
          "data": {
            "image/png": "[encoded data removed]",
            "text/plain": [
              "<Figure size 432x288 with 1 Axes>"
            ]
          },
          "metadata": {}
        }
      ]
    },
    {
      "cell_type": "markdown",
      "metadata": {
        "id": "VZaF9jK5s-cJ"
      },
      "source": [
        "6. Trực quan dữ liệu số lượng thí sinh đậu rớt dựa trên từng nhóm dân tộc"
      ]
    },
    {
      "cell_type": "code",
      "metadata": {
        "id": "MGzGQYvRs-E0",
        "outputId": "4dd2a363-1dc7-4ccf-d47c-96b665705ba5",
        "colab": {
          "base_uri": "https://localhost:8080/",
          "height": 298
        }
      },
      "source": [
        "dlxtdh.loc[dlxtdh['DT'] == 0].groupby('KQXT')['DT'].agg(['count']).plot.pie(subplots = True, autopct = '%.2f%%')"
      ],
      "execution_count": 212,
      "outputs": [
        {
          "output_type": "execute_result",
          "data": {
            "text/plain": [
              "array([<matplotlib.axes._subplots.AxesSubplot object at 0x7f7eec02db50>],\n",
              "      dtype=object)"
            ]
          },
          "metadata": {},
          "execution_count": 212
        },
        {
          "output_type": "display_data",
          "data": {
            "image/png": "[encoded data removed]",
            "text/plain": [
              "<Figure size 432x288 with 1 Axes>"
            ]
          },
          "metadata": {}
        }
      ]
    },
    {
      "cell_type": "code",
      "metadata": {
        "id": "L-zfRrIath3u",
        "outputId": "c16d9b86-3d41-42a8-8f65-101113fc61b4",
        "colab": {
          "base_uri": "https://localhost:8080/",
          "height": 298
        }
      },
      "source": [
        "dlxtdh.loc[dlxtdh['DT'] == 1].groupby('KQXT')['DT'].agg(['count']).plot.pie(subplots = True, autopct = '%.2f%%')"
      ],
      "execution_count": 213,
      "outputs": [
        {
          "output_type": "execute_result",
          "data": {
            "text/plain": [
              "array([<matplotlib.axes._subplots.AxesSubplot object at 0x7f7eebfbbd10>],\n",
              "      dtype=object)"
            ]
          },
          "metadata": {},
          "execution_count": 213
        },
        {
          "output_type": "display_data",
          "data": {
            "image/png": "[encoded data removed]",
            "text/plain": [
              "<Figure size 432x288 with 1 Axes>"
            ]
          },
          "metadata": {}
        }
      ]
    },
    {
      "cell_type": "code",
      "metadata": {
        "id": "ImqFAoRitkqy",
        "outputId": "d66ff470-8f00-493d-e7cc-4e77e5d92224",
        "colab": {
          "base_uri": "https://localhost:8080/",
          "height": 298
        }
      },
      "source": [
        "dlxtdh.loc[dlxtdh['DT'] == 6].groupby('KQXT')['DT'].agg(['count']).plot.pie(subplots = True, autopct = '%.2f%%')"
      ],
      "execution_count": 214,
      "outputs": [
        {
          "output_type": "execute_result",
          "data": {
            "text/plain": [
              "array([<matplotlib.axes._subplots.AxesSubplot object at 0x7f7eebf86f90>],\n",
              "      dtype=object)"
            ]
          },
          "metadata": {},
          "execution_count": 214
        },
        {
          "output_type": "display_data",
          "data": {
            "image/png": "[encoded data removed]",
            "text/plain": [
              "<Figure size 432x288 with 1 Axes>"
            ]
          },
          "metadata": {}
        }
      ]
    },
    {
      "cell_type": "markdown",
      "metadata": {
        "id": "IHI-qFUcuode"
      },
      "source": [
        "7. Trực quan dữ liệu số lượng thí sinh đậu rớt dựa trên từng nhóm giới tính"
      ]
    },
    {
      "cell_type": "code",
      "metadata": {
        "id": "SVfmFXIIurQJ",
        "outputId": "50601380-7a2d-45a7-cb12-3a78131493f6",
        "colab": {
          "base_uri": "https://localhost:8080/",
          "height": 298
        }
      },
      "source": [
        "dlxtdh.loc[dlxtdh['GT'] == 'M'].groupby('KQXT')['GT'].agg(['count']).plot.pie(subplots = True, autopct = '%.2f%%')"
      ],
      "execution_count": 215,
      "outputs": [
        {
          "output_type": "execute_result",
          "data": {
            "text/plain": [
              "array([<matplotlib.axes._subplots.AxesSubplot object at 0x7f7eebef1b90>],\n",
              "      dtype=object)"
            ]
          },
          "metadata": {},
          "execution_count": 215
        },
        {
          "output_type": "display_data",
          "data": {
            "image/png": "[encoded data removed]",
            "text/plain": [
              "<Figure size 432x288 with 1 Axes>"
            ]
          },
          "metadata": {}
        }
      ]
    },
    {
      "cell_type": "code",
      "metadata": {
        "id": "Mj0NGxK7uwkW",
        "outputId": "63b394f1-eb1c-4aae-9c27-389bc01dbd6c",
        "colab": {
          "base_uri": "https://localhost:8080/",
          "height": 298
        }
      },
      "source": [
        "dlxtdh.loc[dlxtdh['GT'] == 'F'].groupby('KQXT')['GT'].agg(['count']).plot.pie(subplots = True, autopct = '%.2f%%')"
      ],
      "execution_count": 279,
      "outputs": [
        {
          "output_type": "execute_result",
          "data": {
            "text/plain": [
              "array([<matplotlib.axes._subplots.AxesSubplot object at 0x7f7eeb735c10>],\n",
              "      dtype=object)"
            ]
          },
          "metadata": {},
          "execution_count": 279
        },
        {
          "output_type": "display_data",
          "data": {
            "image/png": "[encoded data removed]",
            "text/plain": [
              "<Figure size 432x288 with 1 Axes>"
            ]
          },
          "metadata": {}
        }
      ]
    },
    {
      "cell_type": "markdown",
      "metadata": {
        "id": "jbUjQ117vENY"
      },
      "source": [
        "Phần 4: Trực quan hóa dữ liệu nâng cao\n"
      ]
    },
    {
      "cell_type": "markdown",
      "metadata": {
        "id": "h5eY3oPCvGSh"
      },
      "source": [
        "1. Vẽ biểu đồ đường Simple cho biến T1"
      ]
    },
    {
      "cell_type": "code",
      "metadata": {
        "id": "Dq8u_ORPvH57",
        "outputId": "fab01e00-ad27-4b12-d42c-b543684065d6",
        "colab": {
          "base_uri": "https://localhost:8080/",
          "height": 313
        }
      },
      "source": [
        "dlxtdh.groupby('T1')['T1'].agg('count').plot.line()"
      ],
      "execution_count": 218,
      "outputs": [
        {
          "output_type": "execute_result",
          "data": {
            "text/plain": [
              "<matplotlib.axes._subplots.AxesSubplot at 0x7f7eebe062d0>"
            ]
          },
          "metadata": {},
          "execution_count": 218
        },
        {
          "output_type": "display_data",
          "data": {
            "image/png": "[encoded data removed]",
            "text/plain": [
              "<Figure size 432x288 with 1 Axes>"
            ]
          },
          "metadata": {
            "needs_background": "light"
          }
        }
      ]
    },
    {
      "cell_type": "markdown",
      "metadata": {
        "id": "ICpDKcr91Gof"
      },
      "source": [
        "1. Hãy tạo biến phân loại (phanlopt1) cho môn toán (T1) như sau:\n",
        "\n",
        "a. Từ 0 đến dưới 5 = kém (ký hiệu \"kem\")\n",
        "\n",
        "b. Từ 5 đến dưới 7 = trung bình (ký hiệu \"tb\")\n",
        "\n",
        "c. Từ 7 đến dưới 8 = khá (ký hiệu \"kha\")\n",
        "\n",
        "d. Từ 8 trở lên = giỏi (ký hiệu \"gioi\")"
      ]
    },
    {
      "cell_type": "code",
      "metadata": {
        "id": "QobgzrMJ1FnC",
        "outputId": "bee291a7-811f-4acb-aad2-b38588984d45",
        "colab": {
          "base_uri": "https://localhost:8080/",
          "height": 455
        }
      },
      "source": [
        "dlxtdh.loc[dlxtdh['T1'] < 5, 'phanlop1'] = 'kem'\n",
        "dlxtdh.loc[(dlxtdh['T1'] >= 5) & (dlxtdh['T1'] < 7), 'phanlop1'] = 'tb'\n",
        "dlxtdh.loc[(dlxtdh['T1'] >= 7) & (dlxtdh['T1'] < 8), 'phanlop1'] = 'kha'\n",
        "dlxtdh.loc[dlxtdh['T1'] >= 8, 'phanlop1'] = 'gioi'\n",
        "dlxtdh"
      ],
      "execution_count": 228,
      "outputs": [
        {
          "output_type": "execute_result",
          "data": {
            "text/html": [
              "<div>\n",
              "<style scoped>\n",
              "    .dataframe tbody tr th:only-of-type {\n",
              "        vertical-align: middle;\n",
              "    }\n",
              "\n",
              "    .dataframe tbody tr th {\n",
              "        vertical-align: top;\n",
              "    }\n",
              "\n",
              "    .dataframe thead th {\n",
              "        text-align: right;\n",
              "    }\n",
              "</style>\n",
              "<table border=\"1\" class=\"dataframe\">\n",
              "  <thead>\n",
              "    <tr style=\"text-align: right;\">\n",
              "      <th></th>\n",
              "      <th>Unnamed: 0</th>\n",
              "      <th>STT</th>\n",
              "      <th>T1</th>\n",
              "      <th>L1</th>\n",
              "      <th>H1</th>\n",
              "      <th>S1</th>\n",
              "      <th>V1</th>\n",
              "      <th>X1</th>\n",
              "      <th>D1</th>\n",
              "      <th>N1</th>\n",
              "      <th>T2</th>\n",
              "      <th>L2</th>\n",
              "      <th>H2</th>\n",
              "      <th>S2</th>\n",
              "      <th>V2</th>\n",
              "      <th>X2</th>\n",
              "      <th>D2</th>\n",
              "      <th>N2</th>\n",
              "      <th>T3</th>\n",
              "      <th>L3</th>\n",
              "      <th>H3</th>\n",
              "      <th>S3</th>\n",
              "      <th>V3</th>\n",
              "      <th>X3</th>\n",
              "      <th>D3</th>\n",
              "      <th>N3</th>\n",
              "      <th>T4</th>\n",
              "      <th>L4</th>\n",
              "      <th>H4</th>\n",
              "      <th>S4</th>\n",
              "      <th>V4</th>\n",
              "      <th>X4</th>\n",
              "      <th>D4</th>\n",
              "      <th>N4</th>\n",
              "      <th>T5</th>\n",
              "      <th>L5</th>\n",
              "      <th>H5</th>\n",
              "      <th>S5</th>\n",
              "      <th>V5</th>\n",
              "      <th>X5</th>\n",
              "      <th>D5</th>\n",
              "      <th>N5</th>\n",
              "      <th>T6</th>\n",
              "      <th>L6</th>\n",
              "      <th>H6</th>\n",
              "      <th>S6</th>\n",
              "      <th>V6</th>\n",
              "      <th>X6</th>\n",
              "      <th>D6</th>\n",
              "      <th>N6</th>\n",
              "      <th>GT</th>\n",
              "      <th>DT</th>\n",
              "      <th>KV</th>\n",
              "      <th>DH1</th>\n",
              "      <th>DH2</th>\n",
              "      <th>DH3</th>\n",
              "      <th>KT</th>\n",
              "      <th>TBM1</th>\n",
              "      <th>TBM2</th>\n",
              "      <th>TBM3</th>\n",
              "      <th>XL1</th>\n",
              "      <th>XL2</th>\n",
              "      <th>XL3</th>\n",
              "      <th>US_TBM1</th>\n",
              "      <th>US_TBM2</th>\n",
              "      <th>US_TBM3</th>\n",
              "      <th>KQXT</th>\n",
              "      <th>phanlop1</th>\n",
              "    </tr>\n",
              "  </thead>\n",
              "  <tbody>\n",
              "    <tr>\n",
              "      <th>0</th>\n",
              "      <td>0</td>\n",
              "      <td>1</td>\n",
              "      <td>7.2</td>\n",
              "      <td>7.3</td>\n",
              "      <td>6.3</td>\n",
              "      <td>7.3</td>\n",
              "      <td>7.0</td>\n",
              "      <td>7.9</td>\n",
              "      <td>7.3</td>\n",
              "      <td>5.5</td>\n",
              "      <td>8.4</td>\n",
              "      <td>8.9</td>\n",
              "      <td>5.8</td>\n",
              "      <td>9.0</td>\n",
              "      <td>6.6</td>\n",
              "      <td>8.7</td>\n",
              "      <td>7.2</td>\n",
              "      <td>5.8</td>\n",
              "      <td>7.4</td>\n",
              "      <td>7.4</td>\n",
              "      <td>5.2</td>\n",
              "      <td>6.6</td>\n",
              "      <td>6.9</td>\n",
              "      <td>8.9</td>\n",
              "      <td>8.1</td>\n",
              "      <td>5.8</td>\n",
              "      <td>7.2</td>\n",
              "      <td>7.1</td>\n",
              "      <td>5.9</td>\n",
              "      <td>7.2</td>\n",
              "      <td>6.6</td>\n",
              "      <td>5.8</td>\n",
              "      <td>8.1</td>\n",
              "      <td>5.9</td>\n",
              "      <td>7.4</td>\n",
              "      <td>5.6</td>\n",
              "      <td>6.1</td>\n",
              "      <td>5.7</td>\n",
              "      <td>7.9</td>\n",
              "      <td>5.0</td>\n",
              "      <td>7.4</td>\n",
              "      <td>5.0</td>\n",
              "      <td>6.9</td>\n",
              "      <td>5.7</td>\n",
              "      <td>6.5</td>\n",
              "      <td>7.2</td>\n",
              "      <td>8.4</td>\n",
              "      <td>6.6</td>\n",
              "      <td>7.6</td>\n",
              "      <td>5.9</td>\n",
              "      <td>F</td>\n",
              "      <td>0.0</td>\n",
              "      <td>2NT</td>\n",
              "      <td>3.25</td>\n",
              "      <td>3.25</td>\n",
              "      <td>4.50</td>\n",
              "      <td>A1</td>\n",
              "      <td>7.00</td>\n",
              "      <td>7.54</td>\n",
              "      <td>7.01</td>\n",
              "      <td>K</td>\n",
              "      <td>K</td>\n",
              "      <td>K</td>\n",
              "      <td>2.800</td>\n",
              "      <td>3.016</td>\n",
              "      <td>2.804</td>\n",
              "      <td>0.0</td>\n",
              "      <td>kha</td>\n",
              "    </tr>\n",
              "    <tr>\n",
              "      <th>1</th>\n",
              "      <td>1</td>\n",
              "      <td>2</td>\n",
              "      <td>5.4</td>\n",
              "      <td>3.9</td>\n",
              "      <td>3.9</td>\n",
              "      <td>4.0</td>\n",
              "      <td>5.4</td>\n",
              "      <td>5.4</td>\n",
              "      <td>5.3</td>\n",
              "      <td>2.8</td>\n",
              "      <td>6.3</td>\n",
              "      <td>5.4</td>\n",
              "      <td>3.2</td>\n",
              "      <td>7.2</td>\n",
              "      <td>5.4</td>\n",
              "      <td>6.1</td>\n",
              "      <td>4.7</td>\n",
              "      <td>4.7</td>\n",
              "      <td>4.3</td>\n",
              "      <td>3.8</td>\n",
              "      <td>3.7</td>\n",
              "      <td>3.7</td>\n",
              "      <td>5.2</td>\n",
              "      <td>6.6</td>\n",
              "      <td>5.8</td>\n",
              "      <td>4.4</td>\n",
              "      <td>4.9</td>\n",
              "      <td>2.8</td>\n",
              "      <td>5.1</td>\n",
              "      <td>4.5</td>\n",
              "      <td>5.6</td>\n",
              "      <td>7.0</td>\n",
              "      <td>7.6</td>\n",
              "      <td>4.7</td>\n",
              "      <td>3.0</td>\n",
              "      <td>4.6</td>\n",
              "      <td>4.4</td>\n",
              "      <td>4.9</td>\n",
              "      <td>4.3</td>\n",
              "      <td>6.3</td>\n",
              "      <td>6.7</td>\n",
              "      <td>4.4</td>\n",
              "      <td>4.0</td>\n",
              "      <td>5.4</td>\n",
              "      <td>4.0</td>\n",
              "      <td>5.2</td>\n",
              "      <td>5.5</td>\n",
              "      <td>6.6</td>\n",
              "      <td>6.1</td>\n",
              "      <td>4.4</td>\n",
              "      <td>M</td>\n",
              "      <td>0.0</td>\n",
              "      <td>1</td>\n",
              "      <td>6.00</td>\n",
              "      <td>4.00</td>\n",
              "      <td>3.50</td>\n",
              "      <td>C</td>\n",
              "      <td>4.69</td>\n",
              "      <td>5.47</td>\n",
              "      <td>5.07</td>\n",
              "      <td>Y</td>\n",
              "      <td>TB</td>\n",
              "      <td>TB</td>\n",
              "      <td>1.876</td>\n",
              "      <td>2.188</td>\n",
              "      <td>2.028</td>\n",
              "      <td>0.0</td>\n",
              "      <td>tb</td>\n",
              "    </tr>\n",
              "    <tr>\n",
              "      <th>2</th>\n",
              "      <td>2</td>\n",
              "      <td>3</td>\n",
              "      <td>5.6</td>\n",
              "      <td>6.8</td>\n",
              "      <td>7.2</td>\n",
              "      <td>7.5</td>\n",
              "      <td>4.3</td>\n",
              "      <td>7.4</td>\n",
              "      <td>5.8</td>\n",
              "      <td>3.2</td>\n",
              "      <td>5.0</td>\n",
              "      <td>4.9</td>\n",
              "      <td>6.2</td>\n",
              "      <td>6.1</td>\n",
              "      <td>5.3</td>\n",
              "      <td>7.1</td>\n",
              "      <td>4.0</td>\n",
              "      <td>4.9</td>\n",
              "      <td>2.8</td>\n",
              "      <td>6.3</td>\n",
              "      <td>6.2</td>\n",
              "      <td>5.6</td>\n",
              "      <td>2.5</td>\n",
              "      <td>5.8</td>\n",
              "      <td>5.1</td>\n",
              "      <td>3.7</td>\n",
              "      <td>6.1</td>\n",
              "      <td>6.1</td>\n",
              "      <td>5.8</td>\n",
              "      <td>6.8</td>\n",
              "      <td>4.0</td>\n",
              "      <td>6.4</td>\n",
              "      <td>5.3</td>\n",
              "      <td>4.1</td>\n",
              "      <td>4.8</td>\n",
              "      <td>5.1</td>\n",
              "      <td>6.4</td>\n",
              "      <td>5.1</td>\n",
              "      <td>4.0</td>\n",
              "      <td>6.9</td>\n",
              "      <td>3.9</td>\n",
              "      <td>3.2</td>\n",
              "      <td>5.7</td>\n",
              "      <td>6.6</td>\n",
              "      <td>6.8</td>\n",
              "      <td>6.8</td>\n",
              "      <td>4.1</td>\n",
              "      <td>7.9</td>\n",
              "      <td>8.1</td>\n",
              "      <td>4.6</td>\n",
              "      <td>M</td>\n",
              "      <td>0.0</td>\n",
              "      <td>1</td>\n",
              "      <td>5.00</td>\n",
              "      <td>6.75</td>\n",
              "      <td>4.00</td>\n",
              "      <td>C</td>\n",
              "      <td>5.77</td>\n",
              "      <td>5.38</td>\n",
              "      <td>6.04</td>\n",
              "      <td>TB</td>\n",
              "      <td>TB</td>\n",
              "      <td>TB</td>\n",
              "      <td>2.308</td>\n",
              "      <td>2.152</td>\n",
              "      <td>2.416</td>\n",
              "      <td>1.0</td>\n",
              "      <td>tb</td>\n",
              "    </tr>\n",
              "    <tr>\n",
              "      <th>3</th>\n",
              "      <td>3</td>\n",
              "      <td>4</td>\n",
              "      <td>6.6</td>\n",
              "      <td>6.4</td>\n",
              "      <td>5.3</td>\n",
              "      <td>6.9</td>\n",
              "      <td>5.4</td>\n",
              "      <td>7.3</td>\n",
              "      <td>6.4</td>\n",
              "      <td>5.8</td>\n",
              "      <td>5.1</td>\n",
              "      <td>6.2</td>\n",
              "      <td>5.5</td>\n",
              "      <td>5.5</td>\n",
              "      <td>4.4</td>\n",
              "      <td>6.5</td>\n",
              "      <td>4.9</td>\n",
              "      <td>4.4</td>\n",
              "      <td>5.9</td>\n",
              "      <td>7.3</td>\n",
              "      <td>5.9</td>\n",
              "      <td>4.9</td>\n",
              "      <td>5.7</td>\n",
              "      <td>6.8</td>\n",
              "      <td>6.8</td>\n",
              "      <td>5.4</td>\n",
              "      <td>4.1</td>\n",
              "      <td>4.4</td>\n",
              "      <td>4.1</td>\n",
              "      <td>7.3</td>\n",
              "      <td>5.3</td>\n",
              "      <td>7.1</td>\n",
              "      <td>7.3</td>\n",
              "      <td>5.6</td>\n",
              "      <td>6.1</td>\n",
              "      <td>4.9</td>\n",
              "      <td>5.3</td>\n",
              "      <td>4.0</td>\n",
              "      <td>6.2</td>\n",
              "      <td>5.5</td>\n",
              "      <td>5.9</td>\n",
              "      <td>6.5</td>\n",
              "      <td>7.4</td>\n",
              "      <td>5.6</td>\n",
              "      <td>6.6</td>\n",
              "      <td>6.8</td>\n",
              "      <td>6.6</td>\n",
              "      <td>7.1</td>\n",
              "      <td>7.3</td>\n",
              "      <td>7.4</td>\n",
              "      <td>M</td>\n",
              "      <td>0.0</td>\n",
              "      <td>1</td>\n",
              "      <td>4.25</td>\n",
              "      <td>4.25</td>\n",
              "      <td>5.25</td>\n",
              "      <td>D1</td>\n",
              "      <td>6.21</td>\n",
              "      <td>5.20</td>\n",
              "      <td>6.88</td>\n",
              "      <td>TB</td>\n",
              "      <td>TB</td>\n",
              "      <td>K</td>\n",
              "      <td>2.484</td>\n",
              "      <td>2.080</td>\n",
              "      <td>2.752</td>\n",
              "      <td>0.0</td>\n",
              "      <td>tb</td>\n",
              "    </tr>\n",
              "    <tr>\n",
              "      <th>4</th>\n",
              "      <td>4</td>\n",
              "      <td>5</td>\n",
              "      <td>6.0</td>\n",
              "      <td>5.0</td>\n",
              "      <td>6.0</td>\n",
              "      <td>7.3</td>\n",
              "      <td>6.5</td>\n",
              "      <td>7.7</td>\n",
              "      <td>7.9</td>\n",
              "      <td>6.1</td>\n",
              "      <td>5.4</td>\n",
              "      <td>5.5</td>\n",
              "      <td>5.9</td>\n",
              "      <td>7.5</td>\n",
              "      <td>6.5</td>\n",
              "      <td>6.9</td>\n",
              "      <td>7.6</td>\n",
              "      <td>6.4</td>\n",
              "      <td>7.6</td>\n",
              "      <td>7.6</td>\n",
              "      <td>6.7</td>\n",
              "      <td>6.6</td>\n",
              "      <td>5.7</td>\n",
              "      <td>7.9</td>\n",
              "      <td>7.4</td>\n",
              "      <td>7.3</td>\n",
              "      <td>4.4</td>\n",
              "      <td>6.5</td>\n",
              "      <td>5.6</td>\n",
              "      <td>8.3</td>\n",
              "      <td>6.2</td>\n",
              "      <td>4.9</td>\n",
              "      <td>8.6</td>\n",
              "      <td>7.7</td>\n",
              "      <td>6.8</td>\n",
              "      <td>5.4</td>\n",
              "      <td>4.7</td>\n",
              "      <td>5.0</td>\n",
              "      <td>5.1</td>\n",
              "      <td>7.0</td>\n",
              "      <td>7.0</td>\n",
              "      <td>6.3</td>\n",
              "      <td>8.0</td>\n",
              "      <td>6.2</td>\n",
              "      <td>6.8</td>\n",
              "      <td>6.9</td>\n",
              "      <td>6.6</td>\n",
              "      <td>6.1</td>\n",
              "      <td>7.5</td>\n",
              "      <td>7.2</td>\n",
              "      <td>M</td>\n",
              "      <td>0.0</td>\n",
              "      <td>2NT</td>\n",
              "      <td>4.25</td>\n",
              "      <td>4.50</td>\n",
              "      <td>5.00</td>\n",
              "      <td>A</td>\n",
              "      <td>6.50</td>\n",
              "      <td>6.36</td>\n",
              "      <td>6.99</td>\n",
              "      <td>K</td>\n",
              "      <td>TB</td>\n",
              "      <td>K</td>\n",
              "      <td>2.600</td>\n",
              "      <td>2.544</td>\n",
              "      <td>2.796</td>\n",
              "      <td>0.0</td>\n",
              "      <td>tb</td>\n",
              "    </tr>\n",
              "    <tr>\n",
              "      <th>...</th>\n",
              "      <td>...</td>\n",
              "      <td>...</td>\n",
              "      <td>...</td>\n",
              "      <td>...</td>\n",
              "      <td>...</td>\n",
              "      <td>...</td>\n",
              "      <td>...</td>\n",
              "      <td>...</td>\n",
              "      <td>...</td>\n",
              "      <td>...</td>\n",
              "      <td>...</td>\n",
              "      <td>...</td>\n",
              "      <td>...</td>\n",
              "      <td>...</td>\n",
              "      <td>...</td>\n",
              "      <td>...</td>\n",
              "      <td>...</td>\n",
              "      <td>...</td>\n",
              "      <td>...</td>\n",
              "      <td>...</td>\n",
              "      <td>...</td>\n",
              "      <td>...</td>\n",
              "      <td>...</td>\n",
              "      <td>...</td>\n",
              "      <td>...</td>\n",
              "      <td>...</td>\n",
              "      <td>...</td>\n",
              "      <td>...</td>\n",
              "      <td>...</td>\n",
              "      <td>...</td>\n",
              "      <td>...</td>\n",
              "      <td>...</td>\n",
              "      <td>...</td>\n",
              "      <td>...</td>\n",
              "      <td>...</td>\n",
              "      <td>...</td>\n",
              "      <td>...</td>\n",
              "      <td>...</td>\n",
              "      <td>...</td>\n",
              "      <td>...</td>\n",
              "      <td>...</td>\n",
              "      <td>...</td>\n",
              "      <td>...</td>\n",
              "      <td>...</td>\n",
              "      <td>...</td>\n",
              "      <td>...</td>\n",
              "      <td>...</td>\n",
              "      <td>...</td>\n",
              "      <td>...</td>\n",
              "      <td>...</td>\n",
              "      <td>...</td>\n",
              "      <td>...</td>\n",
              "      <td>...</td>\n",
              "      <td>...</td>\n",
              "      <td>...</td>\n",
              "      <td>...</td>\n",
              "      <td>...</td>\n",
              "      <td>...</td>\n",
              "      <td>...</td>\n",
              "      <td>...</td>\n",
              "      <td>...</td>\n",
              "      <td>...</td>\n",
              "      <td>...</td>\n",
              "      <td>...</td>\n",
              "      <td>...</td>\n",
              "      <td>...</td>\n",
              "      <td>...</td>\n",
              "      <td>...</td>\n",
              "    </tr>\n",
              "    <tr>\n",
              "      <th>95</th>\n",
              "      <td>95</td>\n",
              "      <td>96</td>\n",
              "      <td>8.6</td>\n",
              "      <td>6.9</td>\n",
              "      <td>7.4</td>\n",
              "      <td>8.8</td>\n",
              "      <td>7.6</td>\n",
              "      <td>5.8</td>\n",
              "      <td>7.3</td>\n",
              "      <td>5.7</td>\n",
              "      <td>8.9</td>\n",
              "      <td>6.8</td>\n",
              "      <td>6.5</td>\n",
              "      <td>7.3</td>\n",
              "      <td>7.0</td>\n",
              "      <td>7.3</td>\n",
              "      <td>6.9</td>\n",
              "      <td>7.6</td>\n",
              "      <td>7.7</td>\n",
              "      <td>5.6</td>\n",
              "      <td>5.9</td>\n",
              "      <td>7.7</td>\n",
              "      <td>6.8</td>\n",
              "      <td>8.1</td>\n",
              "      <td>6.6</td>\n",
              "      <td>7.5</td>\n",
              "      <td>6.7</td>\n",
              "      <td>6.8</td>\n",
              "      <td>6.0</td>\n",
              "      <td>8.3</td>\n",
              "      <td>7.5</td>\n",
              "      <td>7.1</td>\n",
              "      <td>6.8</td>\n",
              "      <td>7.8</td>\n",
              "      <td>7.9</td>\n",
              "      <td>6.7</td>\n",
              "      <td>7.2</td>\n",
              "      <td>6.1</td>\n",
              "      <td>7.2</td>\n",
              "      <td>5.3</td>\n",
              "      <td>5.2</td>\n",
              "      <td>5.2</td>\n",
              "      <td>6.6</td>\n",
              "      <td>6.9</td>\n",
              "      <td>7.4</td>\n",
              "      <td>7.0</td>\n",
              "      <td>7.6</td>\n",
              "      <td>6.3</td>\n",
              "      <td>6.1</td>\n",
              "      <td>6.2</td>\n",
              "      <td>F</td>\n",
              "      <td>0.0</td>\n",
              "      <td>1</td>\n",
              "      <td>5.25</td>\n",
              "      <td>1.50</td>\n",
              "      <td>6.25</td>\n",
              "      <td>C</td>\n",
              "      <td>7.43</td>\n",
              "      <td>7.42</td>\n",
              "      <td>6.83</td>\n",
              "      <td>K</td>\n",
              "      <td>K</td>\n",
              "      <td>K</td>\n",
              "      <td>2.972</td>\n",
              "      <td>2.968</td>\n",
              "      <td>2.732</td>\n",
              "      <td>0.0</td>\n",
              "      <td>gioi</td>\n",
              "    </tr>\n",
              "    <tr>\n",
              "      <th>96</th>\n",
              "      <td>96</td>\n",
              "      <td>97</td>\n",
              "      <td>3.7</td>\n",
              "      <td>5.4</td>\n",
              "      <td>6.0</td>\n",
              "      <td>5.1</td>\n",
              "      <td>5.5</td>\n",
              "      <td>3.9</td>\n",
              "      <td>6.1</td>\n",
              "      <td>4.4</td>\n",
              "      <td>4.1</td>\n",
              "      <td>4.8</td>\n",
              "      <td>5.1</td>\n",
              "      <td>4.7</td>\n",
              "      <td>5.9</td>\n",
              "      <td>6.9</td>\n",
              "      <td>4.6</td>\n",
              "      <td>5.4</td>\n",
              "      <td>3.1</td>\n",
              "      <td>3.1</td>\n",
              "      <td>5.3</td>\n",
              "      <td>5.8</td>\n",
              "      <td>5.6</td>\n",
              "      <td>5.4</td>\n",
              "      <td>6.6</td>\n",
              "      <td>4.2</td>\n",
              "      <td>3.4</td>\n",
              "      <td>4.9</td>\n",
              "      <td>5.9</td>\n",
              "      <td>6.9</td>\n",
              "      <td>5.6</td>\n",
              "      <td>6.4</td>\n",
              "      <td>5.7</td>\n",
              "      <td>4.3</td>\n",
              "      <td>5.5</td>\n",
              "      <td>4.7</td>\n",
              "      <td>4.6</td>\n",
              "      <td>3.4</td>\n",
              "      <td>6.9</td>\n",
              "      <td>7.6</td>\n",
              "      <td>7.4</td>\n",
              "      <td>4.9</td>\n",
              "      <td>5.7</td>\n",
              "      <td>7.7</td>\n",
              "      <td>5.0</td>\n",
              "      <td>7.0</td>\n",
              "      <td>6.5</td>\n",
              "      <td>7.9</td>\n",
              "      <td>7.5</td>\n",
              "      <td>4.4</td>\n",
              "      <td>F</td>\n",
              "      <td>0.0</td>\n",
              "      <td>1</td>\n",
              "      <td>5.25</td>\n",
              "      <td>3.75</td>\n",
              "      <td>4.75</td>\n",
              "      <td>C</td>\n",
              "      <td>4.93</td>\n",
              "      <td>5.15</td>\n",
              "      <td>6.39</td>\n",
              "      <td>Y</td>\n",
              "      <td>TB</td>\n",
              "      <td>TB</td>\n",
              "      <td>1.972</td>\n",
              "      <td>2.060</td>\n",
              "      <td>2.556</td>\n",
              "      <td>0.0</td>\n",
              "      <td>kem</td>\n",
              "    </tr>\n",
              "    <tr>\n",
              "      <th>97</th>\n",
              "      <td>97</td>\n",
              "      <td>98</td>\n",
              "      <td>8.8</td>\n",
              "      <td>5.5</td>\n",
              "      <td>7.4</td>\n",
              "      <td>7.7</td>\n",
              "      <td>6.2</td>\n",
              "      <td>7.3</td>\n",
              "      <td>8.1</td>\n",
              "      <td>4.5</td>\n",
              "      <td>9.5</td>\n",
              "      <td>7.3</td>\n",
              "      <td>6.0</td>\n",
              "      <td>8.4</td>\n",
              "      <td>7.0</td>\n",
              "      <td>8.4</td>\n",
              "      <td>8.8</td>\n",
              "      <td>6.5</td>\n",
              "      <td>9.5</td>\n",
              "      <td>6.6</td>\n",
              "      <td>6.4</td>\n",
              "      <td>7.6</td>\n",
              "      <td>7.0</td>\n",
              "      <td>9.6</td>\n",
              "      <td>9.3</td>\n",
              "      <td>6.7</td>\n",
              "      <td>8.5</td>\n",
              "      <td>6.9</td>\n",
              "      <td>5.8</td>\n",
              "      <td>8.4</td>\n",
              "      <td>8.0</td>\n",
              "      <td>8.9</td>\n",
              "      <td>9.6</td>\n",
              "      <td>7.1</td>\n",
              "      <td>9.0</td>\n",
              "      <td>7.1</td>\n",
              "      <td>6.7</td>\n",
              "      <td>5.7</td>\n",
              "      <td>6.9</td>\n",
              "      <td>8.6</td>\n",
              "      <td>8.6</td>\n",
              "      <td>5.9</td>\n",
              "      <td>8.5</td>\n",
              "      <td>7.1</td>\n",
              "      <td>6.2</td>\n",
              "      <td>8.6</td>\n",
              "      <td>7.0</td>\n",
              "      <td>9.6</td>\n",
              "      <td>8.4</td>\n",
              "      <td>5.8</td>\n",
              "      <td>M</td>\n",
              "      <td>0.0</td>\n",
              "      <td>2NT</td>\n",
              "      <td>7.00</td>\n",
              "      <td>8.00</td>\n",
              "      <td>4.00</td>\n",
              "      <td>C</td>\n",
              "      <td>7.05</td>\n",
              "      <td>7.84</td>\n",
              "      <td>7.67</td>\n",
              "      <td>K</td>\n",
              "      <td>K</td>\n",
              "      <td>K</td>\n",
              "      <td>2.820</td>\n",
              "      <td>3.136</td>\n",
              "      <td>3.068</td>\n",
              "      <td>1.0</td>\n",
              "      <td>gioi</td>\n",
              "    </tr>\n",
              "    <tr>\n",
              "      <th>98</th>\n",
              "      <td>98</td>\n",
              "      <td>99</td>\n",
              "      <td>2.7</td>\n",
              "      <td>1.8</td>\n",
              "      <td>3.4</td>\n",
              "      <td>5.3</td>\n",
              "      <td>4.5</td>\n",
              "      <td>7.9</td>\n",
              "      <td>4.9</td>\n",
              "      <td>3.8</td>\n",
              "      <td>2.8</td>\n",
              "      <td>5.7</td>\n",
              "      <td>5.1</td>\n",
              "      <td>5.0</td>\n",
              "      <td>5.5</td>\n",
              "      <td>6.6</td>\n",
              "      <td>3.9</td>\n",
              "      <td>4.3</td>\n",
              "      <td>6.2</td>\n",
              "      <td>6.9</td>\n",
              "      <td>7.6</td>\n",
              "      <td>6.3</td>\n",
              "      <td>4.7</td>\n",
              "      <td>7.4</td>\n",
              "      <td>5.9</td>\n",
              "      <td>5.7</td>\n",
              "      <td>5.2</td>\n",
              "      <td>5.1</td>\n",
              "      <td>6.8</td>\n",
              "      <td>5.6</td>\n",
              "      <td>3.8</td>\n",
              "      <td>5.9</td>\n",
              "      <td>6.7</td>\n",
              "      <td>4.4</td>\n",
              "      <td>4.1</td>\n",
              "      <td>5.3</td>\n",
              "      <td>5.7</td>\n",
              "      <td>4.6</td>\n",
              "      <td>5.0</td>\n",
              "      <td>5.9</td>\n",
              "      <td>5.3</td>\n",
              "      <td>4.5</td>\n",
              "      <td>4.3</td>\n",
              "      <td>5.6</td>\n",
              "      <td>6.3</td>\n",
              "      <td>4.7</td>\n",
              "      <td>5.0</td>\n",
              "      <td>6.6</td>\n",
              "      <td>5.2</td>\n",
              "      <td>5.9</td>\n",
              "      <td>M</td>\n",
              "      <td>0.0</td>\n",
              "      <td>1</td>\n",
              "      <td>5.00</td>\n",
              "      <td>3.50</td>\n",
              "      <td>5.50</td>\n",
              "      <td>C</td>\n",
              "      <td>4.15</td>\n",
              "      <td>4.72</td>\n",
              "      <td>5.29</td>\n",
              "      <td>Y</td>\n",
              "      <td>Y</td>\n",
              "      <td>TB</td>\n",
              "      <td>1.660</td>\n",
              "      <td>1.888</td>\n",
              "      <td>2.116</td>\n",
              "      <td>0.0</td>\n",
              "      <td>kem</td>\n",
              "    </tr>\n",
              "    <tr>\n",
              "      <th>99</th>\n",
              "      <td>99</td>\n",
              "      <td>100</td>\n",
              "      <td>4.1</td>\n",
              "      <td>5.2</td>\n",
              "      <td>4.9</td>\n",
              "      <td>5.3</td>\n",
              "      <td>5.5</td>\n",
              "      <td>5.4</td>\n",
              "      <td>7.2</td>\n",
              "      <td>5.4</td>\n",
              "      <td>4.4</td>\n",
              "      <td>6.4</td>\n",
              "      <td>4.8</td>\n",
              "      <td>7.2</td>\n",
              "      <td>6.0</td>\n",
              "      <td>6.3</td>\n",
              "      <td>6.8</td>\n",
              "      <td>4.9</td>\n",
              "      <td>6.0</td>\n",
              "      <td>4.9</td>\n",
              "      <td>4.2</td>\n",
              "      <td>6.4</td>\n",
              "      <td>5.7</td>\n",
              "      <td>6.8</td>\n",
              "      <td>7.1</td>\n",
              "      <td>6.2</td>\n",
              "      <td>4.3</td>\n",
              "      <td>4.9</td>\n",
              "      <td>5.3</td>\n",
              "      <td>6.5</td>\n",
              "      <td>5.7</td>\n",
              "      <td>6.8</td>\n",
              "      <td>7.4</td>\n",
              "      <td>5.8</td>\n",
              "      <td>5.6</td>\n",
              "      <td>6.2</td>\n",
              "      <td>6.0</td>\n",
              "      <td>4.7</td>\n",
              "      <td>5.7</td>\n",
              "      <td>7.9</td>\n",
              "      <td>6.9</td>\n",
              "      <td>4.7</td>\n",
              "      <td>5.1</td>\n",
              "      <td>6.4</td>\n",
              "      <td>5.9</td>\n",
              "      <td>5.4</td>\n",
              "      <td>6.3</td>\n",
              "      <td>5.6</td>\n",
              "      <td>6.6</td>\n",
              "      <td>5.8</td>\n",
              "      <td>M</td>\n",
              "      <td>0.0</td>\n",
              "      <td>2NT</td>\n",
              "      <td>5.25</td>\n",
              "      <td>2.50</td>\n",
              "      <td>4.25</td>\n",
              "      <td>C</td>\n",
              "      <td>5.26</td>\n",
              "      <td>5.72</td>\n",
              "      <td>5.85</td>\n",
              "      <td>TB</td>\n",
              "      <td>TB</td>\n",
              "      <td>TB</td>\n",
              "      <td>2.104</td>\n",
              "      <td>2.288</td>\n",
              "      <td>2.340</td>\n",
              "      <td>0.0</td>\n",
              "      <td>kem</td>\n",
              "    </tr>\n",
              "  </tbody>\n",
              "</table>\n",
              "<p>100 rows × 68 columns</p>\n",
              "</div>"
            ],
            "text/plain": [
              "    Unnamed: 0  STT   T1   L1   H1  ...  US_TBM1  US_TBM2  US_TBM3  KQXT  phanlop1\n",
              "0            0    1  7.2  7.3  6.3  ...    2.800    3.016    2.804   0.0       kha\n",
              "1            1    2  5.4  3.9  3.9  ...    1.876    2.188    2.028   0.0        tb\n",
              "2            2    3  5.6  6.8  7.2  ...    2.308    2.152    2.416   1.0        tb\n",
              "3            3    4  6.6  6.4  5.3  ...    2.484    2.080    2.752   0.0        tb\n",
              "4            4    5  6.0  5.0  6.0  ...    2.600    2.544    2.796   0.0        tb\n",
              "..         ...  ...  ...  ...  ...  ...      ...      ...      ...   ...       ...\n",
              "95          95   96  8.6  6.9  7.4  ...    2.972    2.968    2.732   0.0      gioi\n",
              "96          96   97  3.7  5.4  6.0  ...    1.972    2.060    2.556   0.0       kem\n",
              "97          97   98  8.8  5.5  7.4  ...    2.820    3.136    3.068   1.0      gioi\n",
              "98          98   99  2.7  1.8  3.4  ...    1.660    1.888    2.116   0.0       kem\n",
              "99          99  100  4.1  5.2  4.9  ...    2.104    2.288    2.340   0.0       kem\n",
              "\n",
              "[100 rows x 68 columns]"
            ]
          },
          "metadata": {},
          "execution_count": 228
        }
      ]
    },
    {
      "cell_type": "markdown",
      "metadata": {
        "id": "QDcp5yE43V4Y"
      },
      "source": [
        "1. Lập bảng tần số cho biến phanloait1\n"
      ]
    },
    {
      "cell_type": "code",
      "metadata": {
        "id": "tgA9Dxp53ZP9",
        "outputId": "e7518fe5-78fb-41d6-9dcf-8fbd47ff51e1",
        "colab": {
          "base_uri": "https://localhost:8080/",
          "height": 94
        }
      },
      "source": [
        "pd.pivot_table(dlxtdh.groupby('phanlop1')['phanlop1'].agg(['count']), columns = 'phanlop1')"
      ],
      "execution_count": 269,
      "outputs": [
        {
          "output_type": "execute_result",
          "data": {
            "text/html": [
              "<div>\n",
              "<style scoped>\n",
              "    .dataframe tbody tr th:only-of-type {\n",
              "        vertical-align: middle;\n",
              "    }\n",
              "\n",
              "    .dataframe tbody tr th {\n",
              "        vertical-align: top;\n",
              "    }\n",
              "\n",
              "    .dataframe thead th {\n",
              "        text-align: right;\n",
              "    }\n",
              "</style>\n",
              "<table border=\"1\" class=\"dataframe\">\n",
              "  <thead>\n",
              "    <tr style=\"text-align: right;\">\n",
              "      <th>phanlop1</th>\n",
              "      <th>gioi</th>\n",
              "      <th>kem</th>\n",
              "      <th>kha</th>\n",
              "      <th>tb</th>\n",
              "    </tr>\n",
              "  </thead>\n",
              "  <tbody>\n",
              "    <tr>\n",
              "      <th>count</th>\n",
              "      <td>12</td>\n",
              "      <td>23</td>\n",
              "      <td>19</td>\n",
              "      <td>46</td>\n",
              "    </tr>\n",
              "  </tbody>\n",
              "</table>\n",
              "</div>"
            ],
            "text/plain": [
              "phanlop1  gioi  kem  kha  tb\n",
              "count       12   23   19  46"
            ]
          },
          "metadata": {},
          "execution_count": 269
        }
      ]
    },
    {
      "cell_type": "markdown",
      "metadata": {
        "id": "KD7Lknpu5wkr"
      },
      "source": [
        "2. Vẽ biểu đồ đường Multiple Line cho biến T1 được phân loại bởi biến phanlopt1"
      ]
    },
    {
      "cell_type": "code",
      "metadata": {
        "id": "gnTaMpVO50n1",
        "outputId": "4a6aa026-a872-464e-e230-7f307abf9a70",
        "colab": {
          "base_uri": "https://localhost:8080/",
          "height": 313
        }
      },
      "source": [
        "gioi = dlxtdh['T1'].loc[dlxtdh['phanlop1'] == 'gioi']\n",
        "kha = dlxtdh['T1'].loc[dlxtdh['phanlop1'] == 'kha']\n",
        "tb = dlxtdh['T1'].loc[dlxtdh['phanlop1'] == 'tb']\n",
        "kem = dlxtdh['T1'].loc[dlxtdh['phanlop1'] == 'kem']\n",
        "dlxtdh.groupby(gioi)['phanlop1'].agg('count').plot(label = 'g')\n",
        "dlxtdh.groupby(kha)['phanlop1'].agg('count').plot(label = 'kh')\n",
        "dlxtdh.groupby(tb)['phanlop1'].agg('count').plot(label = 'tb')\n",
        "dlxtdh.groupby(kem)['phanlop1'].agg('count').plot(label = 'k')\n",
        "plt.legend()"
      ],
      "execution_count": 270,
      "outputs": [
        {
          "output_type": "execute_result",
          "data": {
            "text/plain": [
              "<matplotlib.legend.Legend at 0x7f7eeb1a6dd0>"
            ]
          },
          "metadata": {},
          "execution_count": 270
        },
        {
          "output_type": "display_data",
          "data": {
            "image/png": "[encoded data removed]",
            "text/plain": [
              "<Figure size 432x288 with 1 Axes>"
            ]
          },
          "metadata": {
            "needs_background": "light"
          }
        }
      ]
    }
  ]
}