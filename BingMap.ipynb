{
  "nbformat": 4,
  "nbformat_minor": 0,
  "metadata": {
    "colab": {
      "provenance": [],
      "authorship_tag": "ABX9TyMRMjpv+SbbsuUM0icXC49I",
      "include_colab_link": true
    },
    "kernelspec": {
      "name": "python3",
      "display_name": "Python 3"
    },
    "language_info": {
      "name": "python"
    }
  },
  "cells": [
    {
      "cell_type": "markdown",
      "metadata": {
        "id": "view-in-github",
        "colab_type": "text"
      },
      "source": [
        "<a href=\"https://colab.research.google.com/github/PhamBaVuong/DataAnalysisDeepLearning/blob/main/BingMap.ipynb\" target=\"_parent\"><img src=\"https://colab.research.google.com/assets/colab-badge.svg\" alt=\"Open In Colab\"/></a>"
      ]
    },
    {
      "cell_type": "code",
      "execution_count": 1,
      "metadata": {
        "colab": {
          "base_uri": "https://localhost:8080/"
        },
        "id": "gKwekY7SGVVl",
        "outputId": "2026bd1e-d09c-498c-950f-1c4f5e0bbf34"
      },
      "outputs": [
        {
          "output_type": "stream",
          "name": "stdout",
          "text": [
            "Looking in indexes: https://pypi.org/simple, https://us-python.pkg.dev/colab-wheels/public/simple/\n",
            "\u001b[31mERROR: Could not find a version that satisfies the requirement py-bing-maps (from versions: none)\u001b[0m\n",
            "\u001b[31mERROR: No matching distribution found for py-bing-maps\u001b[0m\n"
          ]
        }
      ],
      "source": [
        "pip install py-bing-maps"
      ]
    },
    {
      "cell_type": "code",
      "source": [
        "AiJdULAqyZupKB33Go1cksw8j63nLNIt9F0HJXDlZpyy0cbnsH7Yb7V1kNf5R23r"
      ],
      "metadata": {
        "id": "zFQFQ2S0Grxs"
      },
      "execution_count": null,
      "outputs": []
    },
    {
      "cell_type": "code",
      "source": [
        "import urllib.request\n",
        "import json\n",
        "\n",
        "# Your Bing Maps Key \n",
        "bingMapsKey = \"AiJdULAqyZupKB33Go1cksw8j63nLNIt9F0HJXDlZpyy0cbnsH7Yb7V1kNf5R23r\"\n",
        "\n",
        "# input information\n",
        "longitude = -122.019943\n",
        "latitude = 37.285989\n",
        "destination = \"1427 Alderbrook Ln San Jose CA 95129\"\n",
        "\n",
        "encodedDest = urllib.parse.quote(destination, safe='')\n",
        "\n",
        "routeUrl = \"http://dev.virtualearth.net/REST/V1/Routes/Driving?wp.0=\" + str(latitude) + \",\" + str(longitude) + \"&wp.1=\" + encodedDest + \"&key=\" + bingMapsKey\n",
        "\n",
        "request = urllib.request.Request(routeUrl)\n",
        "response = urllib.request.urlopen(request)\n",
        "\n",
        "r = response.read().decode(encoding=\"utf-8\")\n",
        "result = json.loads(r)\n",
        "\n",
        "itineraryItems = result[\"resourceSets\"][0][\"resources\"][0][\"routeLegs\"][0][\"itineraryItems\"]\n",
        "\n",
        "for item in itineraryItems:\n",
        "    print(item[\"instruction\"][\"text\"])"
      ],
      "metadata": {
        "colab": {
          "base_uri": "https://localhost:8080/"
        },
        "id": "ExlJxv_RKDup",
        "outputId": "c4307a8f-691e-4b74-a800-b89942a3e261"
      },
      "execution_count": 2,
      "outputs": [
        {
          "output_type": "stream",
          "name": "stdout",
          "text": [
            "Head northwest on Seagull Way toward Puente Ct\n",
            "Turn right onto De Sanka Ave\n",
            "Turn left onto Knollwood Dr, then immediately turn right onto Kirkbrook Dr\n",
            "Road name changes to Merida Dr\n",
            "Turn right onto Covina Ct, then immediately turn right onto Prospect Rd\n",
            "Turn left onto Miller Ave\n",
            "Turn left onto Wisteria Way\n",
            "Turn right onto Alderbrook Ln\n",
            "Arrive at 1427 Alderbrook Ln, San Jose, CA 95129\n"
          ]
        }
      ]
    },
    {
      "cell_type": "code",
      "source": [
        "subscription_key = \"AiJdULAqyZupKB33Go1cksw8j63nLNIt9F0HJXDlZpyy0cbnsH7Yb7V1kNf5R23r\"\n",
        "assert subscription_key"
      ],
      "metadata": {
        "id": "ul0KSE1XKR4N"
      },
      "execution_count": 3,
      "outputs": []
    },
    {
      "cell_type": "code",
      "source": [
        "search_url = \"https://api.bing.microsoft.com/v7.0/search\""
      ],
      "metadata": {
        "id": "1RzWlgBIKV3a"
      },
      "execution_count": 4,
      "outputs": []
    },
    {
      "cell_type": "code",
      "source": [
        "search_term = \"Azure Cognitive Services\""
      ],
      "metadata": {
        "id": "BTcDPqU5KW8Z"
      },
      "execution_count": 5,
      "outputs": []
    },
    {
      "cell_type": "code",
      "source": [
        "import requests\n",
        "\n",
        "headers = {\"Ocp-Apim-Subscription-Key\": subscription_key}\n",
        "params = {\"q\": search_term, \"textDecorations\": True, \"textFormat\": \"HTML\"}\n",
        "response = requests.get(search_url, headers=headers, params=params)\n",
        "response.raise_for_status()\n",
        "search_results = response.json()"
      ],
      "metadata": {
        "colab": {
          "base_uri": "https://localhost:8080/",
          "height": 339
        },
        "id": "O_kWM_QmKZtA",
        "outputId": "001d8b3b-ef67-4271-caaf-b1132ca812df"
      },
      "execution_count": 6,
      "outputs": [
        {
          "output_type": "error",
          "ename": "HTTPError",
          "evalue": "ignored",
          "traceback": [
            "\u001b[0;31m---------------------------------------------------------------------------\u001b[0m",
            "\u001b[0;31mHTTPError\u001b[0m                                 Traceback (most recent call last)",
            "\u001b[0;32m<ipython-input-6-c5475685fb02>\u001b[0m in \u001b[0;36m<module>\u001b[0;34m\u001b[0m\n\u001b[1;32m      4\u001b[0m \u001b[0mparams\u001b[0m \u001b[0;34m=\u001b[0m \u001b[0;34m{\u001b[0m\u001b[0;34m\"q\"\u001b[0m\u001b[0;34m:\u001b[0m \u001b[0msearch_term\u001b[0m\u001b[0;34m,\u001b[0m \u001b[0;34m\"textDecorations\"\u001b[0m\u001b[0;34m:\u001b[0m \u001b[0;32mTrue\u001b[0m\u001b[0;34m,\u001b[0m \u001b[0;34m\"textFormat\"\u001b[0m\u001b[0;34m:\u001b[0m \u001b[0;34m\"HTML\"\u001b[0m\u001b[0;34m}\u001b[0m\u001b[0;34m\u001b[0m\u001b[0;34m\u001b[0m\u001b[0m\n\u001b[1;32m      5\u001b[0m \u001b[0mresponse\u001b[0m \u001b[0;34m=\u001b[0m \u001b[0mrequests\u001b[0m\u001b[0;34m.\u001b[0m\u001b[0mget\u001b[0m\u001b[0;34m(\u001b[0m\u001b[0msearch_url\u001b[0m\u001b[0;34m,\u001b[0m \u001b[0mheaders\u001b[0m\u001b[0;34m=\u001b[0m\u001b[0mheaders\u001b[0m\u001b[0;34m,\u001b[0m \u001b[0mparams\u001b[0m\u001b[0;34m=\u001b[0m\u001b[0mparams\u001b[0m\u001b[0;34m)\u001b[0m\u001b[0;34m\u001b[0m\u001b[0;34m\u001b[0m\u001b[0m\n\u001b[0;32m----> 6\u001b[0;31m \u001b[0mresponse\u001b[0m\u001b[0;34m.\u001b[0m\u001b[0mraise_for_status\u001b[0m\u001b[0;34m(\u001b[0m\u001b[0;34m)\u001b[0m\u001b[0;34m\u001b[0m\u001b[0;34m\u001b[0m\u001b[0m\n\u001b[0m\u001b[1;32m      7\u001b[0m \u001b[0msearch_results\u001b[0m \u001b[0;34m=\u001b[0m \u001b[0mresponse\u001b[0m\u001b[0;34m.\u001b[0m\u001b[0mjson\u001b[0m\u001b[0;34m(\u001b[0m\u001b[0;34m)\u001b[0m\u001b[0;34m\u001b[0m\u001b[0;34m\u001b[0m\u001b[0m\n",
            "\u001b[0;32m/usr/local/lib/python3.7/dist-packages/requests/models.py\u001b[0m in \u001b[0;36mraise_for_status\u001b[0;34m(self)\u001b[0m\n\u001b[1;32m    939\u001b[0m \u001b[0;34m\u001b[0m\u001b[0m\n\u001b[1;32m    940\u001b[0m         \u001b[0;32mif\u001b[0m \u001b[0mhttp_error_msg\u001b[0m\u001b[0;34m:\u001b[0m\u001b[0;34m\u001b[0m\u001b[0;34m\u001b[0m\u001b[0m\n\u001b[0;32m--> 941\u001b[0;31m             \u001b[0;32mraise\u001b[0m \u001b[0mHTTPError\u001b[0m\u001b[0;34m(\u001b[0m\u001b[0mhttp_error_msg\u001b[0m\u001b[0;34m,\u001b[0m \u001b[0mresponse\u001b[0m\u001b[0;34m=\u001b[0m\u001b[0mself\u001b[0m\u001b[0;34m)\u001b[0m\u001b[0;34m\u001b[0m\u001b[0;34m\u001b[0m\u001b[0m\n\u001b[0m\u001b[1;32m    942\u001b[0m \u001b[0;34m\u001b[0m\u001b[0m\n\u001b[1;32m    943\u001b[0m     \u001b[0;32mdef\u001b[0m \u001b[0mclose\u001b[0m\u001b[0;34m(\u001b[0m\u001b[0mself\u001b[0m\u001b[0;34m)\u001b[0m\u001b[0;34m:\u001b[0m\u001b[0;34m\u001b[0m\u001b[0;34m\u001b[0m\u001b[0m\n",
            "\u001b[0;31mHTTPError\u001b[0m: 401 Client Error: PermissionDenied for url: https://api.bing.microsoft.com/v7.0/search?q=Azure+Cognitive+Services&textDecorations=True&textFormat=HTML"
          ]
        }
      ]
    }
  ]
}