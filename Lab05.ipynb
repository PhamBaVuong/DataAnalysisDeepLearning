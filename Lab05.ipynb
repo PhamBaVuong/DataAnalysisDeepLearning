{
  "nbformat": 4,
  "nbformat_minor": 0,
  "metadata": {
    "colab": {
      "name": "Lab05.ipynb",
      "provenance": [],
      "authorship_tag": "ABX9TyNyvopBOfXICCLkwMt2q166",
      "include_colab_link": true
    },
    "kernelspec": {
      "name": "python3",
      "display_name": "Python 3"
    },
    "language_info": {
      "name": "python"
    }
  },
  "cells": [
    {
      "cell_type": "markdown",
      "metadata": {
        "id": "view-in-github",
        "colab_type": "text"
      },
      "source": [
        "<a href=\"https://colab.research.google.com/github/PhamBaVuong/DataAnalysisDeepLearning/blob/main/Lab05.ipynb\" target=\"_parent\"><img src=\"https://colab.research.google.com/assets/colab-badge.svg\" alt=\"Open In Colab\"/></a>"
      ]
    },
    {
      "cell_type": "code",
      "metadata": {
        "colab": {
          "resources": {
            "http://localhost:8080/nbextensions/google.colab/files.js": {
              "data": "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",
              "ok": true,
              "headers": [
                [
                  "content-type",
                  "application/javascript"
                ]
              ],
              "status": 200,
              "status_text": ""
            }
          },
          "base_uri": "https://localhost:8080/",
          "height": 73
        },
        "id": "IZYqKWC1V7Tu",
        "outputId": "4a8067ca-79b3-4515-f30c-063fb35b54f8"
      },
      "source": [
        "from google.colab import files\n",
        "uploaded = files.upload()"
      ],
      "execution_count": null,
      "outputs": [
        {
          "output_type": "display_data",
          "data": {
            "text/html": [
              "\n",
              "     <input type=\"file\" id=\"files-d378b9ff-f9f6-471c-b8b3-7974c5b2d2a9\" name=\"files[]\" multiple disabled\n",
              "        style=\"border:none\" />\n",
              "     <output id=\"result-d378b9ff-f9f6-471c-b8b3-7974c5b2d2a9\">\n",
              "      Upload widget is only available when the cell has been executed in the\n",
              "      current browser session. Please rerun this cell to enable.\n",
              "      </output>\n",
              "      <script src=\"/nbextensions/google.colab/files.js\"></script> "
            ],
            "text/plain": [
              "<IPython.core.display.HTML object>"
            ]
          },
          "metadata": {}
        },
        {
          "output_type": "stream",
          "name": "stdout",
          "text": [
            "Saving babies.csv to babies (1).csv\n"
          ]
        }
      ]
    },
    {
      "cell_type": "code",
      "metadata": {
        "id": "yTG85gRVxOnE"
      },
      "source": [
        "import pandas as pd\n",
        "import io"
      ],
      "execution_count": null,
      "outputs": []
    },
    {
      "cell_type": "code",
      "metadata": {
        "id": "UaniEy1_xVX2"
      },
      "source": [
        "datababies = pd.read_csv(io.StringIO(uploaded['babies.csv'].decode('utf-8')))"
      ],
      "execution_count": null,
      "outputs": []
    },
    {
      "cell_type": "code",
      "metadata": {
        "id": "cFYIM-4GxpYt",
        "colab": {
          "base_uri": "https://localhost:8080/",
          "height": 417
        },
        "outputId": "626d03ab-58c5-450a-a132-1d2153ed7927"
      },
      "source": [
        "datababies"
      ],
      "execution_count": null,
      "outputs": [
        {
          "output_type": "execute_result",
          "data": {
            "text/html": [
              "<div>\n",
              "<style scoped>\n",
              "    .dataframe tbody tr th:only-of-type {\n",
              "        vertical-align: middle;\n",
              "    }\n",
              "\n",
              "    .dataframe tbody tr th {\n",
              "        vertical-align: top;\n",
              "    }\n",
              "\n",
              "    .dataframe thead th {\n",
              "        text-align: right;\n",
              "    }\n",
              "</style>\n",
              "<table border=\"1\" class=\"dataframe\">\n",
              "  <thead>\n",
              "    <tr style=\"text-align: right;\">\n",
              "      <th></th>\n",
              "      <th>bwt</th>\n",
              "      <th>smoke</th>\n",
              "    </tr>\n",
              "  </thead>\n",
              "  <tbody>\n",
              "    <tr>\n",
              "      <th>0</th>\n",
              "      <td>120</td>\n",
              "      <td>0</td>\n",
              "    </tr>\n",
              "    <tr>\n",
              "      <th>1</th>\n",
              "      <td>113</td>\n",
              "      <td>0</td>\n",
              "    </tr>\n",
              "    <tr>\n",
              "      <th>2</th>\n",
              "      <td>128</td>\n",
              "      <td>1</td>\n",
              "    </tr>\n",
              "    <tr>\n",
              "      <th>3</th>\n",
              "      <td>123</td>\n",
              "      <td>0</td>\n",
              "    </tr>\n",
              "    <tr>\n",
              "      <th>4</th>\n",
              "      <td>108</td>\n",
              "      <td>1</td>\n",
              "    </tr>\n",
              "    <tr>\n",
              "      <th>...</th>\n",
              "      <td>...</td>\n",
              "      <td>...</td>\n",
              "    </tr>\n",
              "    <tr>\n",
              "      <th>1231</th>\n",
              "      <td>113</td>\n",
              "      <td>0</td>\n",
              "    </tr>\n",
              "    <tr>\n",
              "      <th>1232</th>\n",
              "      <td>128</td>\n",
              "      <td>0</td>\n",
              "    </tr>\n",
              "    <tr>\n",
              "      <th>1233</th>\n",
              "      <td>130</td>\n",
              "      <td>1</td>\n",
              "    </tr>\n",
              "    <tr>\n",
              "      <th>1234</th>\n",
              "      <td>125</td>\n",
              "      <td>0</td>\n",
              "    </tr>\n",
              "    <tr>\n",
              "      <th>1235</th>\n",
              "      <td>117</td>\n",
              "      <td>0</td>\n",
              "    </tr>\n",
              "  </tbody>\n",
              "</table>\n",
              "<p>1236 rows × 2 columns</p>\n",
              "</div>"
            ],
            "text/plain": [
              "      bwt  smoke\n",
              "0     120      0\n",
              "1     113      0\n",
              "2     128      1\n",
              "3     123      0\n",
              "4     108      1\n",
              "...   ...    ...\n",
              "1231  113      0\n",
              "1232  128      0\n",
              "1233  130      1\n",
              "1234  125      0\n",
              "1235  117      0\n",
              "\n",
              "[1236 rows x 2 columns]"
            ]
          },
          "metadata": {},
          "execution_count": 201
        }
      ]
    },
    {
      "cell_type": "markdown",
      "metadata": {
        "id": "g38Q0tXj4VQt"
      },
      "source": [
        "# 1. Mô tả dữ liệu bằng các giá trị số:"
      ]
    },
    {
      "cell_type": "markdown",
      "metadata": {
        "id": "0F2ix3k729DU"
      },
      "source": [
        "1. Tính các đại lượng thống kê mô tả từ đó rút ra nhận xét về từng tập dữ liệu (cân nặng của trẻ trong trường hợp bà mẹ hút thuốc và cân nặng của trẻ trong trường hợp bà mẹ không hút thuốc)."
      ]
    },
    {
      "cell_type": "code",
      "metadata": {
        "id": "C7lpRKM02gpL"
      },
      "source": [
        "import numpy as np\n",
        "import seaborn as sns\n",
        "from scipy.stats import kurtosis, skew"
      ],
      "execution_count": null,
      "outputs": []
    },
    {
      "cell_type": "code",
      "metadata": {
        "id": "pfmB3g1O9Fmk"
      },
      "source": [
        "datababies0 = datababies.loc[datababies['smoke'] == 0]\n",
        "datababies1 = datababies.loc[datababies['smoke'] == 1]\n",
        "datababies01 = datababies.loc[(datababies['smoke'] == 0 | (datababies['smoke'] == 1))]"
      ],
      "execution_count": null,
      "outputs": []
    },
    {
      "cell_type": "code",
      "metadata": {
        "id": "KgSr9Z1wBGgV",
        "colab": {
          "base_uri": "https://localhost:8080/",
          "height": 417
        },
        "outputId": "c8dd689f-4c09-44b5-efea-43b9a052bb94"
      },
      "source": [
        "datababies01"
      ],
      "execution_count": null,
      "outputs": [
        {
          "output_type": "execute_result",
          "data": {
            "text/html": [
              "<div>\n",
              "<style scoped>\n",
              "    .dataframe tbody tr th:only-of-type {\n",
              "        vertical-align: middle;\n",
              "    }\n",
              "\n",
              "    .dataframe tbody tr th {\n",
              "        vertical-align: top;\n",
              "    }\n",
              "\n",
              "    .dataframe thead th {\n",
              "        text-align: right;\n",
              "    }\n",
              "</style>\n",
              "<table border=\"1\" class=\"dataframe\">\n",
              "  <thead>\n",
              "    <tr style=\"text-align: right;\">\n",
              "      <th></th>\n",
              "      <th>bwt</th>\n",
              "      <th>smoke</th>\n",
              "    </tr>\n",
              "  </thead>\n",
              "  <tbody>\n",
              "    <tr>\n",
              "      <th>0</th>\n",
              "      <td>120</td>\n",
              "      <td>0</td>\n",
              "    </tr>\n",
              "    <tr>\n",
              "      <th>1</th>\n",
              "      <td>113</td>\n",
              "      <td>0</td>\n",
              "    </tr>\n",
              "    <tr>\n",
              "      <th>2</th>\n",
              "      <td>128</td>\n",
              "      <td>1</td>\n",
              "    </tr>\n",
              "    <tr>\n",
              "      <th>3</th>\n",
              "      <td>123</td>\n",
              "      <td>0</td>\n",
              "    </tr>\n",
              "    <tr>\n",
              "      <th>4</th>\n",
              "      <td>108</td>\n",
              "      <td>1</td>\n",
              "    </tr>\n",
              "    <tr>\n",
              "      <th>...</th>\n",
              "      <td>...</td>\n",
              "      <td>...</td>\n",
              "    </tr>\n",
              "    <tr>\n",
              "      <th>1231</th>\n",
              "      <td>113</td>\n",
              "      <td>0</td>\n",
              "    </tr>\n",
              "    <tr>\n",
              "      <th>1232</th>\n",
              "      <td>128</td>\n",
              "      <td>0</td>\n",
              "    </tr>\n",
              "    <tr>\n",
              "      <th>1233</th>\n",
              "      <td>130</td>\n",
              "      <td>1</td>\n",
              "    </tr>\n",
              "    <tr>\n",
              "      <th>1234</th>\n",
              "      <td>125</td>\n",
              "      <td>0</td>\n",
              "    </tr>\n",
              "    <tr>\n",
              "      <th>1235</th>\n",
              "      <td>117</td>\n",
              "      <td>0</td>\n",
              "    </tr>\n",
              "  </tbody>\n",
              "</table>\n",
              "<p>1226 rows × 2 columns</p>\n",
              "</div>"
            ],
            "text/plain": [
              "      bwt  smoke\n",
              "0     120      0\n",
              "1     113      0\n",
              "2     128      1\n",
              "3     123      0\n",
              "4     108      1\n",
              "...   ...    ...\n",
              "1231  113      0\n",
              "1232  128      0\n",
              "1233  130      1\n",
              "1234  125      0\n",
              "1235  117      0\n",
              "\n",
              "[1226 rows x 2 columns]"
            ]
          },
          "metadata": {},
          "execution_count": 204
        }
      ]
    },
    {
      "cell_type": "code",
      "metadata": {
        "id": "MU0hwSEEcQDA"
      },
      "source": [
        "def Quantile0(n):\n",
        "  return np.percentile(n, 0)\n",
        "\n",
        "def Quantile25(n):\n",
        "  return np.percentile(n, 25)\n",
        "\n",
        "def Quantile50(n):\n",
        "  return np.percentile(n, 50)\n",
        "\n",
        "def Quantile75(n):\n",
        "  return np.percentile(n, 75)\n",
        "\n",
        "def IQR(n):\n",
        "  return Quantile75(n) - Quantile25(n)\n",
        "\n",
        "def Skewness(n):\n",
        "  return skew(n, bias = False)\n",
        "\n",
        "def Kurtosis(n):\n",
        "  return kurtosis(n, bias = False) + 3"
      ],
      "execution_count": null,
      "outputs": []
    },
    {
      "cell_type": "code",
      "metadata": {
        "id": "oRjKHxenmUz7",
        "colab": {
          "base_uri": "https://localhost:8080/"
        },
        "outputId": "24acc83e-12e6-41b2-eaf2-8df104bdf56d"
      },
      "source": [
        "des_babies0 =  datababies0['bwt'].describe()\n",
        "des_babies0"
      ],
      "execution_count": null,
      "outputs": [
        {
          "output_type": "execute_result",
          "data": {
            "text/plain": [
              "count    742.000000\n",
              "mean     123.047170\n",
              "std       17.398689\n",
              "min       55.000000\n",
              "25%      113.000000\n",
              "50%      123.000000\n",
              "75%      134.000000\n",
              "max      176.000000\n",
              "Name: bwt, dtype: float64"
            ]
          },
          "metadata": {},
          "execution_count": 206
        }
      ]
    },
    {
      "cell_type": "code",
      "metadata": {
        "id": "nZONWFwlmiUD",
        "colab": {
          "base_uri": "https://localhost:8080/"
        },
        "outputId": "162d9493-3ad3-4afd-b88e-3254cbadda87"
      },
      "source": [
        "des_babies1 = datababies1['bwt'].describe()\n",
        "des_babies1"
      ],
      "execution_count": null,
      "outputs": [
        {
          "output_type": "execute_result",
          "data": {
            "text/plain": [
              "count    484.000000\n",
              "mean     114.109504\n",
              "std       18.098946\n",
              "min       58.000000\n",
              "25%      102.000000\n",
              "50%      115.000000\n",
              "75%      126.000000\n",
              "max      163.000000\n",
              "Name: bwt, dtype: float64"
            ]
          },
          "metadata": {},
          "execution_count": 207
        }
      ]
    },
    {
      "cell_type": "code",
      "metadata": {
        "id": "DtHMeYrz6bn1",
        "colab": {
          "base_uri": "https://localhost:8080/",
          "height": 172
        },
        "outputId": "858a73d4-406b-40cf-c1ab-d942d7c5c965"
      },
      "source": [
        "datababies01.pivot_table(index = 'smoke', values = 'bwt', aggfunc = ['count', 'min', 'max', 'mean', 'median', 'var', 'std', Quantile0, Quantile25, Quantile50, Quantile75, IQR, Skewness, Kurtosis]).rename(index = {0: 'Bà mẹ không hút thuốc', 1: 'Bà mẹ hút thuốc'})"
      ],
      "execution_count": null,
      "outputs": [
        {
          "output_type": "execute_result",
          "data": {
            "text/html": [
              "<div>\n",
              "<style scoped>\n",
              "    .dataframe tbody tr th:only-of-type {\n",
              "        vertical-align: middle;\n",
              "    }\n",
              "\n",
              "    .dataframe tbody tr th {\n",
              "        vertical-align: top;\n",
              "    }\n",
              "\n",
              "    .dataframe thead tr th {\n",
              "        text-align: left;\n",
              "    }\n",
              "\n",
              "    .dataframe thead tr:last-of-type th {\n",
              "        text-align: right;\n",
              "    }\n",
              "</style>\n",
              "<table border=\"1\" class=\"dataframe\">\n",
              "  <thead>\n",
              "    <tr>\n",
              "      <th></th>\n",
              "      <th>count</th>\n",
              "      <th>min</th>\n",
              "      <th>max</th>\n",
              "      <th>mean</th>\n",
              "      <th>median</th>\n",
              "      <th>var</th>\n",
              "      <th>std</th>\n",
              "      <th>Quantile0</th>\n",
              "      <th>Quantile25</th>\n",
              "      <th>Quantile50</th>\n",
              "      <th>Quantile75</th>\n",
              "      <th>IQR</th>\n",
              "      <th>Skewness</th>\n",
              "      <th>Kurtosis</th>\n",
              "    </tr>\n",
              "    <tr>\n",
              "      <th></th>\n",
              "      <th>bwt</th>\n",
              "      <th>bwt</th>\n",
              "      <th>bwt</th>\n",
              "      <th>bwt</th>\n",
              "      <th>bwt</th>\n",
              "      <th>bwt</th>\n",
              "      <th>bwt</th>\n",
              "      <th>bwt</th>\n",
              "      <th>bwt</th>\n",
              "      <th>bwt</th>\n",
              "      <th>bwt</th>\n",
              "      <th>bwt</th>\n",
              "      <th>bwt</th>\n",
              "      <th>bwt</th>\n",
              "    </tr>\n",
              "    <tr>\n",
              "      <th>smoke</th>\n",
              "      <th></th>\n",
              "      <th></th>\n",
              "      <th></th>\n",
              "      <th></th>\n",
              "      <th></th>\n",
              "      <th></th>\n",
              "      <th></th>\n",
              "      <th></th>\n",
              "      <th></th>\n",
              "      <th></th>\n",
              "      <th></th>\n",
              "      <th></th>\n",
              "      <th></th>\n",
              "      <th></th>\n",
              "    </tr>\n",
              "  </thead>\n",
              "  <tbody>\n",
              "    <tr>\n",
              "      <th>Bà mẹ không hút thuốc</th>\n",
              "      <td>742</td>\n",
              "      <td>55</td>\n",
              "      <td>176</td>\n",
              "      <td>123.047170</td>\n",
              "      <td>123</td>\n",
              "      <td>302.714371</td>\n",
              "      <td>17.398689</td>\n",
              "      <td>55</td>\n",
              "      <td>113</td>\n",
              "      <td>123</td>\n",
              "      <td>134</td>\n",
              "      <td>21</td>\n",
              "      <td>-0.187363</td>\n",
              "      <td>4.052213</td>\n",
              "    </tr>\n",
              "    <tr>\n",
              "      <th>Bà mẹ hút thuốc</th>\n",
              "      <td>484</td>\n",
              "      <td>58</td>\n",
              "      <td>163</td>\n",
              "      <td>114.109504</td>\n",
              "      <td>115</td>\n",
              "      <td>327.571835</td>\n",
              "      <td>18.098946</td>\n",
              "      <td>58</td>\n",
              "      <td>102</td>\n",
              "      <td>115</td>\n",
              "      <td>126</td>\n",
              "      <td>24</td>\n",
              "      <td>-0.033700</td>\n",
              "      <td>3.000408</td>\n",
              "    </tr>\n",
              "  </tbody>\n",
              "</table>\n",
              "</div>"
            ],
            "text/plain": [
              "                      count min  max  ... IQR  Skewness  Kurtosis\n",
              "                        bwt bwt  bwt  ... bwt       bwt       bwt\n",
              "smoke                                 ...                        \n",
              "Bà mẹ không hút thuốc   742  55  176  ...  21 -0.187363  4.052213\n",
              "Bà mẹ hút thuốc         484  58  163  ...  24 -0.033700  3.000408\n",
              "\n",
              "[2 rows x 14 columns]"
            ]
          },
          "metadata": {},
          "execution_count": 208
        }
      ]
    },
    {
      "cell_type": "markdown",
      "metadata": {
        "id": "gEyYeo-dDDQb"
      },
      "source": [
        "1. Xét tập dữ liệu ứng với trường hợp bà mẹ có hút thuốc"
      ]
    },
    {
      "cell_type": "code",
      "metadata": {
        "id": "398dHXTEhhiS",
        "colab": {
          "base_uri": "https://localhost:8080/",
          "height": 386
        },
        "outputId": "8a551869-3afc-4cce-bb19-2f745365f712"
      },
      "source": [
        "sns.displot(datababies1, x = 'bwt', kde = True)"
      ],
      "execution_count": null,
      "outputs": [
        {
          "output_type": "execute_result",
          "data": {
            "text/plain": [
              "<seaborn.axisgrid.FacetGrid at 0x7f629f96d350>"
            ]
          },
          "metadata": {},
          "execution_count": 209
        },
        {
          "output_type": "display_data",
          "data": {
            "image/png": "[encoded data removed]",
            "text/plain": [
              "<Figure size 360x360 with 1 Axes>"
            ]
          },
          "metadata": {
            "needs_background": "light"
          }
        }
      ]
    },
    {
      "cell_type": "markdown",
      "metadata": {
        "id": "1D_xnzI-eSum"
      },
      "source": [
        "Vị trí tập trung của dữ liệu: khoảng giá trị: 114-115\n",
        "\n",
        "Tính biến động của dữ liệu: \n",
        "\n",
        "Phương sai (variance): var = 327.57183495029346\n",
        "\n",
        "Độ lệch chuẩn(standard deviation): sd = 18.09894568615237\n",
        "\n",
        "Khoảng giá trị: min = 58, max = 163 -> range = 105\n",
        "\n",
        "Khoảng cách giữa 2 phần tư vị: IQR = Q3 - Q1 = 126 - 102 = 24\n",
        "\n",
        "Nhận xét: Như vậy dữ liệu phân bố gần nhau. \n",
        "\n",
        "Hình dạng phân bố của dữ liệu:\n",
        "\n",
        "Độ lệch: Skewness = -0.03359497605204854\n",
        "\n",
        "Độ bè nhọn của đỉnh dữ liệu: Kurtosis  = 2.988032478793404\n",
        "\n",
        "Nhận xét: Như vậy dữ liệu hơi lệch về phía trái, và đỉnh nhọn, hai bên giảm với\n",
        "\n",
        " tốc độ vừa phải."
      ]
    },
    {
      "cell_type": "markdown",
      "metadata": {
        "id": "cyzUWIvvDLGs"
      },
      "source": [
        "2. Xét tập dữ liệu ứng với trường hợp bà mẹ không hút thuốc"
      ]
    },
    {
      "cell_type": "code",
      "metadata": {
        "id": "XpNRqBP8h1TL",
        "colab": {
          "base_uri": "https://localhost:8080/",
          "height": 386
        },
        "outputId": "38b9863a-e4b4-40a8-c6dc-183b85cf3aac"
      },
      "source": [
        "sns.displot(datababies0, x = 'bwt', kde = True)"
      ],
      "execution_count": null,
      "outputs": [
        {
          "output_type": "execute_result",
          "data": {
            "text/plain": [
              "<seaborn.axisgrid.FacetGrid at 0x7f629fd07f90>"
            ]
          },
          "metadata": {},
          "execution_count": 210
        },
        {
          "output_type": "display_data",
          "data": {
            "image/png": "[encoded data removed]",
            "text/plain": [
              "<Figure size 360x360 with 1 Axes>"
            ]
          },
          "metadata": {
            "needs_background": "light"
          }
        }
      ]
    },
    {
      "cell_type": "markdown",
      "metadata": {
        "id": "lriW6h8rfHR4"
      },
      "source": [
        "Vị trí tập trung của dữ liệu: khoảng giá trị: 123\n",
        "\n",
        "Tính biến động của dữ liệu:\n",
        "\n",
        "Phương sai (variance): var = 302.714371\n",
        "\n",
        "Độ lệch chuẩn(standard deviation): sd = 17.398689\n",
        "\n",
        "Khoảng giá trị: min = 55, max = 176 -> range = 121\n",
        "\n",
        "Khoảng cách giữa 2 phần tư vị: IQR = Q3 - Q1 = 134 - 113 = 21\n",
        "\n",
        "Nhận xét: Như vậy dữ liệu phân bố gần nhau.\n",
        "\n",
        "Hình dạng phân bố của dữ liệu:\n",
        "\n",
        "Độ lệch: Skewness = -0.187363\n",
        "\n",
        "Độ bè nhọn của đỉnh dữ liệu: Kurtosis = 4.052213\n",
        "\n",
        "Nhận xét: Như vậy dữ liệu hơi lệch về bên trái."
      ]
    },
    {
      "cell_type": "markdown",
      "metadata": {
        "id": "gh-j1u0vqL4O"
      },
      "source": [
        "So sánh các giá trị thống kê mô tả của hai tập dữ liệu.\n",
        "\n",
        "Sự khác biệt về vị trí tập trung dữ liệu: chênh lệch khoảng 123 - 115 = 8\n",
        "\n",
        "Nhận xét: khác biệt không đáng kể."
      ]
    },
    {
      "cell_type": "code",
      "metadata": {
        "id": "mReQ8b901F4Q"
      },
      "source": [
        "def Range(n):\n",
        "  return max(n) - min(n)"
      ],
      "execution_count": null,
      "outputs": []
    },
    {
      "cell_type": "code",
      "metadata": {
        "id": "ETf7AO9S0Idl"
      },
      "source": [
        "bien_dong_du_lieu_1 = datababies1.pivot_table(index = 'smoke', values = 'bwt', aggfunc = ['std', 'var', Range, IQR]).rename(index = {1: 'Chênh lệch'})"
      ],
      "execution_count": null,
      "outputs": []
    },
    {
      "cell_type": "code",
      "metadata": {
        "id": "9VvnQPHi0gZE"
      },
      "source": [
        "bien_dong_du_lieu_0 = datababies0.pivot_table(index = 'smoke', values = 'bwt', aggfunc = ['std', 'var', Range, IQR]).rename(index = {0: 'Chênh lệch'})"
      ],
      "execution_count": null,
      "outputs": []
    },
    {
      "cell_type": "code",
      "metadata": {
        "id": "5isxsXr50UY2",
        "colab": {
          "base_uri": "https://localhost:8080/",
          "height": 142
        },
        "outputId": "cf135e55-e2d0-4a2d-fd09-0fa6fed2b865"
      },
      "source": [
        "bien_dong_du_lieu_01 = bien_dong_du_lieu_0 - bien_dong_du_lieu_1\n",
        "bien_dong_du_lieu_01"
      ],
      "execution_count": null,
      "outputs": [
        {
          "output_type": "execute_result",
          "data": {
            "text/html": [
              "<div>\n",
              "<style scoped>\n",
              "    .dataframe tbody tr th:only-of-type {\n",
              "        vertical-align: middle;\n",
              "    }\n",
              "\n",
              "    .dataframe tbody tr th {\n",
              "        vertical-align: top;\n",
              "    }\n",
              "\n",
              "    .dataframe thead tr th {\n",
              "        text-align: left;\n",
              "    }\n",
              "\n",
              "    .dataframe thead tr:last-of-type th {\n",
              "        text-align: right;\n",
              "    }\n",
              "</style>\n",
              "<table border=\"1\" class=\"dataframe\">\n",
              "  <thead>\n",
              "    <tr>\n",
              "      <th></th>\n",
              "      <th>std</th>\n",
              "      <th>var</th>\n",
              "      <th>Range</th>\n",
              "      <th>IQR</th>\n",
              "    </tr>\n",
              "    <tr>\n",
              "      <th></th>\n",
              "      <th>bwt</th>\n",
              "      <th>bwt</th>\n",
              "      <th>bwt</th>\n",
              "      <th>bwt</th>\n",
              "    </tr>\n",
              "    <tr>\n",
              "      <th>smoke</th>\n",
              "      <th></th>\n",
              "      <th></th>\n",
              "      <th></th>\n",
              "      <th></th>\n",
              "    </tr>\n",
              "  </thead>\n",
              "  <tbody>\n",
              "    <tr>\n",
              "      <th>Chênh lệch</th>\n",
              "      <td>-0.700257</td>\n",
              "      <td>-24.857464</td>\n",
              "      <td>16</td>\n",
              "      <td>-3</td>\n",
              "    </tr>\n",
              "  </tbody>\n",
              "</table>\n",
              "</div>"
            ],
            "text/plain": [
              "                 std        var Range IQR\n",
              "                 bwt        bwt   bwt bwt\n",
              "smoke                                    \n",
              "Chênh lệch -0.700257 -24.857464    16  -3"
            ]
          },
          "metadata": {},
          "execution_count": 214
        }
      ]
    },
    {
      "cell_type": "markdown",
      "metadata": {
        "id": "cKLllGadygRt"
      },
      "source": [
        "Dữ liệu trong trường hợp bà mẹ không hút thuốc có phân bố rộng hơn nhưng phần dữ liệu tập trung lại hẹp hơn so với trường hợp bà mẹ có hút thuốc. Sự biến động của dữ liệu trong hai trường hợp không khác biệt nhiều."
      ]
    },
    {
      "cell_type": "code",
      "metadata": {
        "id": "OAfMtZfM3KDP"
      },
      "source": [
        "hinh_dang_du_lieu_1 = datababies1.pivot_table(index = 'smoke', values = 'bwt', aggfunc = [Skewness, Kurtosis]).rename(index = {1: 'Chênh lệch'})"
      ],
      "execution_count": null,
      "outputs": []
    },
    {
      "cell_type": "code",
      "metadata": {
        "id": "QoGo3e8R3bph"
      },
      "source": [
        "hinh_dang_du_lieu_0 = datababies0.pivot_table(index = 'smoke', values = 'bwt', aggfunc = [Skewness, Kurtosis]).rename(index = {0: 'Chênh lệch'})"
      ],
      "execution_count": null,
      "outputs": []
    },
    {
      "cell_type": "code",
      "metadata": {
        "id": "AtF6FQtv317l",
        "colab": {
          "base_uri": "https://localhost:8080/",
          "height": 142
        },
        "outputId": "f730f1d8-a302-4f2c-b420-103a4611d283"
      },
      "source": [
        "hinh_dang_du_lieu_01 = hinh_dang_du_lieu_0 - hinh_dang_du_lieu_1\n",
        "hinh_dang_du_lieu_01"
      ],
      "execution_count": null,
      "outputs": [
        {
          "output_type": "execute_result",
          "data": {
            "text/html": [
              "<div>\n",
              "<style scoped>\n",
              "    .dataframe tbody tr th:only-of-type {\n",
              "        vertical-align: middle;\n",
              "    }\n",
              "\n",
              "    .dataframe tbody tr th {\n",
              "        vertical-align: top;\n",
              "    }\n",
              "\n",
              "    .dataframe thead tr th {\n",
              "        text-align: left;\n",
              "    }\n",
              "\n",
              "    .dataframe thead tr:last-of-type th {\n",
              "        text-align: right;\n",
              "    }\n",
              "</style>\n",
              "<table border=\"1\" class=\"dataframe\">\n",
              "  <thead>\n",
              "    <tr>\n",
              "      <th></th>\n",
              "      <th>Skewness</th>\n",
              "      <th>Kurtosis</th>\n",
              "    </tr>\n",
              "    <tr>\n",
              "      <th></th>\n",
              "      <th>bwt</th>\n",
              "      <th>bwt</th>\n",
              "    </tr>\n",
              "    <tr>\n",
              "      <th>smoke</th>\n",
              "      <th></th>\n",
              "      <th></th>\n",
              "    </tr>\n",
              "  </thead>\n",
              "  <tbody>\n",
              "    <tr>\n",
              "      <th>Chênh lệch</th>\n",
              "      <td>-0.153664</td>\n",
              "      <td>1.051805</td>\n",
              "    </tr>\n",
              "  </tbody>\n",
              "</table>\n",
              "</div>"
            ],
            "text/plain": [
              "            Skewness  Kurtosis\n",
              "                 bwt       bwt\n",
              "smoke                         \n",
              "Chênh lệch -0.153664  1.051805"
            ]
          },
          "metadata": {},
          "execution_count": 217
        }
      ]
    },
    {
      "cell_type": "markdown",
      "metadata": {
        "id": "JUqAhgBZ4Ksb"
      },
      "source": [
        "Nhận xét: trường hợp bà mẹ hút thuốc có phân bố dữ liệu nhọn hơn, đối xứng hơn so với trường hợp không hút thuốc. Cả 2 trường hợp đều hơi lệch về trái. "
      ]
    },
    {
      "cell_type": "markdown",
      "metadata": {
        "id": "vj29ALXa4N0D"
      },
      "source": [
        "# 2. Biểu diễn hình học của dữ liệu"
      ]
    },
    {
      "cell_type": "markdown",
      "metadata": {
        "id": "oU7Ka7_57BHH"
      },
      "source": [
        "**Dữ liệu cân nặng của trẻ trong trường hợp bà mẹ hút thuốc**"
      ]
    },
    {
      "cell_type": "markdown",
      "metadata": {
        "id": "YFqO4-P64qav"
      },
      "source": [
        "Histogram trong trường hợp bà mẹ có hút thuốc:"
      ]
    },
    {
      "cell_type": "code",
      "metadata": {
        "id": "yIZQU2174NYY"
      },
      "source": [
        "import matplotlib.pyplot as plt"
      ],
      "execution_count": null,
      "outputs": []
    },
    {
      "cell_type": "code",
      "metadata": {
        "id": "6Jonfrnc56Sw",
        "colab": {
          "base_uri": "https://localhost:8080/",
          "height": 299
        },
        "outputId": "a7064fef-3ef0-4e6e-9454-3e3dee5ef298"
      },
      "source": [
        "datababies1['bwt'].plot.hist(title = 'Histogram trong trường hợp bà mẹ có hút thuốc')"
      ],
      "execution_count": null,
      "outputs": [
        {
          "output_type": "execute_result",
          "data": {
            "text/plain": [
              "<matplotlib.axes._subplots.AxesSubplot at 0x7f629fb50e10>"
            ]
          },
          "metadata": {},
          "execution_count": 219
        },
        {
          "output_type": "display_data",
          "data": {
            "image/png": "[encoded data removed]",
            "text/plain": [
              "<Figure size 432x288 with 1 Axes>"
            ]
          },
          "metadata": {
            "needs_background": "light"
          }
        }
      ]
    },
    {
      "cell_type": "markdown",
      "metadata": {
        "id": "T6XrHNJ05eUT"
      },
      "source": [
        "Vị trí tập trung dữ liệu: khoảng 110\n",
        "\n",
        "Tính biến động của dữ liệu: dữ liệu phân bố trong khoảng [50-170]\n",
        "\n",
        "Tính đối xứng của phân bố dữ liệu: dữ liệu chỉ có 1 đỉnh. Bắt đầu từ đỉnh, hai bên giảm dần và tốc độ giảm vừa phải. \n",
        "\n",
        "Dữ liệu phân bố gần đối xứng, hơi lệch về phía trái. Hai bên đuôi có độ dài vừa phải. Hai bên đỉnh dữ liệu cũng phân bố vừa phải.\n",
        "\n",
        "Giá trị ngoại lệ: không thấy rõ có giá trị ngoại lệ nào đáng kể"
      ]
    },
    {
      "cell_type": "markdown",
      "metadata": {
        "id": "v40U7QMA6xX7"
      },
      "source": [
        "Boxplot trong trường hợp bà mẹ có hút thuốc"
      ]
    },
    {
      "cell_type": "code",
      "metadata": {
        "id": "RBFl3jgj5dBR",
        "colab": {
          "base_uri": "https://localhost:8080/",
          "height": 299
        },
        "outputId": "53b27f51-b608-40f6-9660-1de273734933"
      },
      "source": [
        "datababies1['bwt'].plot.box(ylabel = 'Cân nặng', title = 'Boxplot trong trường hợp bà mẹ có hút thuốc')"
      ],
      "execution_count": null,
      "outputs": [
        {
          "output_type": "execute_result",
          "data": {
            "text/plain": [
              "<matplotlib.axes._subplots.AxesSubplot at 0x7f629fdcc610>"
            ]
          },
          "metadata": {},
          "execution_count": 220
        },
        {
          "output_type": "display_data",
          "data": {
            "image/png": "[encoded data removed]",
            "text/plain": [
              "<Figure size 432x288 with 1 Axes>"
            ]
          },
          "metadata": {
            "needs_background": "light"
          }
        }
      ]
    },
    {
      "cell_type": "markdown",
      "metadata": {
        "id": "PvGKJamS6pve"
      },
      "source": [
        "Tính biến động của dữ liệu: dữ liệu phân bố tập trung trong khoảng từ [102,126]\n",
        "\n",
        "Giá trị ngoại lệ:có một số giá trị ngoại lệ (lớn hơn 162, nhỏ hơn 66) nhưng không nhiều."
      ]
    },
    {
      "cell_type": "markdown",
      "metadata": {
        "id": "KFkY6gzB7GrT"
      },
      "source": [
        "**Dữ liệu cân nặng của trẻ trong trường hợp bà mẹ không hút thuốc**"
      ]
    },
    {
      "cell_type": "markdown",
      "metadata": {
        "id": "M2c5aY0D76fH"
      },
      "source": [
        "Histogram trong trường hợp bà mẹ không hút thuốc:"
      ]
    },
    {
      "cell_type": "code",
      "metadata": {
        "id": "6bQpgPeg6s2X",
        "colab": {
          "base_uri": "https://localhost:8080/",
          "height": 299
        },
        "outputId": "67decab9-34c3-4f69-9e5b-fe648ba260cc"
      },
      "source": [
        "datababies0['bwt'].plot.hist(title = 'Histogram trong trường hợp bà mẹ không hút thuốc')"
      ],
      "execution_count": null,
      "outputs": [
        {
          "output_type": "execute_result",
          "data": {
            "text/plain": [
              "<matplotlib.axes._subplots.AxesSubplot at 0x7f629f5c2090>"
            ]
          },
          "metadata": {},
          "execution_count": 221
        },
        {
          "output_type": "display_data",
          "data": {
            "image/png": "[encoded data removed]",
            "text/plain": [
              "<Figure size 432x288 with 1 Axes>"
            ]
          },
          "metadata": {
            "needs_background": "light"
          }
        }
      ]
    },
    {
      "cell_type": "markdown",
      "metadata": {
        "id": "1ZL8P2IQ7R2R"
      },
      "source": [
        "Vị trí tập trung dữ liệu: khoảng 120\n",
        "\n",
        "Tính biến động của dữ liệu: dữ liệu phân bố trong khoảng [50-180]\n",
        "\n",
        "Tính đối xứng của phân bố dữ liệu: dữ liệu chỉ có 1 đỉnh. Bắt đầu từ đỉnh, hai bên giảm dần và tốc độ giảm vừa phải.\n",
        "\n",
        "Dữ liệu phân bố gần đối xứng, hơi lệch về phía trái. Hai bên đuôi có độ dài vừa phải. Hai bên đỉnh dữ liệu cũng phân bố vừa phải.\n",
        "\n",
        "Giá trị ngoại lệ: không thấy rõ có giá trị ngoại lệ nào đáng kể"
      ]
    },
    {
      "cell_type": "markdown",
      "metadata": {
        "id": "Ow3FzHNa78J6"
      },
      "source": [
        "Boxplot trong trường hợp bà mẹ không hút thuốc"
      ]
    },
    {
      "cell_type": "code",
      "metadata": {
        "id": "aXFT8Hy07-21",
        "colab": {
          "base_uri": "https://localhost:8080/",
          "height": 299
        },
        "outputId": "89130708-34e2-4c2f-e476-6993017a90eb"
      },
      "source": [
        "datababies0['bwt'].plot.box(ylabel = 'Cân nặng', title = 'Boxplot trong trường hợp bà mẹ không hút thuốc')"
      ],
      "execution_count": null,
      "outputs": [
        {
          "output_type": "execute_result",
          "data": {
            "text/plain": [
              "<matplotlib.axes._subplots.AxesSubplot at 0x7f629f5532d0>"
            ]
          },
          "metadata": {},
          "execution_count": 222
        },
        {
          "output_type": "display_data",
          "data": {
            "image/png": "[encoded data removed]",
            "text/plain": [
              "<Figure size 432x288 with 1 Axes>"
            ]
          },
          "metadata": {
            "needs_background": "light"
          }
        }
      ]
    },
    {
      "cell_type": "markdown",
      "metadata": {
        "id": "jQClJCOJ8KAA"
      },
      "source": [
        "Tính biến động của dữ liệu: dữ liệu phân bố tập trung trong khoảng từ [115, 133]\n",
        "\n",
        "Giá trị ngoại lệ: có nhiều giá trị ngoại lệ (lớn hơn 165, nhỏ hơn 82)."
      ]
    },
    {
      "cell_type": "markdown",
      "metadata": {
        "id": "RbHjB7Q08qMF"
      },
      "source": [
        "**So sánh hai tập dữ liệu dựa vào các biểu diễn hình học**"
      ]
    },
    {
      "cell_type": "markdown",
      "metadata": {
        "id": "aDuXsz-9-R23"
      },
      "source": [
        "Histogram"
      ]
    },
    {
      "cell_type": "code",
      "metadata": {
        "id": "QvWSW_x78yf3",
        "colab": {
          "base_uri": "https://localhost:8080/",
          "height": 386
        },
        "outputId": "32ff428e-232e-4e89-abaf-1c7fff6aa64c"
      },
      "source": [
        "sns.displot(datababies01, x = 'bwt', col = 'smoke', kde = True, bins = 12)"
      ],
      "execution_count": null,
      "outputs": [
        {
          "output_type": "execute_result",
          "data": {
            "text/plain": [
              "<seaborn.axisgrid.FacetGrid at 0x7f629f4c3150>"
            ]
          },
          "metadata": {},
          "execution_count": 223
        },
        {
          "output_type": "display_data",
          "data": {
            "image/png": "[encoded data removed]",
            "text/plain": [
              "<Figure size 720x360 with 2 Axes>"
            ]
          },
          "metadata": {
            "needs_background": "light"
          }
        }
      ]
    },
    {
      "cell_type": "markdown",
      "metadata": {
        "id": "HD3VVzSN974s"
      },
      "source": [
        "Cân nặng của trẻ trong trường hợp bà  mẹ không hút thuốc cao hơn so với trường hợp bà mẹ có hút thuốc \n",
        "\n",
        "Tính biến thiên của 2 tập dữ liệu: tương tự nhau\n",
        "\n",
        "Tính đối xứng của 2 tập dữ liệu: tương tự nhau\n",
        "\n",
        "Giá trị ngoại lệ: cả 2 đều không có giá trị ngoại lệ đáng chú ý."
      ]
    },
    {
      "cell_type": "markdown",
      "metadata": {
        "id": "Y5xQuIY7-WDU"
      },
      "source": [
        "Boxplot"
      ]
    },
    {
      "cell_type": "code",
      "metadata": {
        "id": "Q8hOsv0_-XSn",
        "colab": {
          "base_uri": "https://localhost:8080/",
          "height": 297
        },
        "outputId": "651e5aa2-baa6-413d-8bd5-843662986168"
      },
      "source": [
        "sns.boxplot(x = 'smoke' , y = 'bwt', data = datababies)"
      ],
      "execution_count": null,
      "outputs": [
        {
          "output_type": "execute_result",
          "data": {
            "text/plain": [
              "<matplotlib.axes._subplots.AxesSubplot at 0x7f629fb36490>"
            ]
          },
          "metadata": {},
          "execution_count": 224
        },
        {
          "output_type": "display_data",
          "data": {
            "image/png": "[encoded data removed]",
            "text/plain": [
              "<Figure size 432x288 with 1 Axes>"
            ]
          },
          "metadata": {
            "needs_background": "light"
          }
        }
      ]
    },
    {
      "cell_type": "markdown",
      "metadata": {
        "id": "j0fGs1UM-zp0"
      },
      "source": [
        "Khác biệt về vị trí: giá trị trung vị của trường hợp bà mẹ không hút thuốc lớn hơn trường hợp bà mẹ có hút thuốc (123 và 115). (Trường hợp smoke = 9 là trường hợp không biết bà mẹ có hút thuốc hay không, trung vị trong trường hợp này cao hơn so với 2 trường hợp bà mẹ có hút thuốc và không hút thuốc).\n",
        "\n",
        "Giá trị ngoại lệ: cả 2 trường hợp đều có giá trị ngoại lệ trên và dưới. Trường hợp không hút thuốc có nhiều giá trị ngoại lệ hơn. "
      ]
    },
    {
      "cell_type": "markdown",
      "metadata": {
        "id": "xouHcrRP_A0F"
      },
      "source": [
        "QQ-plot"
      ]
    },
    {
      "cell_type": "code",
      "metadata": {
        "id": "_mG013sL_kN5"
      },
      "source": [
        "import statsmodels.api as sm\n",
        "import pylab as py"
      ],
      "execution_count": null,
      "outputs": []
    },
    {
      "cell_type": "markdown",
      "metadata": {
        "id": "nhGHyZ1OAeJh"
      },
      "source": [
        "QQ-plot trong trường hợp bà mẹ có hút thuốc"
      ]
    },
    {
      "cell_type": "code",
      "metadata": {
        "id": "MBMdaqus_pyf",
        "colab": {
          "base_uri": "https://localhost:8080/",
          "height": 279
        },
        "outputId": "867a2668-baaf-4af9-ab87-23910e8be36b"
      },
      "source": [
        "sm.qqplot(datababies1['bwt'], line = 's')\n",
        "py.show()"
      ],
      "execution_count": null,
      "outputs": [
        {
          "output_type": "display_data",
          "data": {
            "image/png": "[encoded data removed]",
            "text/plain": [
              "<Figure size 432x288 with 1 Axes>"
            ]
          },
          "metadata": {
            "needs_background": "light"
          }
        }
      ]
    },
    {
      "cell_type": "markdown",
      "metadata": {
        "id": "refOtHoxAsAq"
      },
      "source": [
        "QQ-plot trong trường hợp bà mẹ không hút thuốc"
      ]
    },
    {
      "cell_type": "code",
      "metadata": {
        "id": "wSC3_oHpAvSL",
        "colab": {
          "base_uri": "https://localhost:8080/",
          "height": 280
        },
        "outputId": "9f2e9a67-6a69-4c5f-b39b-4fca1a67a74f"
      },
      "source": [
        "sm.qqplot(datababies0['bwt'], line = 's')\n",
        "py.show()"
      ],
      "execution_count": null,
      "outputs": [
        {
          "output_type": "display_data",
          "data": {
            "image/png": "[encoded data removed]",
            "text/plain": [
              "<Figure size 432x288 with 1 Axes>"
            ]
          },
          "metadata": {
            "needs_background": "light"
          }
        }
      ]
    },
    {
      "cell_type": "markdown",
      "metadata": {
        "id": "6wq3AVbRA1RX"
      },
      "source": [
        "Các độ lệch từ đường thẳng của cả 2 trường hợp là tối thiểu. Điều này cho thấy phân phối bình thường.\n",
        "\n",
        "Giá trị ngoại lệ: cả 2 trường hợp đều không có giá trị ngoại lệ đáng chú ý\n",
        "\n",
        "QQ-plot có dạng đường thẳng, suy ra dữ liệu của 2 trường hợp có phân bố tương tự nhau."
      ]
    }
  ]
}